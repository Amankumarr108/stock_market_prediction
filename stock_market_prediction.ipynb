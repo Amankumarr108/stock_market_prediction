{
 "cells": [
  {
   "cell_type": "code",
   "execution_count": 1,
   "id": "93442d1e-4c48-4fec-a9c8-e3629dbd6113",
   "metadata": {},
   "outputs": [],
   "source": [
    "import yfinance as yf\n",
    "import pandas as pd\n",
    "import matplotlib.pyplot as plt\n",
    "\n",
    "%matplotlib inline\n"
   ]
  },
  {
   "cell_type": "code",
   "execution_count": 2,
   "id": "b51eeb22-42c9-4c9f-9344-3efb3dcd76b4",
   "metadata": {},
   "outputs": [
    {
     "name": "stderr",
     "output_type": "stream",
     "text": [
      "C:\\Users\\hawsh\\AppData\\Local\\Temp\\ipykernel_11244\\363771619.py:2: FutureWarning: YF.download() has changed argument auto_adjust default to True\n",
      "  data = yf.download('AAPL', start='2018-01-01', end='2023-12-31')\n",
      "[*********************100%***********************]  1 of 1 completed\n"
     ]
    },
    {
     "data": {
      "text/html": [
       "<div>\n",
       "<style scoped>\n",
       "    .dataframe tbody tr th:only-of-type {\n",
       "        vertical-align: middle;\n",
       "    }\n",
       "\n",
       "    .dataframe tbody tr th {\n",
       "        vertical-align: top;\n",
       "    }\n",
       "\n",
       "    .dataframe thead tr th {\n",
       "        text-align: left;\n",
       "    }\n",
       "\n",
       "    .dataframe thead tr:last-of-type th {\n",
       "        text-align: right;\n",
       "    }\n",
       "</style>\n",
       "<table border=\"1\" class=\"dataframe\">\n",
       "  <thead>\n",
       "    <tr>\n",
       "      <th>Price</th>\n",
       "      <th>Close</th>\n",
       "      <th>High</th>\n",
       "      <th>Low</th>\n",
       "      <th>Open</th>\n",
       "      <th>Volume</th>\n",
       "    </tr>\n",
       "    <tr>\n",
       "      <th>Ticker</th>\n",
       "      <th>AAPL</th>\n",
       "      <th>AAPL</th>\n",
       "      <th>AAPL</th>\n",
       "      <th>AAPL</th>\n",
       "      <th>AAPL</th>\n",
       "    </tr>\n",
       "    <tr>\n",
       "      <th>Date</th>\n",
       "      <th></th>\n",
       "      <th></th>\n",
       "      <th></th>\n",
       "      <th></th>\n",
       "      <th></th>\n",
       "    </tr>\n",
       "  </thead>\n",
       "  <tbody>\n",
       "    <tr>\n",
       "      <th>2018-01-02</th>\n",
       "      <td>40.381001</td>\n",
       "      <td>40.390379</td>\n",
       "      <td>39.677744</td>\n",
       "      <td>39.888723</td>\n",
       "      <td>102223600</td>\n",
       "    </tr>\n",
       "    <tr>\n",
       "      <th>2018-01-03</th>\n",
       "      <td>40.373966</td>\n",
       "      <td>40.917820</td>\n",
       "      <td>40.310676</td>\n",
       "      <td>40.444293</td>\n",
       "      <td>118071600</td>\n",
       "    </tr>\n",
       "    <tr>\n",
       "      <th>2018-01-04</th>\n",
       "      <td>40.561493</td>\n",
       "      <td>40.664638</td>\n",
       "      <td>40.338796</td>\n",
       "      <td>40.446626</td>\n",
       "      <td>89738400</td>\n",
       "    </tr>\n",
       "    <tr>\n",
       "      <th>2018-01-05</th>\n",
       "      <td>41.023296</td>\n",
       "      <td>41.110030</td>\n",
       "      <td>40.566180</td>\n",
       "      <td>40.657604</td>\n",
       "      <td>94640000</td>\n",
       "    </tr>\n",
       "    <tr>\n",
       "      <th>2018-01-08</th>\n",
       "      <td>40.870941</td>\n",
       "      <td>41.166308</td>\n",
       "      <td>40.772482</td>\n",
       "      <td>40.870941</td>\n",
       "      <td>82271200</td>\n",
       "    </tr>\n",
       "  </tbody>\n",
       "</table>\n",
       "</div>"
      ],
      "text/plain": [
       "Price           Close       High        Low       Open     Volume\n",
       "Ticker           AAPL       AAPL       AAPL       AAPL       AAPL\n",
       "Date                                                             \n",
       "2018-01-02  40.381001  40.390379  39.677744  39.888723  102223600\n",
       "2018-01-03  40.373966  40.917820  40.310676  40.444293  118071600\n",
       "2018-01-04  40.561493  40.664638  40.338796  40.446626   89738400\n",
       "2018-01-05  41.023296  41.110030  40.566180  40.657604   94640000\n",
       "2018-01-08  40.870941  41.166308  40.772482  40.870941   82271200"
      ]
     },
     "execution_count": 2,
     "metadata": {},
     "output_type": "execute_result"
    }
   ],
   "source": [
    "# Example: Apple stock (AAPL)\n",
    "data = yf.download('AAPL', start='2018-01-01', end='2023-12-31')\n",
    "data.head()\n"
   ]
  },
  {
   "cell_type": "code",
   "execution_count": 3,
   "id": "92501873-0c53-4709-bbe9-6e2dc260c219",
   "metadata": {},
   "outputs": [
    {
     "name": "stdout",
     "output_type": "stream",
     "text": [
      "Price   Ticker\n",
      "Close   AAPL      0\n",
      "High    AAPL      0\n",
      "Low     AAPL      0\n",
      "Open    AAPL      0\n",
      "Volume  AAPL      0\n",
      "dtype: int64\n"
     ]
    },
    {
     "data": {
      "text/html": [
       "<div>\n",
       "<style scoped>\n",
       "    .dataframe tbody tr th:only-of-type {\n",
       "        vertical-align: middle;\n",
       "    }\n",
       "\n",
       "    .dataframe tbody tr th {\n",
       "        vertical-align: top;\n",
       "    }\n",
       "\n",
       "    .dataframe thead tr th {\n",
       "        text-align: left;\n",
       "    }\n",
       "</style>\n",
       "<table border=\"1\" class=\"dataframe\">\n",
       "  <thead>\n",
       "    <tr>\n",
       "      <th>Price</th>\n",
       "      <th>Date</th>\n",
       "      <th>Close</th>\n",
       "      <th>High</th>\n",
       "      <th>Low</th>\n",
       "      <th>Open</th>\n",
       "      <th>Volume</th>\n",
       "    </tr>\n",
       "    <tr>\n",
       "      <th>Ticker</th>\n",
       "      <th></th>\n",
       "      <th>AAPL</th>\n",
       "      <th>AAPL</th>\n",
       "      <th>AAPL</th>\n",
       "      <th>AAPL</th>\n",
       "      <th>AAPL</th>\n",
       "    </tr>\n",
       "  </thead>\n",
       "  <tbody>\n",
       "    <tr>\n",
       "      <th>0</th>\n",
       "      <td>2018-01-02</td>\n",
       "      <td>40.381001</td>\n",
       "      <td>40.390379</td>\n",
       "      <td>39.677744</td>\n",
       "      <td>39.888723</td>\n",
       "      <td>102223600</td>\n",
       "    </tr>\n",
       "    <tr>\n",
       "      <th>1</th>\n",
       "      <td>2018-01-03</td>\n",
       "      <td>40.373966</td>\n",
       "      <td>40.917820</td>\n",
       "      <td>40.310676</td>\n",
       "      <td>40.444293</td>\n",
       "      <td>118071600</td>\n",
       "    </tr>\n",
       "    <tr>\n",
       "      <th>2</th>\n",
       "      <td>2018-01-04</td>\n",
       "      <td>40.561493</td>\n",
       "      <td>40.664638</td>\n",
       "      <td>40.338796</td>\n",
       "      <td>40.446626</td>\n",
       "      <td>89738400</td>\n",
       "    </tr>\n",
       "    <tr>\n",
       "      <th>3</th>\n",
       "      <td>2018-01-05</td>\n",
       "      <td>41.023296</td>\n",
       "      <td>41.110030</td>\n",
       "      <td>40.566180</td>\n",
       "      <td>40.657604</td>\n",
       "      <td>94640000</td>\n",
       "    </tr>\n",
       "    <tr>\n",
       "      <th>4</th>\n",
       "      <td>2018-01-08</td>\n",
       "      <td>40.870941</td>\n",
       "      <td>41.166308</td>\n",
       "      <td>40.772482</td>\n",
       "      <td>40.870941</td>\n",
       "      <td>82271200</td>\n",
       "    </tr>\n",
       "  </tbody>\n",
       "</table>\n",
       "</div>"
      ],
      "text/plain": [
       "Price        Date      Close       High        Low       Open     Volume\n",
       "Ticker                  AAPL       AAPL       AAPL       AAPL       AAPL\n",
       "0      2018-01-02  40.381001  40.390379  39.677744  39.888723  102223600\n",
       "1      2018-01-03  40.373966  40.917820  40.310676  40.444293  118071600\n",
       "2      2018-01-04  40.561493  40.664638  40.338796  40.446626   89738400\n",
       "3      2018-01-05  41.023296  41.110030  40.566180  40.657604   94640000\n",
       "4      2018-01-08  40.870941  41.166308  40.772482  40.870941   82271200"
      ]
     },
     "execution_count": 3,
     "metadata": {},
     "output_type": "execute_result"
    }
   ],
   "source": [
    "# Missing values check\n",
    "print(data.isnull().sum())\n",
    "\n",
    "# Agar koi missing value ho to drop kar do\n",
    "data = data.dropna()\n",
    "\n",
    "# Reset index (date ko column banane ke liye)\n",
    "data.reset_index(inplace=True)\n",
    "data.head()\n"
   ]
  },
  {
   "cell_type": "code",
   "execution_count": 4,
   "id": "dd0864aa-dbcd-475f-a138-997f0289cc48",
   "metadata": {},
   "outputs": [
    {
     "data": {
      "image/png": "[encoded data removed]",
      "text/plain": [
       "<Figure size 1200x600 with 1 Axes>"
      ]
     },
     "metadata": {},
     "output_type": "display_data"
    }
   ],
   "source": [
    "# Close price ka trend\n",
    "plt.figure(figsize=(12,6))\n",
    "plt.plot(data['Date'], data['Close'], label='Close Price')\n",
    "plt.title('AAPL Stock Close Price (2018-2023)')\n",
    "plt.xlabel('Date')\n",
    "plt.ylabel('Close Price')\n",
    "plt.legend()\n",
    "plt.show()\n"
   ]
  },
  {
   "cell_type": "code",
   "execution_count": 5,
   "id": "fb2185c8-0c42-4886-bbc9-390a028747ee",
   "metadata": {},
   "outputs": [],
   "source": [
    "from sklearn.preprocessing import MinMaxScaler\n",
    "import numpy as np\n",
    "\n",
    "# Close price ko select karo\n",
    "close_data = data['Close'].values\n",
    "close_data = close_data.reshape(-1,1)\n",
    "\n",
    "# Scale data 0-1\n",
    "scaler = MinMaxScaler(feature_range=(0,1))\n",
    "scaled_data = scaler.fit_transform(close_data)\n"
   ]
  },
  {
   "cell_type": "code",
   "execution_count": 6,
   "id": "18e62a14-2023-40f9-a524-5acddaceb4e6",
   "metadata": {},
   "outputs": [],
   "source": [
    "# 80% data train ke liye, 20% test ke liye\n",
    "train_size = int(len(scaled_data) * 0.8)\n",
    "train_data = scaled_data[:train_size]\n",
    "test_data = scaled_data[train_size:]\n"
   ]
  },
  {
   "cell_type": "code",
   "execution_count": 7,
   "id": "135e58f7-551b-418f-8281-eb03eece1545",
   "metadata": {},
   "outputs": [],
   "source": [
    "def create_dataset(dataset, time_step=60):\n",
    "    X, y = [], []\n",
    "    for i in range(time_step, len(dataset)):\n",
    "        X.append(dataset[i-time_step:i, 0])\n",
    "        y.append(dataset[i,0])\n",
    "    return np.array(X), np.array(y)\n",
    "\n",
    "time_step = 60\n",
    "X_train, y_train = create_dataset(train_data, time_step)\n",
    "X_test, y_test = create_dataset(test_data, time_step)\n",
    "\n",
    "# Reshape for LSTM [samples, time_steps, features]\n",
    "X_train = X_train.reshape(X_train.shape[0], X_train.shape[1], 1)\n",
    "X_test = X_test.reshape(X_test.shape[0], X_test.shape[1], 1)\n"
   ]
  },
  {
   "cell_type": "code",
   "execution_count": 8,
   "id": "9eb64ac2-c1fb-4608-a201-6c718425d248",
   "metadata": {},
   "outputs": [
    {
     "name": "stdout",
     "output_type": "stream",
     "text": [
      "Epoch 1/10\n"
     ]
    },
    {
     "name": "stderr",
     "output_type": "stream",
     "text": [
      "E:\\stock-prediction\\venv\\Lib\\site-packages\\keras\\src\\layers\\rnn\\rnn.py:199: UserWarning: Do not pass an `input_shape`/`input_dim` argument to a layer. When using Sequential models, prefer using an `Input(shape)` object as the first layer in the model instead.\n",
      "  super().__init__(**kwargs)\n"
     ]
    },
    {
     "name": "stdout",
     "output_type": "stream",
     "text": [
      "\u001b[1m36/36\u001b[0m \u001b[32m━━━━━━━━━━━━━━━━━━━━\u001b[0m\u001b[37m\u001b[0m \u001b[1m3s\u001b[0m 23ms/step - loss: 0.0142\n",
      "Epoch 2/10\n",
      "\u001b[1m36/36\u001b[0m \u001b[32m━━━━━━━━━━━━━━━━━━━━\u001b[0m\u001b[37m\u001b[0m \u001b[1m1s\u001b[0m 21ms/step - loss: 0.0012\n",
      "Epoch 3/10\n",
      "\u001b[1m36/36\u001b[0m \u001b[32m━━━━━━━━━━━━━━━━━━━━\u001b[0m\u001b[37m\u001b[0m \u001b[1m1s\u001b[0m 21ms/step - loss: 0.0010    \n",
      "Epoch 4/10\n",
      "\u001b[1m36/36\u001b[0m \u001b[32m━━━━━━━━━━━━━━━━━━━━\u001b[0m\u001b[37m\u001b[0m \u001b[1m1s\u001b[0m 21ms/step - loss: 9.3712e-04\n",
      "Epoch 5/10\n",
      "\u001b[1m36/36\u001b[0m \u001b[32m━━━━━━━━━━━━━━━━━━━━\u001b[0m\u001b[37m\u001b[0m \u001b[1m1s\u001b[0m 21ms/step - loss: 9.2245e-04\n",
      "Epoch 6/10\n",
      "\u001b[1m36/36\u001b[0m \u001b[32m━━━━━━━━━━━━━━━━━━━━\u001b[0m\u001b[37m\u001b[0m \u001b[1m1s\u001b[0m 20ms/step - loss: 9.9730e-04\n",
      "Epoch 7/10\n",
      "\u001b[1m36/36\u001b[0m \u001b[32m━━━━━━━━━━━━━━━━━━━━\u001b[0m\u001b[37m\u001b[0m \u001b[1m1s\u001b[0m 24ms/step - loss: 8.2960e-04\n",
      "Epoch 8/10\n",
      "\u001b[1m36/36\u001b[0m \u001b[32m━━━━━━━━━━━━━━━━━━━━\u001b[0m\u001b[37m\u001b[0m \u001b[1m1s\u001b[0m 21ms/step - loss: 7.8516e-04\n",
      "Epoch 9/10\n",
      "\u001b[1m36/36\u001b[0m \u001b[32m━━━━━━━━━━━━━━━━━━━━\u001b[0m\u001b[37m\u001b[0m \u001b[1m1s\u001b[0m 21ms/step - loss: 7.9281e-04\n",
      "Epoch 10/10\n",
      "\u001b[1m36/36\u001b[0m \u001b[32m━━━━━━━━━━━━━━━━━━━━\u001b[0m\u001b[37m\u001b[0m \u001b[1m1s\u001b[0m 22ms/step - loss: 8.2571e-04\n"
     ]
    },
    {
     "data": {
      "text/plain": [
       "<keras.src.callbacks.history.History at 0x22361be5550>"
      ]
     },
     "execution_count": 8,
     "metadata": {},
     "output_type": "execute_result"
    }
   ],
   "source": [
    "from tensorflow.keras.models import Sequential\n",
    "from tensorflow.keras.layers import LSTM, Dense\n",
    "\n",
    "# Model define karna\n",
    "model = Sequential()\n",
    "model.add(LSTM(50, return_sequences=True, input_shape=(X_train.shape[1], 1)))\n",
    "model.add(LSTM(50, return_sequences=False))\n",
    "model.add(Dense(25))\n",
    "model.add(Dense(1))\n",
    "\n",
    "# Model compile\n",
    "model.compile(optimizer='adam', loss='mean_squared_error')\n",
    "\n",
    "# Model train\n",
    "model.fit(X_train, y_train, batch_size=32, epochs=10)\n"
   ]
  },
  {
   "cell_type": "code",
   "execution_count": 9,
   "id": "8a0c263b-273f-4cd1-b27d-d082f6c19937",
   "metadata": {},
   "outputs": [
    {
     "name": "stdout",
     "output_type": "stream",
     "text": [
      "\u001b[1m36/36\u001b[0m \u001b[32m━━━━━━━━━━━━━━━━━━━━\u001b[0m\u001b[37m\u001b[0m \u001b[1m1s\u001b[0m 13ms/step\n",
      "\u001b[1m8/8\u001b[0m \u001b[32m━━━━━━━━━━━━━━━━━━━━\u001b[0m\u001b[37m\u001b[0m \u001b[1m0s\u001b[0m 10ms/step\n"
     ]
    },
    {
     "data": {
      "image/png": "[encoded data removed]",
      "text/plain": [
       "<Figure size 1200x600 with 1 Axes>"
      ]
     },
     "metadata": {},
     "output_type": "display_data"
    }
   ],
   "source": [
    "# Prediction\n",
    "train_predict = model.predict(X_train)\n",
    "test_predict = model.predict(X_test)\n",
    "\n",
    "# Scale ko wapas original me convert karo\n",
    "train_predict = scaler.inverse_transform(train_predict)\n",
    "test_predict = scaler.inverse_transform(test_predict)\n",
    "\n",
    "# Original close price\n",
    "original = scaler.inverse_transform(scaled_data)\n",
    "\n",
    "# Plot\n",
    "plt.figure(figsize=(12,6))\n",
    "plt.plot(original, label='Original Price')\n",
    "plt.plot(np.arange(time_step, len(train_predict)+time_step), train_predict, label='Train Predict')\n",
    "plt.plot(np.arange(len(train_predict)+(2*time_step), len(original)), test_predict, label='Test Predict')\n",
    "plt.title('AAPL Stock Price Prediction')\n",
    "plt.xlabel('Days')\n",
    "plt.ylabel('Close Price')\n",
    "plt.legend()\n",
    "plt.show()\n"
   ]
  },
  {
   "cell_type": "code",
   "execution_count": 10,
   "id": "74bae26c-23cb-4ef4-9ff7-6eb8798489c4",
   "metadata": {},
   "outputs": [
    {
     "name": "stdout",
     "output_type": "stream",
     "text": [
      "\u001b[1m1/1\u001b[0m \u001b[32m━━━━━━━━━━━━━━━━━━━━\u001b[0m\u001b[37m\u001b[0m \u001b[1m0s\u001b[0m 112ms/step\n",
      "\u001b[1m1/1\u001b[0m \u001b[32m━━━━━━━━━━━━━━━━━━━━\u001b[0m\u001b[37m\u001b[0m \u001b[1m0s\u001b[0m 36ms/step\n",
      "\u001b[1m1/1\u001b[0m \u001b[32m━━━━━━━━━━━━━━━━━━━━\u001b[0m\u001b[37m\u001b[0m \u001b[1m0s\u001b[0m 32ms/step\n",
      "\u001b[1m1/1\u001b[0m \u001b[32m━━━━━━━━━━━━━━━━━━━━\u001b[0m\u001b[37m\u001b[0m \u001b[1m0s\u001b[0m 34ms/step\n",
      "\u001b[1m1/1\u001b[0m \u001b[32m━━━━━━━━━━━━━━━━━━━━\u001b[0m\u001b[37m\u001b[0m \u001b[1m0s\u001b[0m 32ms/step\n",
      "\u001b[1m1/1\u001b[0m \u001b[32m━━━━━━━━━━━━━━━━━━━━\u001b[0m\u001b[37m\u001b[0m \u001b[1m0s\u001b[0m 33ms/step\n",
      "\u001b[1m1/1\u001b[0m \u001b[32m━━━━━━━━━━━━━━━━━━━━\u001b[0m\u001b[37m\u001b[0m \u001b[1m0s\u001b[0m 34ms/step\n",
      "\u001b[1m1/1\u001b[0m \u001b[32m━━━━━━━━━━━━━━━━━━━━\u001b[0m\u001b[37m\u001b[0m \u001b[1m0s\u001b[0m 35ms/step\n",
      "\u001b[1m1/1\u001b[0m \u001b[32m━━━━━━━━━━━━━━━━━━━━\u001b[0m\u001b[37m\u001b[0m \u001b[1m0s\u001b[0m 32ms/step\n",
      "\u001b[1m1/1\u001b[0m \u001b[32m━━━━━━━━━━━━━━━━━━━━\u001b[0m\u001b[37m\u001b[0m \u001b[1m0s\u001b[0m 30ms/step\n",
      "\u001b[1m1/1\u001b[0m \u001b[32m━━━━━━━━━━━━━━━━━━━━\u001b[0m\u001b[37m\u001b[0m \u001b[1m0s\u001b[0m 32ms/step\n",
      "\u001b[1m1/1\u001b[0m \u001b[32m━━━━━━━━━━━━━━━━━━━━\u001b[0m\u001b[37m\u001b[0m \u001b[1m0s\u001b[0m 32ms/step\n",
      "\u001b[1m1/1\u001b[0m \u001b[32m━━━━━━━━━━━━━━━━━━━━\u001b[0m\u001b[37m\u001b[0m \u001b[1m0s\u001b[0m 37ms/step\n",
      "\u001b[1m1/1\u001b[0m \u001b[32m━━━━━━━━━━━━━━━━━━━━\u001b[0m\u001b[37m\u001b[0m \u001b[1m0s\u001b[0m 41ms/step\n",
      "\u001b[1m1/1\u001b[0m \u001b[32m━━━━━━━━━━━━━━━━━━━━\u001b[0m\u001b[37m\u001b[0m \u001b[1m0s\u001b[0m 42ms/step\n",
      "\u001b[1m1/1\u001b[0m \u001b[32m━━━━━━━━━━━━━━━━━━━━\u001b[0m\u001b[37m\u001b[0m \u001b[1m0s\u001b[0m 33ms/step\n",
      "\u001b[1m1/1\u001b[0m \u001b[32m━━━━━━━━━━━━━━━━━━━━\u001b[0m\u001b[37m\u001b[0m \u001b[1m0s\u001b[0m 32ms/step\n",
      "\u001b[1m1/1\u001b[0m \u001b[32m━━━━━━━━━━━━━━━━━━━━\u001b[0m\u001b[37m\u001b[0m \u001b[1m0s\u001b[0m 32ms/step\n",
      "\u001b[1m1/1\u001b[0m \u001b[32m━━━━━━━━━━━━━━━━━━━━\u001b[0m\u001b[37m\u001b[0m \u001b[1m0s\u001b[0m 32ms/step\n",
      "\u001b[1m1/1\u001b[0m \u001b[32m━━━━━━━━━━━━━━━━━━━━\u001b[0m\u001b[37m\u001b[0m \u001b[1m0s\u001b[0m 31ms/step\n",
      "\u001b[1m1/1\u001b[0m \u001b[32m━━━━━━━━━━━━━━━━━━━━\u001b[0m\u001b[37m\u001b[0m \u001b[1m0s\u001b[0m 31ms/step\n",
      "\u001b[1m1/1\u001b[0m \u001b[32m━━━━━━━━━━━━━━━━━━━━\u001b[0m\u001b[37m\u001b[0m \u001b[1m0s\u001b[0m 31ms/step\n",
      "\u001b[1m1/1\u001b[0m \u001b[32m━━━━━━━━━━━━━━━━━━━━\u001b[0m\u001b[37m\u001b[0m \u001b[1m0s\u001b[0m 31ms/step\n",
      "\u001b[1m1/1\u001b[0m \u001b[32m━━━━━━━━━━━━━━━━━━━━\u001b[0m\u001b[37m\u001b[0m \u001b[1m0s\u001b[0m 31ms/step\n",
      "\u001b[1m1/1\u001b[0m \u001b[32m━━━━━━━━━━━━━━━━━━━━\u001b[0m\u001b[37m\u001b[0m \u001b[1m0s\u001b[0m 31ms/step\n",
      "\u001b[1m1/1\u001b[0m \u001b[32m━━━━━━━━━━━━━━━━━━━━\u001b[0m\u001b[37m\u001b[0m \u001b[1m0s\u001b[0m 31ms/step\n",
      "\u001b[1m1/1\u001b[0m \u001b[32m━━━━━━━━━━━━━━━━━━━━\u001b[0m\u001b[37m\u001b[0m \u001b[1m0s\u001b[0m 30ms/step\n",
      "\u001b[1m1/1\u001b[0m \u001b[32m━━━━━━━━━━━━━━━━━━━━\u001b[0m\u001b[37m\u001b[0m \u001b[1m0s\u001b[0m 34ms/step\n",
      "\u001b[1m1/1\u001b[0m \u001b[32m━━━━━━━━━━━━━━━━━━━━\u001b[0m\u001b[37m\u001b[0m \u001b[1m0s\u001b[0m 30ms/step\n",
      "\u001b[1m1/1\u001b[0m \u001b[32m━━━━━━━━━━━━━━━━━━━━\u001b[0m\u001b[37m\u001b[0m \u001b[1m0s\u001b[0m 31ms/step\n"
     ]
    },
    {
     "data": {
      "image/png": "[encoded data removed]",
      "text/plain": [
       "<Figure size 1200x600 with 1 Axes>"
      ]
     },
     "metadata": {},
     "output_type": "display_data"
    }
   ],
   "source": [
    "# Last 60 days data (model input ke liye)\n",
    "last_60_days = scaled_data[-60:]\n",
    "future_input = last_60_days.reshape(1, -1)\n",
    "future_input = list(future_input[0])\n",
    "\n",
    "# 30 days prediction\n",
    "future_output = []\n",
    "time_step = 60\n",
    "\n",
    "for i in range(30):\n",
    "    x_input = np.array(future_input[-time_step:]).reshape(1, time_step, 1)\n",
    "    pred = model.predict(x_input)\n",
    "    future_output.append(pred[0,0])\n",
    "    future_input.append(pred[0,0])\n",
    "\n",
    "# Scale back to original price\n",
    "future_output = scaler.inverse_transform(np.array(future_output).reshape(-1,1))\n",
    "\n",
    "# Plot future prediction\n",
    "plt.figure(figsize=(12,6))\n",
    "plt.plot(np.arange(len(original)), original, label='Original Price')\n",
    "plt.plot(np.arange(len(original), len(original)+30), future_output, label='Future 30 Days Prediction', color='red')\n",
    "plt.title('AAPL Stock Price Future 30 Days Prediction')\n",
    "plt.xlabel('Days')\n",
    "plt.ylabel('Close Price')\n",
    "plt.legend()\n",
    "plt.show()\n"
   ]
  },
  {
   "cell_type": "code",
   "execution_count": 11,
   "id": "5149e7eb-8dcb-497f-b86c-b0354a619b08",
   "metadata": {},
   "outputs": [
    {
     "name": "stdout",
     "output_type": "stream",
     "text": [
      "Future 30 days prediction saved as 'future_30_days_prediction.csv'\n"
     ]
    }
   ],
   "source": [
    "# Future prediction dates\n",
    "last_date = data['Date'].iloc[-1]\n",
    "future_dates = pd.date_range(last_date + pd.Timedelta(days=1), periods=30)\n",
    "\n",
    "# Create DataFrame\n",
    "future_df = pd.DataFrame({'Date': future_dates, 'Predicted_Close': future_output.flatten()})\n",
    "\n",
    "# Save to CSV\n",
    "future_df.to_csv('future_30_days_prediction.csv', index=False)\n",
    "print(\"Future 30 days prediction saved as 'future_30_days_prediction.csv'\")\n"
   ]
  },
  {
   "cell_type": "code",
   "execution_count": 14,
   "id": "d6483d49-34e5-4262-8e38-c366048afa22",
   "metadata": {},
   "outputs": [
    {
     "name": "stdout",
     "output_type": "stream",
     "text": [
      "Requirement already satisfied: plotly in e:\\stock-prediction\\venv\\lib\\site-packages (6.3.1)\n",
      "Requirement already satisfied: narwhals>=1.15.1 in e:\\stock-prediction\\venv\\lib\\site-packages (from plotly) (2.7.0)\n",
      "Requirement already satisfied: packaging in e:\\stock-prediction\\venv\\lib\\site-packages (from plotly) (25.0)\n"
     ]
    }
   ],
   "source": [
    "!pip install plotly"
   ]
  },
  {
   "cell_type": "code",
   "execution_count": 15,
   "id": "939776b5-0f6d-4682-9207-e7b085b3556e",
   "metadata": {},
   "outputs": [
    {
     "name": "stdout",
     "output_type": "stream",
     "text": [
      "Requirement already satisfied: plotly in e:\\stock-prediction\\venv\\lib\\site-packages (6.3.1)\n",
      "Requirement already satisfied: narwhals>=1.15.1 in e:\\stock-prediction\\venv\\lib\\site-packages (from plotly) (2.7.0)\n",
      "Requirement already satisfied: packaging in e:\\stock-prediction\\venv\\lib\\site-packages (from plotly) (25.0)\n"
     ]
    }
   ],
   "source": [
    "!pip install plotly"
   ]
  },
  {
   "cell_type": "code",
   "execution_count": 16,
   "id": "0ff5a224-814a-4581-a682-54a1ea9656fe",
   "metadata": {},
   "outputs": [],
   "source": [
    "import plotly.graph_objects as go"
   ]
  },
  {
   "cell_type": "code",
   "execution_count": 17,
   "id": "4ea7ab38-8fca-438e-aa48-9297f8888d7e",
   "metadata": {},
   "outputs": [
    {
     "name": "stdout",
     "output_type": "stream",
     "text": [
      "Requirement already satisfied: plotly in e:\\stock-prediction\\venv\\lib\\site-packages (6.3.1)\n",
      "Requirement already satisfied: narwhals>=1.15.1 in e:\\stock-prediction\\venv\\lib\\site-packages (from plotly) (2.7.0)\n",
      "Requirement already satisfied: packaging in e:\\stock-prediction\\venv\\lib\\site-packages (from plotly) (25.0)\n",
      "Note: you may need to restart the kernel to use updated packages.\n"
     ]
    }
   ],
   "source": [
    "pip install plotly"
   ]
  },
  {
   "cell_type": "code",
   "execution_count": 20,
   "id": "dcca8057-b4e4-4ff0-b709-aae4fcc3e1e6",
   "metadata": {},
   "outputs": [
    {
     "data": {
      "application/vnd.plotly.v1+json": {
       "config": {
        "plotlyServerURL": "https://plot.ly"
       },
       "data": [
        {
         "mode": "lines",
         "name": "Original Close Price",
         "type": "scatter",
         "x": [
          "2018-01-02T00:00:00.000000000",
          "2018-01-03T00:00:00.000000000",
          "2018-01-04T00:00:00.000000000",
          "2018-01-05T00:00:00.000000000",
          "2018-01-08T00:00:00.000000000",
          "2018-01-09T00:00:00.000000000",
          "2018-01-10T00:00:00.000000000",
          "2018-01-11T00:00:00.000000000",
          "2018-01-12T00:00:00.000000000",
          "2018-01-16T00:00:00.000000000",
          "2018-01-17T00:00:00.000000000",
          "2018-01-18T00:00:00.000000000",
          "2018-01-19T00:00:00.000000000",
          "2018-01-22T00:00:00.000000000",
          "2018-01-23T00:00:00.000000000",
          "2018-01-24T00:00:00.000000000",
          "2018-01-25T00:00:00.000000000",
          "2018-01-26T00:00:00.000000000",
          "2018-01-29T00:00:00.000000000",
          "2018-01-30T00:00:00.000000000",
          "2018-01-31T00:00:00.000000000",
          "2018-02-01T00:00:00.000000000",
          "2018-02-02T00:00:00.000000000",
          "2018-02-05T00:00:00.000000000",
          "2018-02-06T00:00:00.000000000",
          "2018-02-07T00:00:00.000000000",
          "2018-02-08T00:00:00.000000000",
          "2018-02-09T00:00:00.000000000",
          "2018-02-12T00:00:00.000000000",
          "2018-02-13T00:00:00.000000000",
          "2018-02-14T00:00:00.000000000",
          "2018-02-15T00:00:00.000000000",
          "2018-02-16T00:00:00.000000000",
          "2018-02-20T00:00:00.000000000",
          "2018-02-21T00:00:00.000000000",
          "2018-02-22T00:00:00.000000000",
          "2018-02-23T00:00:00.000000000",
          "2018-02-26T00:00:00.000000000",
          "2018-02-27T00:00:00.000000000",
          "2018-02-28T00:00:00.000000000",
          "2018-03-01T00:00:00.000000000",
          "2018-03-02T00:00:00.000000000",
          "2018-03-05T00:00:00.000000000",
          "2018-03-06T00:00:00.000000000",
          "2018-03-07T00:00:00.000000000",
          "2018-03-08T00:00:00.000000000",
          "2018-03-09T00:00:00.000000000",
          "2018-03-12T00:00:00.000000000",
          "2018-03-13T00:00:00.000000000",
          "2018-03-14T00:00:00.000000000",
          "2018-03-15T00:00:00.000000000",
          "2018-03-16T00:00:00.000000000",
          "2018-03-19T00:00:00.000000000",
          "2018-03-20T00:00:00.000000000",
          "2018-03-21T00:00:00.000000000",
          "2018-03-22T00:00:00.000000000",
          "2018-03-23T00:00:00.000000000",
          "2018-03-26T00:00:00.000000000",
          "2018-03-27T00:00:00.000000000",
          "2018-03-28T00:00:00.000000000",
          "2018-03-29T00:00:00.000000000",
          "2018-04-02T00:00:00.000000000",
          "2018-04-03T00:00:00.000000000",
          "2018-04-04T00:00:00.000000000",
          "2018-04-05T00:00:00.000000000",
          "2018-04-06T00:00:00.000000000",
          "2018-04-09T00:00:00.000000000",
          "2018-04-10T00:00:00.000000000",
          "2018-04-11T00:00:00.000000000",
          "2018-04-12T00:00:00.000000000",
          "2018-04-13T00:00:00.000000000",
          "2018-04-16T00:00:00.000000000",
          "2018-04-17T00:00:00.000000000",
          "2018-04-18T00:00:00.000000000",
          "2018-04-19T00:00:00.000000000",
          "2018-04-20T00:00:00.000000000",
          "2018-04-23T00:00:00.000000000",
          "2018-04-24T00:00:00.000000000",
          "2018-04-25T00:00:00.000000000",
          "2018-04-26T00:00:00.000000000",
          "2018-04-27T00:00:00.000000000",
          "2018-04-30T00:00:00.000000000",
          "2018-05-01T00:00:00.000000000",
          "2018-05-02T00:00:00.000000000",
          "2018-05-03T00:00:00.000000000",
          "2018-05-04T00:00:00.000000000",
          "2018-05-07T00:00:00.000000000",
          "2018-05-08T00:00:00.000000000",
          "2018-05-09T00:00:00.000000000",
          "2018-05-10T00:00:00.000000000",
          "2018-05-11T00:00:00.000000000",
          "2018-05-14T00:00:00.000000000",
          "2018-05-15T00:00:00.000000000",
          "2018-05-16T00:00:00.000000000",
          "2018-05-17T00:00:00.000000000",
          "2018-05-18T00:00:00.000000000",
          "2018-05-21T00:00:00.000000000",
          "2018-05-22T00:00:00.000000000",
          "2018-05-23T00:00:00.000000000",
          "2018-05-24T00:00:00.000000000",
          "2018-05-25T00:00:00.000000000",
          "2018-05-29T00:00:00.000000000",
          "2018-05-30T00:00:00.000000000",
          "2018-05-31T00:00:00.000000000",
          "2018-06-01T00:00:00.000000000",
          "2018-06-04T00:00:00.000000000",
          "2018-06-05T00:00:00.000000000",
          "2018-06-06T00:00:00.000000000",
          "2018-06-07T00:00:00.000000000",
          "2018-06-08T00:00:00.000000000",
          "2018-06-11T00:00:00.000000000",
          "2018-06-12T00:00:00.000000000",
          "2018-06-13T00:00:00.000000000",
          "2018-06-14T00:00:00.000000000",
          "2018-06-15T00:00:00.000000000",
          "2018-06-18T00:00:00.000000000",
          "2018-06-19T00:00:00.000000000",
          "2018-06-20T00:00:00.000000000",
          "2018-06-21T00:00:00.000000000",
          "2018-06-22T00:00:00.000000000",
          "2018-06-25T00:00:00.000000000",
          "2018-06-26T00:00:00.000000000",
          "2018-06-27T00:00:00.000000000",
          "2018-06-28T00:00:00.000000000",
          "2018-06-29T00:00:00.000000000",
          "2018-07-02T00:00:00.000000000",
          "2018-07-03T00:00:00.000000000",
          "2018-07-05T00:00:00.000000000",
          "2018-07-06T00:00:00.000000000",
          "2018-07-09T00:00:00.000000000",
          "2018-07-10T00:00:00.000000000",
          "2018-07-11T00:00:00.000000000",
          "2018-07-12T00:00:00.000000000",
          "2018-07-13T00:00:00.000000000",
          "2018-07-16T00:00:00.000000000",
          "2018-07-17T00:00:00.000000000",
          "2018-07-18T00:00:00.000000000",
          "2018-07-19T00:00:00.000000000",
          "2018-07-20T00:00:00.000000000",
          "2018-07-23T00:00:00.000000000",
          "2018-07-24T00:00:00.000000000",
          "2018-07-25T00:00:00.000000000",
          "2018-07-26T00:00:00.000000000",
          "2018-07-27T00:00:00.000000000",
          "2018-07-30T00:00:00.000000000",
          "2018-07-31T00:00:00.000000000",
          "2018-08-01T00:00:00.000000000",
          "2018-08-02T00:00:00.000000000",
          "2018-08-03T00:00:00.000000000",
          "2018-08-06T00:00:00.000000000",
          "2018-08-07T00:00:00.000000000",
          "2018-08-08T00:00:00.000000000",
          "2018-08-09T00:00:00.000000000",
          "2018-08-10T00:00:00.000000000",
          "2018-08-13T00:00:00.000000000",
          "2018-08-14T00:00:00.000000000",
          "2018-08-15T00:00:00.000000000",
          "2018-08-16T00:00:00.000000000",
          "2018-08-17T00:00:00.000000000",
          "2018-08-20T00:00:00.000000000",
          "2018-08-21T00:00:00.000000000",
          "2018-08-22T00:00:00.000000000",
          "2018-08-23T00:00:00.000000000",
          "2018-08-24T00:00:00.000000000",
          "2018-08-27T00:00:00.000000000",
          "2018-08-28T00:00:00.000000000",
          "2018-08-29T00:00:00.000000000",
          "2018-08-30T00:00:00.000000000",
          "2018-08-31T00:00:00.000000000",
          "2018-09-04T00:00:00.000000000",
          "2018-09-05T00:00:00.000000000",
          "2018-09-06T00:00:00.000000000",
          "2018-09-07T00:00:00.000000000",
          "2018-09-10T00:00:00.000000000",
          "2018-09-11T00:00:00.000000000",
          "2018-09-12T00:00:00.000000000",
          "2018-09-13T00:00:00.000000000",
          "2018-09-14T00:00:00.000000000",
          "2018-09-17T00:00:00.000000000",
          "2018-09-18T00:00:00.000000000",
          "2018-09-19T00:00:00.000000000",
          "2018-09-20T00:00:00.000000000",
          "2018-09-21T00:00:00.000000000",
          "2018-09-24T00:00:00.000000000",
          "2018-09-25T00:00:00.000000000",
          "2018-09-26T00:00:00.000000000",
          "2018-09-27T00:00:00.000000000",
          "2018-09-28T00:00:00.000000000",
          "2018-10-01T00:00:00.000000000",
          "2018-10-02T00:00:00.000000000",
          "2018-10-03T00:00:00.000000000",
          "2018-10-04T00:00:00.000000000",
          "2018-10-05T00:00:00.000000000",
          "2018-10-08T00:00:00.000000000",
          "2018-10-09T00:00:00.000000000",
          "2018-10-10T00:00:00.000000000",
          "2018-10-11T00:00:00.000000000",
          "2018-10-12T00:00:00.000000000",
          "2018-10-15T00:00:00.000000000",
          "2018-10-16T00:00:00.000000000",
          "2018-10-17T00:00:00.000000000",
          "2018-10-18T00:00:00.000000000",
          "2018-10-19T00:00:00.000000000",
          "2018-10-22T00:00:00.000000000",
          "2018-10-23T00:00:00.000000000",
          "2018-10-24T00:00:00.000000000",
          "2018-10-25T00:00:00.000000000",
          "2018-10-26T00:00:00.000000000",
          "2018-10-29T00:00:00.000000000",
          "2018-10-30T00:00:00.000000000",
          "2018-10-31T00:00:00.000000000",
          "2018-11-01T00:00:00.000000000",
          "2018-11-02T00:00:00.000000000",
          "2018-11-05T00:00:00.000000000",
          "2018-11-06T00:00:00.000000000",
          "2018-11-07T00:00:00.000000000",
          "2018-11-08T00:00:00.000000000",
          "2018-11-09T00:00:00.000000000",
          "2018-11-12T00:00:00.000000000",
          "2018-11-13T00:00:00.000000000",
          "2018-11-14T00:00:00.000000000",
          "2018-11-15T00:00:00.000000000",
          "2018-11-16T00:00:00.000000000",
          "2018-11-19T00:00:00.000000000",
          "2018-11-20T00:00:00.000000000",
          "2018-11-21T00:00:00.000000000",
          "2018-11-23T00:00:00.000000000",
          "2018-11-26T00:00:00.000000000",
          "2018-11-27T00:00:00.000000000",
          "2018-11-28T00:00:00.000000000",
          "2018-11-29T00:00:00.000000000",
          "2018-11-30T00:00:00.000000000",
          "2018-12-03T00:00:00.000000000",
          "2018-12-04T00:00:00.000000000",
          "2018-12-06T00:00:00.000000000",
          "2018-12-07T00:00:00.000000000",
          "2018-12-10T00:00:00.000000000",
          "2018-12-11T00:00:00.000000000",
          "2018-12-12T00:00:00.000000000",
          "2018-12-13T00:00:00.000000000",
          "2018-12-14T00:00:00.000000000",
          "2018-12-17T00:00:00.000000000",
          "2018-12-18T00:00:00.000000000",
          "2018-12-19T00:00:00.000000000",
          "2018-12-20T00:00:00.000000000",
          "2018-12-21T00:00:00.000000000",
          "2018-12-24T00:00:00.000000000",
          "2018-12-26T00:00:00.000000000",
          "2018-12-27T00:00:00.000000000",
          "2018-12-28T00:00:00.000000000",
          "2018-12-31T00:00:00.000000000",
          "2019-01-02T00:00:00.000000000",
          "2019-01-03T00:00:00.000000000",
          "2019-01-04T00:00:00.000000000",
          "2019-01-07T00:00:00.000000000",
          "2019-01-08T00:00:00.000000000",
          "2019-01-09T00:00:00.000000000",
          "2019-01-10T00:00:00.000000000",
          "2019-01-11T00:00:00.000000000",
          "2019-01-14T00:00:00.000000000",
          "2019-01-15T00:00:00.000000000",
          "2019-01-16T00:00:00.000000000",
          "2019-01-17T00:00:00.000000000",
          "2019-01-18T00:00:00.000000000",
          "2019-01-22T00:00:00.000000000",
          "2019-01-23T00:00:00.000000000",
          "2019-01-24T00:00:00.000000000",
          "2019-01-25T00:00:00.000000000",
          "2019-01-28T00:00:00.000000000",
          "2019-01-29T00:00:00.000000000",
          "2019-01-30T00:00:00.000000000",
          "2019-01-31T00:00:00.000000000",
          "2019-02-01T00:00:00.000000000",
          "2019-02-04T00:00:00.000000000",
          "2019-02-05T00:00:00.000000000",
          "2019-02-06T00:00:00.000000000",
          "2019-02-07T00:00:00.000000000",
          "2019-02-08T00:00:00.000000000",
          "2019-02-11T00:00:00.000000000",
          "2019-02-12T00:00:00.000000000",
          "2019-02-13T00:00:00.000000000",
          "2019-02-14T00:00:00.000000000",
          "2019-02-15T00:00:00.000000000",
          "2019-02-19T00:00:00.000000000",
          "2019-02-20T00:00:00.000000000",
          "2019-02-21T00:00:00.000000000",
          "2019-02-22T00:00:00.000000000",
          "2019-02-25T00:00:00.000000000",
          "2019-02-26T00:00:00.000000000",
          "2019-02-27T00:00:00.000000000",
          "2019-02-28T00:00:00.000000000",
          "2019-03-01T00:00:00.000000000",
          "2019-03-04T00:00:00.000000000",
          "2019-03-05T00:00:00.000000000",
          "2019-03-06T00:00:00.000000000",
          "2019-03-07T00:00:00.000000000",
          "2019-03-08T00:00:00.000000000",
          "2019-03-11T00:00:00.000000000",
          "2019-03-12T00:00:00.000000000",
          "2019-03-13T00:00:00.000000000",
          "2019-03-14T00:00:00.000000000",
          "2019-03-15T00:00:00.000000000",
          "2019-03-18T00:00:00.000000000",
          "2019-03-19T00:00:00.000000000",
          "2019-03-20T00:00:00.000000000",
          "2019-03-21T00:00:00.000000000",
          "2019-03-22T00:00:00.000000000",
          "2019-03-25T00:00:00.000000000",
          "2019-03-26T00:00:00.000000000",
          "2019-03-27T00:00:00.000000000",
          "2019-03-28T00:00:00.000000000",
          "2019-03-29T00:00:00.000000000",
          "2019-04-01T00:00:00.000000000",
          "2019-04-02T00:00:00.000000000",
          "2019-04-03T00:00:00.000000000",
          "2019-04-04T00:00:00.000000000",
          "2019-04-05T00:00:00.000000000",
          "2019-04-08T00:00:00.000000000",
          "2019-04-09T00:00:00.000000000",
          "2019-04-10T00:00:00.000000000",
          "2019-04-11T00:00:00.000000000",
          "2019-04-12T00:00:00.000000000",
          "2019-04-15T00:00:00.000000000",
          "2019-04-16T00:00:00.000000000",
          "2019-04-17T00:00:00.000000000",
          "2019-04-18T00:00:00.000000000",
          "2019-04-22T00:00:00.000000000",
          "2019-04-23T00:00:00.000000000",
          "2019-04-24T00:00:00.000000000",
          "2019-04-25T00:00:00.000000000",
          "2019-04-26T00:00:00.000000000",
          "2019-04-29T00:00:00.000000000",
          "2019-04-30T00:00:00.000000000",
          "2019-05-01T00:00:00.000000000",
          "2019-05-02T00:00:00.000000000",
          "2019-05-03T00:00:00.000000000",
          "2019-05-06T00:00:00.000000000",
          "2019-05-07T00:00:00.000000000",
          "2019-05-08T00:00:00.000000000",
          "2019-05-09T00:00:00.000000000",
          "2019-05-10T00:00:00.000000000",
          "2019-05-13T00:00:00.000000000",
          "2019-05-14T00:00:00.000000000",
          "2019-05-15T00:00:00.000000000",
          "2019-05-16T00:00:00.000000000",
          "2019-05-17T00:00:00.000000000",
          "2019-05-20T00:00:00.000000000",
          "2019-05-21T00:00:00.000000000",
          "2019-05-22T00:00:00.000000000",
          "2019-05-23T00:00:00.000000000",
          "2019-05-24T00:00:00.000000000",
          "2019-05-28T00:00:00.000000000",
          "2019-05-29T00:00:00.000000000",
          "2019-05-30T00:00:00.000000000",
          "2019-05-31T00:00:00.000000000",
          "2019-06-03T00:00:00.000000000",
          "2019-06-04T00:00:00.000000000",
          "2019-06-05T00:00:00.000000000",
          "2019-06-06T00:00:00.000000000",
          "2019-06-07T00:00:00.000000000",
          "2019-06-10T00:00:00.000000000",
          "2019-06-11T00:00:00.000000000",
          "2019-06-12T00:00:00.000000000",
          "2019-06-13T00:00:00.000000000",
          "2019-06-14T00:00:00.000000000",
          "2019-06-17T00:00:00.000000000",
          "2019-06-18T00:00:00.000000000",
          "2019-06-19T00:00:00.000000000",
          "2019-06-20T00:00:00.000000000",
          "2019-06-21T00:00:00.000000000",
          "2019-06-24T00:00:00.000000000",
          "2019-06-25T00:00:00.000000000",
          "2019-06-26T00:00:00.000000000",
          "2019-06-27T00:00:00.000000000",
          "2019-06-28T00:00:00.000000000",
          "2019-07-01T00:00:00.000000000",
          "2019-07-02T00:00:00.000000000",
          "2019-07-03T00:00:00.000000000",
          "2019-07-05T00:00:00.000000000",
          "2019-07-08T00:00:00.000000000",
          "2019-07-09T00:00:00.000000000",
          "2019-07-10T00:00:00.000000000",
          "2019-07-11T00:00:00.000000000",
          "2019-07-12T00:00:00.000000000",
          "2019-07-15T00:00:00.000000000",
          "2019-07-16T00:00:00.000000000",
          "2019-07-17T00:00:00.000000000",
          "2019-07-18T00:00:00.000000000",
          "2019-07-19T00:00:00.000000000",
          "2019-07-22T00:00:00.000000000",
          "2019-07-23T00:00:00.000000000",
          "2019-07-24T00:00:00.000000000",
          "2019-07-25T00:00:00.000000000",
          "2019-07-26T00:00:00.000000000",
          "2019-07-29T00:00:00.000000000",
          "2019-07-30T00:00:00.000000000",
          "2019-07-31T00:00:00.000000000",
          "2019-08-01T00:00:00.000000000",
          "2019-08-02T00:00:00.000000000",
          "2019-08-05T00:00:00.000000000",
          "2019-08-06T00:00:00.000000000",
          "2019-08-07T00:00:00.000000000",
          "2019-08-08T00:00:00.000000000",
          "2019-08-09T00:00:00.000000000",
          "2019-08-12T00:00:00.000000000",
          "2019-08-13T00:00:00.000000000",
          "2019-08-14T00:00:00.000000000",
          "2019-08-15T00:00:00.000000000",
          "2019-08-16T00:00:00.000000000",
          "2019-08-19T00:00:00.000000000",
          "2019-08-20T00:00:00.000000000",
          "2019-08-21T00:00:00.000000000",
          "2019-08-22T00:00:00.000000000",
          "2019-08-23T00:00:00.000000000",
          "2019-08-26T00:00:00.000000000",
          "2019-08-27T00:00:00.000000000",
          "2019-08-28T00:00:00.000000000",
          "2019-08-29T00:00:00.000000000",
          "2019-08-30T00:00:00.000000000",
          "2019-09-03T00:00:00.000000000",
          "2019-09-04T00:00:00.000000000",
          "2019-09-05T00:00:00.000000000",
          "2019-09-06T00:00:00.000000000",
          "2019-09-09T00:00:00.000000000",
          "2019-09-10T00:00:00.000000000",
          "2019-09-11T00:00:00.000000000",
          "2019-09-12T00:00:00.000000000",
          "2019-09-13T00:00:00.000000000",
          "2019-09-16T00:00:00.000000000",
          "2019-09-17T00:00:00.000000000",
          "2019-09-18T00:00:00.000000000",
          "2019-09-19T00:00:00.000000000",
          "2019-09-20T00:00:00.000000000",
          "2019-09-23T00:00:00.000000000",
          "2019-09-24T00:00:00.000000000",
          "2019-09-25T00:00:00.000000000",
          "2019-09-26T00:00:00.000000000",
          "2019-09-27T00:00:00.000000000",
          "2019-09-30T00:00:00.000000000",
          "2019-10-01T00:00:00.000000000",
          "2019-10-02T00:00:00.000000000",
          "2019-10-03T00:00:00.000000000",
          "2019-10-04T00:00:00.000000000",
          "2019-10-07T00:00:00.000000000",
          "2019-10-08T00:00:00.000000000",
          "2019-10-09T00:00:00.000000000",
          "2019-10-10T00:00:00.000000000",
          "2019-10-11T00:00:00.000000000",
          "2019-10-14T00:00:00.000000000",
          "2019-10-15T00:00:00.000000000",
          "2019-10-16T00:00:00.000000000",
          "2019-10-17T00:00:00.000000000",
          "2019-10-18T00:00:00.000000000",
          "2019-10-21T00:00:00.000000000",
          "2019-10-22T00:00:00.000000000",
          "2019-10-23T00:00:00.000000000",
          "2019-10-24T00:00:00.000000000",
          "2019-10-25T00:00:00.000000000",
          "2019-10-28T00:00:00.000000000",
          "2019-10-29T00:00:00.000000000",
          "2019-10-30T00:00:00.000000000",
          "2019-10-31T00:00:00.000000000",
          "2019-11-01T00:00:00.000000000",
          "2019-11-04T00:00:00.000000000",
          "2019-11-05T00:00:00.000000000",
          "2019-11-06T00:00:00.000000000",
          "2019-11-07T00:00:00.000000000",
          "2019-11-08T00:00:00.000000000",
          "2019-11-11T00:00:00.000000000",
          "2019-11-12T00:00:00.000000000",
          "2019-11-13T00:00:00.000000000",
          "2019-11-14T00:00:00.000000000",
          "2019-11-15T00:00:00.000000000",
          "2019-11-18T00:00:00.000000000",
          "2019-11-19T00:00:00.000000000",
          "2019-11-20T00:00:00.000000000",
          "2019-11-21T00:00:00.000000000",
          "2019-11-22T00:00:00.000000000",
          "2019-11-25T00:00:00.000000000",
          "2019-11-26T00:00:00.000000000",
          "2019-11-27T00:00:00.000000000",
          "2019-11-29T00:00:00.000000000",
          "2019-12-02T00:00:00.000000000",
          "2019-12-03T00:00:00.000000000",
          "2019-12-04T00:00:00.000000000",
          "2019-12-05T00:00:00.000000000",
          "2019-12-06T00:00:00.000000000",
          "2019-12-09T00:00:00.000000000",
          "2019-12-10T00:00:00.000000000",
          "2019-12-11T00:00:00.000000000",
          "2019-12-12T00:00:00.000000000",
          "2019-12-13T00:00:00.000000000",
          "2019-12-16T00:00:00.000000000",
          "2019-12-17T00:00:00.000000000",
          "2019-12-18T00:00:00.000000000",
          "2019-12-19T00:00:00.000000000",
          "2019-12-20T00:00:00.000000000",
          "2019-12-23T00:00:00.000000000",
          "2019-12-24T00:00:00.000000000",
          "2019-12-26T00:00:00.000000000",
          "2019-12-27T00:00:00.000000000",
          "2019-12-30T00:00:00.000000000",
          "2019-12-31T00:00:00.000000000",
          "2020-01-02T00:00:00.000000000",
          "2020-01-03T00:00:00.000000000",
          "2020-01-06T00:00:00.000000000",
          "2020-01-07T00:00:00.000000000",
          "2020-01-08T00:00:00.000000000",
          "2020-01-09T00:00:00.000000000",
          "2020-01-10T00:00:00.000000000",
          "2020-01-13T00:00:00.000000000",
          "2020-01-14T00:00:00.000000000",
          "2020-01-15T00:00:00.000000000",
          "2020-01-16T00:00:00.000000000",
          "2020-01-17T00:00:00.000000000",
          "2020-01-21T00:00:00.000000000",
          "2020-01-22T00:00:00.000000000",
          "2020-01-23T00:00:00.000000000",
          "2020-01-24T00:00:00.000000000",
          "2020-01-27T00:00:00.000000000",
          "2020-01-28T00:00:00.000000000",
          "2020-01-29T00:00:00.000000000",
          "2020-01-30T00:00:00.000000000",
          "2020-01-31T00:00:00.000000000",
          "2020-02-03T00:00:00.000000000",
          "2020-02-04T00:00:00.000000000",
          "2020-02-05T00:00:00.000000000",
          "2020-02-06T00:00:00.000000000",
          "2020-02-07T00:00:00.000000000",
          "2020-02-10T00:00:00.000000000",
          "2020-02-11T00:00:00.000000000",
          "2020-02-12T00:00:00.000000000",
          "2020-02-13T00:00:00.000000000",
          "2020-02-14T00:00:00.000000000",
          "2020-02-18T00:00:00.000000000",
          "2020-02-19T00:00:00.000000000",
          "2020-02-20T00:00:00.000000000",
          "2020-02-21T00:00:00.000000000",
          "2020-02-24T00:00:00.000000000",
          "2020-02-25T00:00:00.000000000",
          "2020-02-26T00:00:00.000000000",
          "2020-02-27T00:00:00.000000000",
          "2020-02-28T00:00:00.000000000",
          "2020-03-02T00:00:00.000000000",
          "2020-03-03T00:00:00.000000000",
          "2020-03-04T00:00:00.000000000",
          "2020-03-05T00:00:00.000000000",
          "2020-03-06T00:00:00.000000000",
          "2020-03-09T00:00:00.000000000",
          "2020-03-10T00:00:00.000000000",
          "2020-03-11T00:00:00.000000000",
          "2020-03-12T00:00:00.000000000",
          "2020-03-13T00:00:00.000000000",
          "2020-03-16T00:00:00.000000000",
          "2020-03-17T00:00:00.000000000",
          "2020-03-18T00:00:00.000000000",
          "2020-03-19T00:00:00.000000000",
          "2020-03-20T00:00:00.000000000",
          "2020-03-23T00:00:00.000000000",
          "2020-03-24T00:00:00.000000000",
          "2020-03-25T00:00:00.000000000",
          "2020-03-26T00:00:00.000000000",
          "2020-03-27T00:00:00.000000000",
          "2020-03-30T00:00:00.000000000",
          "2020-03-31T00:00:00.000000000",
          "2020-04-01T00:00:00.000000000",
          "2020-04-02T00:00:00.000000000",
          "2020-04-03T00:00:00.000000000",
          "2020-04-06T00:00:00.000000000",
          "2020-04-07T00:00:00.000000000",
          "2020-04-08T00:00:00.000000000",
          "2020-04-09T00:00:00.000000000",
          "2020-04-13T00:00:00.000000000",
          "2020-04-14T00:00:00.000000000",
          "2020-04-15T00:00:00.000000000",
          "2020-04-16T00:00:00.000000000",
          "2020-04-17T00:00:00.000000000",
          "2020-04-20T00:00:00.000000000",
          "2020-04-21T00:00:00.000000000",
          "2020-04-22T00:00:00.000000000",
          "2020-04-23T00:00:00.000000000",
          "2020-04-24T00:00:00.000000000",
          "2020-04-27T00:00:00.000000000",
          "2020-04-28T00:00:00.000000000",
          "2020-04-29T00:00:00.000000000",
          "2020-04-30T00:00:00.000000000",
          "2020-05-01T00:00:00.000000000",
          "2020-05-04T00:00:00.000000000",
          "2020-05-05T00:00:00.000000000",
          "2020-05-06T00:00:00.000000000",
          "2020-05-07T00:00:00.000000000",
          "2020-05-08T00:00:00.000000000",
          "2020-05-11T00:00:00.000000000",
          "2020-05-12T00:00:00.000000000",
          "2020-05-13T00:00:00.000000000",
          "2020-05-14T00:00:00.000000000",
          "2020-05-15T00:00:00.000000000",
          "2020-05-18T00:00:00.000000000",
          "2020-05-19T00:00:00.000000000",
          "2020-05-20T00:00:00.000000000",
          "2020-05-21T00:00:00.000000000",
          "2020-05-22T00:00:00.000000000",
          "2020-05-26T00:00:00.000000000",
          "2020-05-27T00:00:00.000000000",
          "2020-05-28T00:00:00.000000000",
          "2020-05-29T00:00:00.000000000",
          "2020-06-01T00:00:00.000000000",
          "2020-06-02T00:00:00.000000000",
          "2020-06-03T00:00:00.000000000",
          "2020-06-04T00:00:00.000000000",
          "2020-06-05T00:00:00.000000000",
          "2020-06-08T00:00:00.000000000",
          "2020-06-09T00:00:00.000000000",
          "2020-06-10T00:00:00.000000000",
          "2020-06-11T00:00:00.000000000",
          "2020-06-12T00:00:00.000000000",
          "2020-06-15T00:00:00.000000000",
          "2020-06-16T00:00:00.000000000",
          "2020-06-17T00:00:00.000000000",
          "2020-06-18T00:00:00.000000000",
          "2020-06-19T00:00:00.000000000",
          "2020-06-22T00:00:00.000000000",
          "2020-06-23T00:00:00.000000000",
          "2020-06-24T00:00:00.000000000",
          "2020-06-25T00:00:00.000000000",
          "2020-06-26T00:00:00.000000000",
          "2020-06-29T00:00:00.000000000",
          "2020-06-30T00:00:00.000000000",
          "2020-07-01T00:00:00.000000000",
          "2020-07-02T00:00:00.000000000",
          "2020-07-06T00:00:00.000000000",
          "2020-07-07T00:00:00.000000000",
          "2020-07-08T00:00:00.000000000",
          "2020-07-09T00:00:00.000000000",
          "2020-07-10T00:00:00.000000000",
          "2020-07-13T00:00:00.000000000",
          "2020-07-14T00:00:00.000000000",
          "2020-07-15T00:00:00.000000000",
          "2020-07-16T00:00:00.000000000",
          "2020-07-17T00:00:00.000000000",
          "2020-07-20T00:00:00.000000000",
          "2020-07-21T00:00:00.000000000",
          "2020-07-22T00:00:00.000000000",
          "2020-07-23T00:00:00.000000000",
          "2020-07-24T00:00:00.000000000",
          "2020-07-27T00:00:00.000000000",
          "2020-07-28T00:00:00.000000000",
          "2020-07-29T00:00:00.000000000",
          "2020-07-30T00:00:00.000000000",
          "2020-07-31T00:00:00.000000000",
          "2020-08-03T00:00:00.000000000",
          "2020-08-04T00:00:00.000000000",
          "2020-08-05T00:00:00.000000000",
          "2020-08-06T00:00:00.000000000",
          "2020-08-07T00:00:00.000000000",
          "2020-08-10T00:00:00.000000000",
          "2020-08-11T00:00:00.000000000",
          "2020-08-12T00:00:00.000000000",
          "2020-08-13T00:00:00.000000000",
          "2020-08-14T00:00:00.000000000",
          "2020-08-17T00:00:00.000000000",
          "2020-08-18T00:00:00.000000000",
          "2020-08-19T00:00:00.000000000",
          "2020-08-20T00:00:00.000000000",
          "2020-08-21T00:00:00.000000000",
          "2020-08-24T00:00:00.000000000",
          "2020-08-25T00:00:00.000000000",
          "2020-08-26T00:00:00.000000000",
          "2020-08-27T00:00:00.000000000",
          "2020-08-28T00:00:00.000000000",
          "2020-08-31T00:00:00.000000000",
          "2020-09-01T00:00:00.000000000",
          "2020-09-02T00:00:00.000000000",
          "2020-09-03T00:00:00.000000000",
          "2020-09-04T00:00:00.000000000",
          "2020-09-08T00:00:00.000000000",
          "2020-09-09T00:00:00.000000000",
          "2020-09-10T00:00:00.000000000",
          "2020-09-11T00:00:00.000000000",
          "2020-09-14T00:00:00.000000000",
          "2020-09-15T00:00:00.000000000",
          "2020-09-16T00:00:00.000000000",
          "2020-09-17T00:00:00.000000000",
          "2020-09-18T00:00:00.000000000",
          "2020-09-21T00:00:00.000000000",
          "2020-09-22T00:00:00.000000000",
          "2020-09-23T00:00:00.000000000",
          "2020-09-24T00:00:00.000000000",
          "2020-09-25T00:00:00.000000000",
          "2020-09-28T00:00:00.000000000",
          "2020-09-29T00:00:00.000000000",
          "2020-09-30T00:00:00.000000000",
          "2020-10-01T00:00:00.000000000",
          "2020-10-02T00:00:00.000000000",
          "2020-10-05T00:00:00.000000000",
          "2020-10-06T00:00:00.000000000",
          "2020-10-07T00:00:00.000000000",
          "2020-10-08T00:00:00.000000000",
          "2020-10-09T00:00:00.000000000",
          "2020-10-12T00:00:00.000000000",
          "2020-10-13T00:00:00.000000000",
          "2020-10-14T00:00:00.000000000",
          "2020-10-15T00:00:00.000000000",
          "2020-10-16T00:00:00.000000000",
          "2020-10-19T00:00:00.000000000",
          "2020-10-20T00:00:00.000000000",
          "2020-10-21T00:00:00.000000000",
          "2020-10-22T00:00:00.000000000",
          "2020-10-23T00:00:00.000000000",
          "2020-10-26T00:00:00.000000000",
          "2020-10-27T00:00:00.000000000",
          "2020-10-28T00:00:00.000000000",
          "2020-10-29T00:00:00.000000000",
          "2020-10-30T00:00:00.000000000",
          "2020-11-02T00:00:00.000000000",
          "2020-11-03T00:00:00.000000000",
          "2020-11-04T00:00:00.000000000",
          "2020-11-05T00:00:00.000000000",
          "2020-11-06T00:00:00.000000000",
          "2020-11-09T00:00:00.000000000",
          "2020-11-10T00:00:00.000000000",
          "2020-11-11T00:00:00.000000000",
          "2020-11-12T00:00:00.000000000",
          "2020-11-13T00:00:00.000000000",
          "2020-11-16T00:00:00.000000000",
          "2020-11-17T00:00:00.000000000",
          "2020-11-18T00:00:00.000000000",
          "2020-11-19T00:00:00.000000000",
          "2020-11-20T00:00:00.000000000",
          "2020-11-23T00:00:00.000000000",
          "2020-11-24T00:00:00.000000000",
          "2020-11-25T00:00:00.000000000",
          "2020-11-27T00:00:00.000000000",
          "2020-11-30T00:00:00.000000000",
          "2020-12-01T00:00:00.000000000",
          "2020-12-02T00:00:00.000000000",
          "2020-12-03T00:00:00.000000000",
          "2020-12-04T00:00:00.000000000",
          "2020-12-07T00:00:00.000000000",
          "2020-12-08T00:00:00.000000000",
          "2020-12-09T00:00:00.000000000",
          "2020-12-10T00:00:00.000000000",
          "2020-12-11T00:00:00.000000000",
          "2020-12-14T00:00:00.000000000",
          "2020-12-15T00:00:00.000000000",
          "2020-12-16T00:00:00.000000000",
          "2020-12-17T00:00:00.000000000",
          "2020-12-18T00:00:00.000000000",
          "2020-12-21T00:00:00.000000000",
          "2020-12-22T00:00:00.000000000",
          "2020-12-23T00:00:00.000000000",
          "2020-12-24T00:00:00.000000000",
          "2020-12-28T00:00:00.000000000",
          "2020-12-29T00:00:00.000000000",
          "2020-12-30T00:00:00.000000000",
          "2020-12-31T00:00:00.000000000",
          "2021-01-04T00:00:00.000000000",
          "2021-01-05T00:00:00.000000000",
          "2021-01-06T00:00:00.000000000",
          "2021-01-07T00:00:00.000000000",
          "2021-01-08T00:00:00.000000000",
          "2021-01-11T00:00:00.000000000",
          "2021-01-12T00:00:00.000000000",
          "2021-01-13T00:00:00.000000000",
          "2021-01-14T00:00:00.000000000",
          "2021-01-15T00:00:00.000000000",
          "2021-01-19T00:00:00.000000000",
          "2021-01-20T00:00:00.000000000",
          "2021-01-21T00:00:00.000000000",
          "2021-01-22T00:00:00.000000000",
          "2021-01-25T00:00:00.000000000",
          "2021-01-26T00:00:00.000000000",
          "2021-01-27T00:00:00.000000000",
          "2021-01-28T00:00:00.000000000",
          "2021-01-29T00:00:00.000000000",
          "2021-02-01T00:00:00.000000000",
          "2021-02-02T00:00:00.000000000",
          "2021-02-03T00:00:00.000000000",
          "2021-02-04T00:00:00.000000000",
          "2021-02-05T00:00:00.000000000",
          "2021-02-08T00:00:00.000000000",
          "2021-02-09T00:00:00.000000000",
          "2021-02-10T00:00:00.000000000",
          "2021-02-11T00:00:00.000000000",
          "2021-02-12T00:00:00.000000000",
          "2021-02-16T00:00:00.000000000",
          "2021-02-17T00:00:00.000000000",
          "2021-02-18T00:00:00.000000000",
          "2021-02-19T00:00:00.000000000",
          "2021-02-22T00:00:00.000000000",
          "2021-02-23T00:00:00.000000000",
          "2021-02-24T00:00:00.000000000",
          "2021-02-25T00:00:00.000000000",
          "2021-02-26T00:00:00.000000000",
          "2021-03-01T00:00:00.000000000",
          "2021-03-02T00:00:00.000000000",
          "2021-03-03T00:00:00.000000000",
          "2021-03-04T00:00:00.000000000",
          "2021-03-05T00:00:00.000000000",
          "2021-03-08T00:00:00.000000000",
          "2021-03-09T00:00:00.000000000",
          "2021-03-10T00:00:00.000000000",
          "2021-03-11T00:00:00.000000000",
          "2021-03-12T00:00:00.000000000",
          "2021-03-15T00:00:00.000000000",
          "2021-03-16T00:00:00.000000000",
          "2021-03-17T00:00:00.000000000",
          "2021-03-18T00:00:00.000000000",
          "2021-03-19T00:00:00.000000000",
          "2021-03-22T00:00:00.000000000",
          "2021-03-23T00:00:00.000000000",
          "2021-03-24T00:00:00.000000000",
          "2021-03-25T00:00:00.000000000",
          "2021-03-26T00:00:00.000000000",
          "2021-03-29T00:00:00.000000000",
          "2021-03-30T00:00:00.000000000",
          "2021-03-31T00:00:00.000000000",
          "2021-04-01T00:00:00.000000000",
          "2021-04-05T00:00:00.000000000",
          "2021-04-06T00:00:00.000000000",
          "2021-04-07T00:00:00.000000000",
          "2021-04-08T00:00:00.000000000",
          "2021-04-09T00:00:00.000000000",
          "2021-04-12T00:00:00.000000000",
          "2021-04-13T00:00:00.000000000",
          "2021-04-14T00:00:00.000000000",
          "2021-04-15T00:00:00.000000000",
          "2021-04-16T00:00:00.000000000",
          "2021-04-19T00:00:00.000000000",
          "2021-04-20T00:00:00.000000000",
          "2021-04-21T00:00:00.000000000",
          "2021-04-22T00:00:00.000000000",
          "2021-04-23T00:00:00.000000000",
          "2021-04-26T00:00:00.000000000",
          "2021-04-27T00:00:00.000000000",
          "2021-04-28T00:00:00.000000000",
          "2021-04-29T00:00:00.000000000",
          "2021-04-30T00:00:00.000000000",
          "2021-05-03T00:00:00.000000000",
          "2021-05-04T00:00:00.000000000",
          "2021-05-05T00:00:00.000000000",
          "2021-05-06T00:00:00.000000000",
          "2021-05-07T00:00:00.000000000",
          "2021-05-10T00:00:00.000000000",
          "2021-05-11T00:00:00.000000000",
          "2021-05-12T00:00:00.000000000",
          "2021-05-13T00:00:00.000000000",
          "2021-05-14T00:00:00.000000000",
          "2021-05-17T00:00:00.000000000",
          "2021-05-18T00:00:00.000000000",
          "2021-05-19T00:00:00.000000000",
          "2021-05-20T00:00:00.000000000",
          "2021-05-21T00:00:00.000000000",
          "2021-05-24T00:00:00.000000000",
          "2021-05-25T00:00:00.000000000",
          "2021-05-26T00:00:00.000000000",
          "2021-05-27T00:00:00.000000000",
          "2021-05-28T00:00:00.000000000",
          "2021-06-01T00:00:00.000000000",
          "2021-06-02T00:00:00.000000000",
          "2021-06-03T00:00:00.000000000",
          "2021-06-04T00:00:00.000000000",
          "2021-06-07T00:00:00.000000000",
          "2021-06-08T00:00:00.000000000",
          "2021-06-09T00:00:00.000000000",
          "2021-06-10T00:00:00.000000000",
          "2021-06-11T00:00:00.000000000",
          "2021-06-14T00:00:00.000000000",
          "2021-06-15T00:00:00.000000000",
          "2021-06-16T00:00:00.000000000",
          "2021-06-17T00:00:00.000000000",
          "2021-06-18T00:00:00.000000000",
          "2021-06-21T00:00:00.000000000",
          "2021-06-22T00:00:00.000000000",
          "2021-06-23T00:00:00.000000000",
          "2021-06-24T00:00:00.000000000",
          "2021-06-25T00:00:00.000000000",
          "2021-06-28T00:00:00.000000000",
          "2021-06-29T00:00:00.000000000",
          "2021-06-30T00:00:00.000000000",
          "2021-07-01T00:00:00.000000000",
          "2021-07-02T00:00:00.000000000",
          "2021-07-06T00:00:00.000000000",
          "2021-07-07T00:00:00.000000000",
          "2021-07-08T00:00:00.000000000",
          "2021-07-09T00:00:00.000000000",
          "2021-07-12T00:00:00.000000000",
          "2021-07-13T00:00:00.000000000",
          "2021-07-14T00:00:00.000000000",
          "2021-07-15T00:00:00.000000000",
          "2021-07-16T00:00:00.000000000",
          "2021-07-19T00:00:00.000000000",
          "2021-07-20T00:00:00.000000000",
          "2021-07-21T00:00:00.000000000",
          "2021-07-22T00:00:00.000000000",
          "2021-07-23T00:00:00.000000000",
          "2021-07-26T00:00:00.000000000",
          "2021-07-27T00:00:00.000000000",
          "2021-07-28T00:00:00.000000000",
          "2021-07-29T00:00:00.000000000",
          "2021-07-30T00:00:00.000000000",
          "2021-08-02T00:00:00.000000000",
          "2021-08-03T00:00:00.000000000",
          "2021-08-04T00:00:00.000000000",
          "2021-08-05T00:00:00.000000000",
          "2021-08-06T00:00:00.000000000",
          "2021-08-09T00:00:00.000000000",
          "2021-08-10T00:00:00.000000000",
          "2021-08-11T00:00:00.000000000",
          "2021-08-12T00:00:00.000000000",
          "2021-08-13T00:00:00.000000000",
          "2021-08-16T00:00:00.000000000",
          "2021-08-17T00:00:00.000000000",
          "2021-08-18T00:00:00.000000000",
          "2021-08-19T00:00:00.000000000",
          "2021-08-20T00:00:00.000000000",
          "2021-08-23T00:00:00.000000000",
          "2021-08-24T00:00:00.000000000",
          "2021-08-25T00:00:00.000000000",
          "2021-08-26T00:00:00.000000000",
          "2021-08-27T00:00:00.000000000",
          "2021-08-30T00:00:00.000000000",
          "2021-08-31T00:00:00.000000000",
          "2021-09-01T00:00:00.000000000",
          "2021-09-02T00:00:00.000000000",
          "2021-09-03T00:00:00.000000000",
          "2021-09-07T00:00:00.000000000",
          "2021-09-08T00:00:00.000000000",
          "2021-09-09T00:00:00.000000000",
          "2021-09-10T00:00:00.000000000",
          "2021-09-13T00:00:00.000000000",
          "2021-09-14T00:00:00.000000000",
          "2021-09-15T00:00:00.000000000",
          "2021-09-16T00:00:00.000000000",
          "2021-09-17T00:00:00.000000000",
          "2021-09-20T00:00:00.000000000",
          "2021-09-21T00:00:00.000000000",
          "2021-09-22T00:00:00.000000000",
          "2021-09-23T00:00:00.000000000",
          "2021-09-24T00:00:00.000000000",
          "2021-09-27T00:00:00.000000000",
          "2021-09-28T00:00:00.000000000",
          "2021-09-29T00:00:00.000000000",
          "2021-09-30T00:00:00.000000000",
          "2021-10-01T00:00:00.000000000",
          "2021-10-04T00:00:00.000000000",
          "2021-10-05T00:00:00.000000000",
          "2021-10-06T00:00:00.000000000",
          "2021-10-07T00:00:00.000000000",
          "2021-10-08T00:00:00.000000000",
          "2021-10-11T00:00:00.000000000",
          "2021-10-12T00:00:00.000000000",
          "2021-10-13T00:00:00.000000000",
          "2021-10-14T00:00:00.000000000",
          "2021-10-15T00:00:00.000000000",
          "2021-10-18T00:00:00.000000000",
          "2021-10-19T00:00:00.000000000",
          "2021-10-20T00:00:00.000000000",
          "2021-10-21T00:00:00.000000000",
          "2021-10-22T00:00:00.000000000",
          "2021-10-25T00:00:00.000000000",
          "2021-10-26T00:00:00.000000000",
          "2021-10-27T00:00:00.000000000",
          "2021-10-28T00:00:00.000000000",
          "2021-10-29T00:00:00.000000000",
          "2021-11-01T00:00:00.000000000",
          "2021-11-02T00:00:00.000000000",
          "2021-11-03T00:00:00.000000000",
          "2021-11-04T00:00:00.000000000",
          "2021-11-05T00:00:00.000000000",
          "2021-11-08T00:00:00.000000000",
          "2021-11-09T00:00:00.000000000",
          "2021-11-10T00:00:00.000000000",
          "2021-11-11T00:00:00.000000000",
          "2021-11-12T00:00:00.000000000",
          "2021-11-15T00:00:00.000000000",
          "2021-11-16T00:00:00.000000000",
          "2021-11-17T00:00:00.000000000",
          "2021-11-18T00:00:00.000000000",
          "2021-11-19T00:00:00.000000000",
          "2021-11-22T00:00:00.000000000",
          "2021-11-23T00:00:00.000000000",
          "2021-11-24T00:00:00.000000000",
          "2021-11-26T00:00:00.000000000",
          "2021-11-29T00:00:00.000000000",
          "2021-11-30T00:00:00.000000000",
          "2021-12-01T00:00:00.000000000",
          "2021-12-02T00:00:00.000000000",
          "2021-12-03T00:00:00.000000000",
          "2021-12-06T00:00:00.000000000",
          "2021-12-07T00:00:00.000000000",
          "2021-12-08T00:00:00.000000000",
          "2021-12-09T00:00:00.000000000",
          "2021-12-10T00:00:00.000000000",
          "2021-12-13T00:00:00.000000000",
          "2021-12-14T00:00:00.000000000",
          "2021-12-15T00:00:00.000000000",
          "2021-12-16T00:00:00.000000000",
          "2021-12-17T00:00:00.000000000",
          "2021-12-20T00:00:00.000000000",
          "2021-12-21T00:00:00.000000000",
          "2021-12-22T00:00:00.000000000",
          "2021-12-23T00:00:00.000000000",
          "2021-12-27T00:00:00.000000000",
          "2021-12-28T00:00:00.000000000",
          "2021-12-29T00:00:00.000000000",
          "2021-12-30T00:00:00.000000000",
          "2021-12-31T00:00:00.000000000",
          "2022-01-03T00:00:00.000000000",
          "2022-01-04T00:00:00.000000000",
          "2022-01-05T00:00:00.000000000",
          "2022-01-06T00:00:00.000000000",
          "2022-01-07T00:00:00.000000000",
          "2022-01-10T00:00:00.000000000",
          "2022-01-11T00:00:00.000000000",
          "2022-01-12T00:00:00.000000000",
          "2022-01-13T00:00:00.000000000",
          "2022-01-14T00:00:00.000000000",
          "2022-01-18T00:00:00.000000000",
          "2022-01-19T00:00:00.000000000",
          "2022-01-20T00:00:00.000000000",
          "2022-01-21T00:00:00.000000000",
          "2022-01-24T00:00:00.000000000",
          "2022-01-25T00:00:00.000000000",
          "2022-01-26T00:00:00.000000000",
          "2022-01-27T00:00:00.000000000",
          "2022-01-28T00:00:00.000000000",
          "2022-01-31T00:00:00.000000000",
          "2022-02-01T00:00:00.000000000",
          "2022-02-02T00:00:00.000000000",
          "2022-02-03T00:00:00.000000000",
          "2022-02-04T00:00:00.000000000",
          "2022-02-07T00:00:00.000000000",
          "2022-02-08T00:00:00.000000000",
          "2022-02-09T00:00:00.000000000",
          "2022-02-10T00:00:00.000000000",
          "2022-02-11T00:00:00.000000000",
          "2022-02-14T00:00:00.000000000",
          "2022-02-15T00:00:00.000000000",
          "2022-02-16T00:00:00.000000000",
          "2022-02-17T00:00:00.000000000",
          "2022-02-18T00:00:00.000000000",
          "2022-02-22T00:00:00.000000000",
          "2022-02-23T00:00:00.000000000",
          "2022-02-24T00:00:00.000000000",
          "2022-02-25T00:00:00.000000000",
          "2022-02-28T00:00:00.000000000",
          "2022-03-01T00:00:00.000000000",
          "2022-03-02T00:00:00.000000000",
          "2022-03-03T00:00:00.000000000",
          "2022-03-04T00:00:00.000000000",
          "2022-03-07T00:00:00.000000000",
          "2022-03-08T00:00:00.000000000",
          "2022-03-09T00:00:00.000000000",
          "2022-03-10T00:00:00.000000000",
          "2022-03-11T00:00:00.000000000",
          "2022-03-14T00:00:00.000000000",
          "2022-03-15T00:00:00.000000000",
          "2022-03-16T00:00:00.000000000",
          "2022-03-17T00:00:00.000000000",
          "2022-03-18T00:00:00.000000000",
          "2022-03-21T00:00:00.000000000",
          "2022-03-22T00:00:00.000000000",
          "2022-03-23T00:00:00.000000000",
          "2022-03-24T00:00:00.000000000",
          "2022-03-25T00:00:00.000000000",
          "2022-03-28T00:00:00.000000000",
          "2022-03-29T00:00:00.000000000",
          "2022-03-30T00:00:00.000000000",
          "2022-03-31T00:00:00.000000000",
          "2022-04-01T00:00:00.000000000",
          "2022-04-04T00:00:00.000000000",
          "2022-04-05T00:00:00.000000000",
          "2022-04-06T00:00:00.000000000",
          "2022-04-07T00:00:00.000000000",
          "2022-04-08T00:00:00.000000000",
          "2022-04-11T00:00:00.000000000",
          "2022-04-12T00:00:00.000000000",
          "2022-04-13T00:00:00.000000000",
          "2022-04-14T00:00:00.000000000",
          "2022-04-18T00:00:00.000000000",
          "2022-04-19T00:00:00.000000000",
          "2022-04-20T00:00:00.000000000",
          "2022-04-21T00:00:00.000000000",
          "2022-04-22T00:00:00.000000000",
          "2022-04-25T00:00:00.000000000",
          "2022-04-26T00:00:00.000000000",
          "2022-04-27T00:00:00.000000000",
          "2022-04-28T00:00:00.000000000",
          "2022-04-29T00:00:00.000000000",
          "2022-05-02T00:00:00.000000000",
          "2022-05-03T00:00:00.000000000",
          "2022-05-04T00:00:00.000000000",
          "2022-05-05T00:00:00.000000000",
          "2022-05-06T00:00:00.000000000",
          "2022-05-09T00:00:00.000000000",
          "2022-05-10T00:00:00.000000000",
          "2022-05-11T00:00:00.000000000",
          "2022-05-12T00:00:00.000000000",
          "2022-05-13T00:00:00.000000000",
          "2022-05-16T00:00:00.000000000",
          "2022-05-17T00:00:00.000000000",
          "2022-05-18T00:00:00.000000000",
          "2022-05-19T00:00:00.000000000",
          "2022-05-20T00:00:00.000000000",
          "2022-05-23T00:00:00.000000000",
          "2022-05-24T00:00:00.000000000",
          "2022-05-25T00:00:00.000000000",
          "2022-05-26T00:00:00.000000000",
          "2022-05-27T00:00:00.000000000",
          "2022-05-31T00:00:00.000000000",
          "2022-06-01T00:00:00.000000000",
          "2022-06-02T00:00:00.000000000",
          "2022-06-03T00:00:00.000000000",
          "2022-06-06T00:00:00.000000000",
          "2022-06-07T00:00:00.000000000",
          "2022-06-08T00:00:00.000000000",
          "2022-06-09T00:00:00.000000000",
          "2022-06-10T00:00:00.000000000",
          "2022-06-13T00:00:00.000000000",
          "2022-06-14T00:00:00.000000000",
          "2022-06-15T00:00:00.000000000",
          "2022-06-16T00:00:00.000000000",
          "2022-06-17T00:00:00.000000000",
          "2022-06-21T00:00:00.000000000",
          "2022-06-22T00:00:00.000000000",
          "2022-06-23T00:00:00.000000000",
          "2022-06-24T00:00:00.000000000",
          "2022-06-27T00:00:00.000000000",
          "2022-06-28T00:00:00.000000000",
          "2022-06-29T00:00:00.000000000",
          "2022-06-30T00:00:00.000000000",
          "2022-07-01T00:00:00.000000000",
          "2022-07-05T00:00:00.000000000",
          "2022-07-06T00:00:00.000000000",
          "2022-07-07T00:00:00.000000000",
          "2022-07-08T00:00:00.000000000",
          "2022-07-11T00:00:00.000000000",
          "2022-07-12T00:00:00.000000000",
          "2022-07-13T00:00:00.000000000",
          "2022-07-14T00:00:00.000000000",
          "2022-07-15T00:00:00.000000000",
          "2022-07-18T00:00:00.000000000",
          "2022-07-19T00:00:00.000000000",
          "2022-07-20T00:00:00.000000000",
          "2022-07-21T00:00:00.000000000",
          "2022-07-22T00:00:00.000000000",
          "2022-07-25T00:00:00.000000000",
          "2022-07-26T00:00:00.000000000",
          "2022-07-27T00:00:00.000000000",
          "2022-07-28T00:00:00.000000000",
          "2022-07-29T00:00:00.000000000",
          "2022-08-01T00:00:00.000000000",
          "2022-08-02T00:00:00.000000000",
          "2022-08-03T00:00:00.000000000",
          "2022-08-04T00:00:00.000000000",
          "2022-08-05T00:00:00.000000000",
          "2022-08-08T00:00:00.000000000",
          "2022-08-09T00:00:00.000000000",
          "2022-08-10T00:00:00.000000000",
          "2022-08-11T00:00:00.000000000",
          "2022-08-12T00:00:00.000000000",
          "2022-08-15T00:00:00.000000000",
          "2022-08-16T00:00:00.000000000",
          "2022-08-17T00:00:00.000000000",
          "2022-08-18T00:00:00.000000000",
          "2022-08-19T00:00:00.000000000",
          "2022-08-22T00:00:00.000000000",
          "2022-08-23T00:00:00.000000000",
          "2022-08-24T00:00:00.000000000",
          "2022-08-25T00:00:00.000000000",
          "2022-08-26T00:00:00.000000000",
          "2022-08-29T00:00:00.000000000",
          "2022-08-30T00:00:00.000000000",
          "2022-08-31T00:00:00.000000000",
          "2022-09-01T00:00:00.000000000",
          "2022-09-02T00:00:00.000000000",
          "2022-09-06T00:00:00.000000000",
          "2022-09-07T00:00:00.000000000",
          "2022-09-08T00:00:00.000000000",
          "2022-09-09T00:00:00.000000000",
          "2022-09-12T00:00:00.000000000",
          "2022-09-13T00:00:00.000000000",
          "2022-09-14T00:00:00.000000000",
          "2022-09-15T00:00:00.000000000",
          "2022-09-16T00:00:00.000000000",
          "2022-09-19T00:00:00.000000000",
          "2022-09-20T00:00:00.000000000",
          "2022-09-21T00:00:00.000000000",
          "2022-09-22T00:00:00.000000000",
          "2022-09-23T00:00:00.000000000",
          "2022-09-26T00:00:00.000000000",
          "2022-09-27T00:00:00.000000000",
          "2022-09-28T00:00:00.000000000",
          "2022-09-29T00:00:00.000000000",
          "2022-09-30T00:00:00.000000000",
          "2022-10-03T00:00:00.000000000",
          "2022-10-04T00:00:00.000000000",
          "2022-10-05T00:00:00.000000000",
          "2022-10-06T00:00:00.000000000",
          "2022-10-07T00:00:00.000000000",
          "2022-10-10T00:00:00.000000000",
          "2022-10-11T00:00:00.000000000",
          "2022-10-12T00:00:00.000000000",
          "2022-10-13T00:00:00.000000000",
          "2022-10-14T00:00:00.000000000",
          "2022-10-17T00:00:00.000000000",
          "2022-10-18T00:00:00.000000000",
          "2022-10-19T00:00:00.000000000",
          "2022-10-20T00:00:00.000000000",
          "2022-10-21T00:00:00.000000000",
          "2022-10-24T00:00:00.000000000",
          "2022-10-25T00:00:00.000000000",
          "2022-10-26T00:00:00.000000000",
          "2022-10-27T00:00:00.000000000",
          "2022-10-28T00:00:00.000000000",
          "2022-10-31T00:00:00.000000000",
          "2022-11-01T00:00:00.000000000",
          "2022-11-02T00:00:00.000000000",
          "2022-11-03T00:00:00.000000000",
          "2022-11-04T00:00:00.000000000",
          "2022-11-07T00:00:00.000000000",
          "2022-11-08T00:00:00.000000000",
          "2022-11-09T00:00:00.000000000",
          "2022-11-10T00:00:00.000000000",
          "2022-11-11T00:00:00.000000000",
          "2022-11-14T00:00:00.000000000",
          "2022-11-15T00:00:00.000000000",
          "2022-11-16T00:00:00.000000000",
          "2022-11-17T00:00:00.000000000",
          "2022-11-18T00:00:00.000000000",
          "2022-11-21T00:00:00.000000000",
          "2022-11-22T00:00:00.000000000",
          "2022-11-23T00:00:00.000000000",
          "2022-11-25T00:00:00.000000000",
          "2022-11-28T00:00:00.000000000",
          "2022-11-29T00:00:00.000000000",
          "2022-11-30T00:00:00.000000000",
          "2022-12-01T00:00:00.000000000",
          "2022-12-02T00:00:00.000000000",
          "2022-12-05T00:00:00.000000000",
          "2022-12-06T00:00:00.000000000",
          "2022-12-07T00:00:00.000000000",
          "2022-12-08T00:00:00.000000000",
          "2022-12-09T00:00:00.000000000",
          "2022-12-12T00:00:00.000000000",
          "2022-12-13T00:00:00.000000000",
          "2022-12-14T00:00:00.000000000",
          "2022-12-15T00:00:00.000000000",
          "2022-12-16T00:00:00.000000000",
          "2022-12-19T00:00:00.000000000",
          "2022-12-20T00:00:00.000000000",
          "2022-12-21T00:00:00.000000000",
          "2022-12-22T00:00:00.000000000",
          "2022-12-23T00:00:00.000000000",
          "2022-12-27T00:00:00.000000000",
          "2022-12-28T00:00:00.000000000",
          "2022-12-29T00:00:00.000000000",
          "2022-12-30T00:00:00.000000000",
          "2023-01-03T00:00:00.000000000",
          "2023-01-04T00:00:00.000000000",
          "2023-01-05T00:00:00.000000000",
          "2023-01-06T00:00:00.000000000",
          "2023-01-09T00:00:00.000000000",
          "2023-01-10T00:00:00.000000000",
          "2023-01-11T00:00:00.000000000",
          "2023-01-12T00:00:00.000000000",
          "2023-01-13T00:00:00.000000000",
          "2023-01-17T00:00:00.000000000",
          "2023-01-18T00:00:00.000000000",
          "2023-01-19T00:00:00.000000000",
          "2023-01-20T00:00:00.000000000",
          "2023-01-23T00:00:00.000000000",
          "2023-01-24T00:00:00.000000000",
          "2023-01-25T00:00:00.000000000",
          "2023-01-26T00:00:00.000000000",
          "2023-01-27T00:00:00.000000000",
          "2023-01-30T00:00:00.000000000",
          "2023-01-31T00:00:00.000000000",
          "2023-02-01T00:00:00.000000000",
          "2023-02-02T00:00:00.000000000",
          "2023-02-03T00:00:00.000000000",
          "2023-02-06T00:00:00.000000000",
          "2023-02-07T00:00:00.000000000",
          "2023-02-08T00:00:00.000000000",
          "2023-02-09T00:00:00.000000000",
          "2023-02-10T00:00:00.000000000",
          "2023-02-13T00:00:00.000000000",
          "2023-02-14T00:00:00.000000000",
          "2023-02-15T00:00:00.000000000",
          "2023-02-16T00:00:00.000000000",
          "2023-02-17T00:00:00.000000000",
          "2023-02-21T00:00:00.000000000",
          "2023-02-22T00:00:00.000000000",
          "2023-02-23T00:00:00.000000000",
          "2023-02-24T00:00:00.000000000",
          "2023-02-27T00:00:00.000000000",
          "2023-02-28T00:00:00.000000000",
          "2023-03-01T00:00:00.000000000",
          "2023-03-02T00:00:00.000000000",
          "2023-03-03T00:00:00.000000000",
          "2023-03-06T00:00:00.000000000",
          "2023-03-07T00:00:00.000000000",
          "2023-03-08T00:00:00.000000000",
          "2023-03-09T00:00:00.000000000",
          "2023-03-10T00:00:00.000000000",
          "2023-03-13T00:00:00.000000000",
          "2023-03-14T00:00:00.000000000",
          "2023-03-15T00:00:00.000000000",
          "2023-03-16T00:00:00.000000000",
          "2023-03-17T00:00:00.000000000",
          "2023-03-20T00:00:00.000000000",
          "2023-03-21T00:00:00.000000000",
          "2023-03-22T00:00:00.000000000",
          "2023-03-23T00:00:00.000000000",
          "2023-03-24T00:00:00.000000000",
          "2023-03-27T00:00:00.000000000",
          "2023-03-28T00:00:00.000000000",
          "2023-03-29T00:00:00.000000000",
          "2023-03-30T00:00:00.000000000",
          "2023-03-31T00:00:00.000000000",
          "2023-04-03T00:00:00.000000000",
          "2023-04-04T00:00:00.000000000",
          "2023-04-05T00:00:00.000000000",
          "2023-04-06T00:00:00.000000000",
          "2023-04-10T00:00:00.000000000",
          "2023-04-11T00:00:00.000000000",
          "2023-04-12T00:00:00.000000000",
          "2023-04-13T00:00:00.000000000",
          "2023-04-14T00:00:00.000000000",
          "2023-04-17T00:00:00.000000000",
          "2023-04-18T00:00:00.000000000",
          "2023-04-19T00:00:00.000000000",
          "2023-04-20T00:00:00.000000000",
          "2023-04-21T00:00:00.000000000",
          "2023-04-24T00:00:00.000000000",
          "2023-04-25T00:00:00.000000000",
          "2023-04-26T00:00:00.000000000",
          "2023-04-27T00:00:00.000000000",
          "2023-04-28T00:00:00.000000000",
          "2023-05-01T00:00:00.000000000",
          "2023-05-02T00:00:00.000000000",
          "2023-05-03T00:00:00.000000000",
          "2023-05-04T00:00:00.000000000",
          "2023-05-05T00:00:00.000000000",
          "2023-05-08T00:00:00.000000000",
          "2023-05-09T00:00:00.000000000",
          "2023-05-10T00:00:00.000000000",
          "2023-05-11T00:00:00.000000000",
          "2023-05-12T00:00:00.000000000",
          "2023-05-15T00:00:00.000000000",
          "2023-05-16T00:00:00.000000000",
          "2023-05-17T00:00:00.000000000",
          "2023-05-18T00:00:00.000000000",
          "2023-05-19T00:00:00.000000000",
          "2023-05-22T00:00:00.000000000",
          "2023-05-23T00:00:00.000000000",
          "2023-05-24T00:00:00.000000000",
          "2023-05-25T00:00:00.000000000",
          "2023-05-26T00:00:00.000000000",
          "2023-05-30T00:00:00.000000000",
          "2023-05-31T00:00:00.000000000",
          "2023-06-01T00:00:00.000000000",
          "2023-06-02T00:00:00.000000000",
          "2023-06-05T00:00:00.000000000",
          "2023-06-06T00:00:00.000000000",
          "2023-06-07T00:00:00.000000000",
          "2023-06-08T00:00:00.000000000",
          "2023-06-09T00:00:00.000000000",
          "2023-06-12T00:00:00.000000000",
          "2023-06-13T00:00:00.000000000",
          "2023-06-14T00:00:00.000000000",
          "2023-06-15T00:00:00.000000000",
          "2023-06-16T00:00:00.000000000",
          "2023-06-20T00:00:00.000000000",
          "2023-06-21T00:00:00.000000000",
          "2023-06-22T00:00:00.000000000",
          "2023-06-23T00:00:00.000000000",
          "2023-06-26T00:00:00.000000000",
          "2023-06-27T00:00:00.000000000",
          "2023-06-28T00:00:00.000000000",
          "2023-06-29T00:00:00.000000000",
          "2023-06-30T00:00:00.000000000",
          "2023-07-03T00:00:00.000000000",
          "2023-07-05T00:00:00.000000000",
          "2023-07-06T00:00:00.000000000",
          "2023-07-07T00:00:00.000000000",
          "2023-07-10T00:00:00.000000000",
          "2023-07-11T00:00:00.000000000",
          "2023-07-12T00:00:00.000000000",
          "2023-07-13T00:00:00.000000000",
          "2023-07-14T00:00:00.000000000",
          "2023-07-17T00:00:00.000000000",
          "2023-07-18T00:00:00.000000000",
          "2023-07-19T00:00:00.000000000",
          "2023-07-20T00:00:00.000000000",
          "2023-07-21T00:00:00.000000000",
          "2023-07-24T00:00:00.000000000",
          "2023-07-25T00:00:00.000000000",
          "2023-07-26T00:00:00.000000000",
          "2023-07-27T00:00:00.000000000",
          "2023-07-28T00:00:00.000000000",
          "2023-07-31T00:00:00.000000000",
          "2023-08-01T00:00:00.000000000",
          "2023-08-02T00:00:00.000000000",
          "2023-08-03T00:00:00.000000000",
          "2023-08-04T00:00:00.000000000",
          "2023-08-07T00:00:00.000000000",
          "2023-08-08T00:00:00.000000000",
          "2023-08-09T00:00:00.000000000",
          "2023-08-10T00:00:00.000000000",
          "2023-08-11T00:00:00.000000000",
          "2023-08-14T00:00:00.000000000",
          "2023-08-15T00:00:00.000000000",
          "2023-08-16T00:00:00.000000000",
          "2023-08-17T00:00:00.000000000",
          "2023-08-18T00:00:00.000000000",
          "2023-08-21T00:00:00.000000000",
          "2023-08-22T00:00:00.000000000",
          "2023-08-23T00:00:00.000000000",
          "2023-08-24T00:00:00.000000000",
          "2023-08-25T00:00:00.000000000",
          "2023-08-28T00:00:00.000000000",
          "2023-08-29T00:00:00.000000000",
          "2023-08-30T00:00:00.000000000",
          "2023-08-31T00:00:00.000000000",
          "2023-09-01T00:00:00.000000000",
          "2023-09-05T00:00:00.000000000",
          "2023-09-06T00:00:00.000000000",
          "2023-09-07T00:00:00.000000000",
          "2023-09-08T00:00:00.000000000",
          "2023-09-11T00:00:00.000000000",
          "2023-09-12T00:00:00.000000000",
          "2023-09-13T00:00:00.000000000",
          "2023-09-14T00:00:00.000000000",
          "2023-09-15T00:00:00.000000000",
          "2023-09-18T00:00:00.000000000",
          "2023-09-19T00:00:00.000000000",
          "2023-09-20T00:00:00.000000000",
          "2023-09-21T00:00:00.000000000",
          "2023-09-22T00:00:00.000000000",
          "2023-09-25T00:00:00.000000000",
          "2023-09-26T00:00:00.000000000",
          "2023-09-27T00:00:00.000000000",
          "2023-09-28T00:00:00.000000000",
          "2023-09-29T00:00:00.000000000",
          "2023-10-02T00:00:00.000000000",
          "2023-10-03T00:00:00.000000000",
          "2023-10-04T00:00:00.000000000",
          "2023-10-05T00:00:00.000000000",
          "2023-10-06T00:00:00.000000000",
          "2023-10-09T00:00:00.000000000",
          "2023-10-10T00:00:00.000000000",
          "2023-10-11T00:00:00.000000000",
          "2023-10-12T00:00:00.000000000",
          "2023-10-13T00:00:00.000000000",
          "2023-10-16T00:00:00.000000000",
          "2023-10-17T00:00:00.000000000",
          "2023-10-18T00:00:00.000000000",
          "2023-10-19T00:00:00.000000000",
          "2023-10-20T00:00:00.000000000",
          "2023-10-23T00:00:00.000000000",
          "2023-10-24T00:00:00.000000000",
          "2023-10-25T00:00:00.000000000",
          "2023-10-26T00:00:00.000000000",
          "2023-10-27T00:00:00.000000000",
          "2023-10-30T00:00:00.000000000",
          "2023-10-31T00:00:00.000000000",
          "2023-11-01T00:00:00.000000000",
          "2023-11-02T00:00:00.000000000",
          "2023-11-03T00:00:00.000000000",
          "2023-11-06T00:00:00.000000000",
          "2023-11-07T00:00:00.000000000",
          "2023-11-08T00:00:00.000000000",
          "2023-11-09T00:00:00.000000000",
          "2023-11-10T00:00:00.000000000",
          "2023-11-13T00:00:00.000000000",
          "2023-11-14T00:00:00.000000000",
          "2023-11-15T00:00:00.000000000",
          "2023-11-16T00:00:00.000000000",
          "2023-11-17T00:00:00.000000000",
          "2023-11-20T00:00:00.000000000",
          "2023-11-21T00:00:00.000000000",
          "2023-11-22T00:00:00.000000000",
          "2023-11-24T00:00:00.000000000",
          "2023-11-27T00:00:00.000000000",
          "2023-11-28T00:00:00.000000000",
          "2023-11-29T00:00:00.000000000",
          "2023-11-30T00:00:00.000000000",
          "2023-12-01T00:00:00.000000000",
          "2023-12-04T00:00:00.000000000",
          "2023-12-05T00:00:00.000000000",
          "2023-12-06T00:00:00.000000000",
          "2023-12-07T00:00:00.000000000",
          "2023-12-08T00:00:00.000000000",
          "2023-12-11T00:00:00.000000000",
          "2023-12-12T00:00:00.000000000",
          "2023-12-13T00:00:00.000000000",
          "2023-12-14T00:00:00.000000000",
          "2023-12-15T00:00:00.000000000",
          "2023-12-18T00:00:00.000000000",
          "2023-12-19T00:00:00.000000000",
          "2023-12-20T00:00:00.000000000",
          "2023-12-21T00:00:00.000000000",
          "2023-12-22T00:00:00.000000000",
          "2023-12-26T00:00:00.000000000",
          "2023-12-27T00:00:00.000000000",
          "2023-12-28T00:00:00.000000000",
          "2023-12-29T00:00:00.000000000"
         ],
         "y": {
          "bdata": "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",
          "dtype": "f8",
          "shape": "1509, 1"
         }
        },
        {
         "mode": "lines",
         "name": "Future Prediction",
         "type": "scatter",
         "x": [
          "2023-12-30T00:00:00.000000000",
          "2023-12-31T00:00:00.000000000",
          "2024-01-01T00:00:00.000000000",
          "2024-01-02T00:00:00.000000000",
          "2024-01-03T00:00:00.000000000",
          "2024-01-04T00:00:00.000000000",
          "2024-01-05T00:00:00.000000000",
          "2024-01-06T00:00:00.000000000",
          "2024-01-07T00:00:00.000000000",
          "2024-01-08T00:00:00.000000000",
          "2024-01-09T00:00:00.000000000",
          "2024-01-10T00:00:00.000000000",
          "2024-01-11T00:00:00.000000000",
          "2024-01-12T00:00:00.000000000",
          "2024-01-13T00:00:00.000000000",
          "2024-01-14T00:00:00.000000000",
          "2024-01-15T00:00:00.000000000",
          "2024-01-16T00:00:00.000000000",
          "2024-01-17T00:00:00.000000000",
          "2024-01-18T00:00:00.000000000",
          "2024-01-19T00:00:00.000000000",
          "2024-01-20T00:00:00.000000000",
          "2024-01-21T00:00:00.000000000",
          "2024-01-22T00:00:00.000000000",
          "2024-01-23T00:00:00.000000000",
          "2024-01-24T00:00:00.000000000",
          "2024-01-25T00:00:00.000000000",
          "2024-01-26T00:00:00.000000000",
          "2024-01-27T00:00:00.000000000",
          "2024-01-28T00:00:00.000000000"
         ],
         "y": {
          "bdata": "ztQ8QzGAPEPaGzxDFq47QwE7O0NNxTpDw046Q4fYOUNhYzlDy+84Qxh+OEN6DjhDDqE3Q+U1N0MGzTZDcWY2QyUCNkMWoDVDP0A1Q5LiNEMIhzRDky00QyXWM0O0gDNDNS0zQ5rbMkPUizJD2z0yQ6XxMUMipzFD",
          "dtype": "f4"
         }
        }
       ],
       "layout": {
        "template": {
         "data": {
          "bar": [
           {
            "error_x": {
             "color": "#f2f5fa"
            },
            "error_y": {
             "color": "#f2f5fa"
            },
            "marker": {
             "line": {
              "color": "rgb(17,17,17)",
              "width": 0.5
             },
             "pattern": {
              "fillmode": "overlay",
              "size": 10,
              "solidity": 0.2
             }
            },
            "type": "bar"
           }
          ],
          "barpolar": [
           {
            "marker": {
             "line": {
              "color": "rgb(17,17,17)",
              "width": 0.5
             },
             "pattern": {
              "fillmode": "overlay",
              "size": 10,
              "solidity": 0.2
             }
            },
            "type": "barpolar"
           }
          ],
          "carpet": [
           {
            "aaxis": {
             "endlinecolor": "#A2B1C6",
             "gridcolor": "#506784",
             "linecolor": "#506784",
             "minorgridcolor": "#506784",
             "startlinecolor": "#A2B1C6"
            },
            "baxis": {
             "endlinecolor": "#A2B1C6",
             "gridcolor": "#506784",
             "linecolor": "#506784",
             "minorgridcolor": "#506784",
             "startlinecolor": "#A2B1C6"
            },
            "type": "carpet"
           }
          ],
          "choropleth": [
           {
            "colorbar": {
             "outlinewidth": 0,
             "ticks": ""
            },
            "type": "choropleth"
           }
          ],
          "contour": [
           {
            "colorbar": {
             "outlinewidth": 0,
             "ticks": ""
            },
            "colorscale": [
             [
              0,
              "#0d0887"
             ],
             [
              0.1111111111111111,
              "#46039f"
             ],
             [
              0.2222222222222222,
              "#7201a8"
             ],
             [
              0.3333333333333333,
              "#9c179e"
             ],
             [
              0.4444444444444444,
              "#bd3786"
             ],
             [
              0.5555555555555556,
              "#d8576b"
             ],
             [
              0.6666666666666666,
              "#ed7953"
             ],
             [
              0.7777777777777778,
              "#fb9f3a"
             ],
             [
              0.8888888888888888,
              "#fdca26"
             ],
             [
              1,
              "#f0f921"
             ]
            ],
            "type": "contour"
           }
          ],
          "contourcarpet": [
           {
            "colorbar": {
             "outlinewidth": 0,
             "ticks": ""
            },
            "type": "contourcarpet"
           }
          ],
          "heatmap": [
           {
            "colorbar": {
             "outlinewidth": 0,
             "ticks": ""
            },
            "colorscale": [
             [
              0,
              "#0d0887"
             ],
             [
              0.1111111111111111,
              "#46039f"
             ],
             [
              0.2222222222222222,
              "#7201a8"
             ],
             [
              0.3333333333333333,
              "#9c179e"
             ],
             [
              0.4444444444444444,
              "#bd3786"
             ],
             [
              0.5555555555555556,
              "#d8576b"
             ],
             [
              0.6666666666666666,
              "#ed7953"
             ],
             [
              0.7777777777777778,
              "#fb9f3a"
             ],
             [
              0.8888888888888888,
              "#fdca26"
             ],
             [
              1,
              "#f0f921"
             ]
            ],
            "type": "heatmap"
           }
          ],
          "histogram": [
           {
            "marker": {
             "pattern": {
              "fillmode": "overlay",
              "size": 10,
              "solidity": 0.2
             }
            },
            "type": "histogram"
           }
          ],
          "histogram2d": [
           {
            "colorbar": {
             "outlinewidth": 0,
             "ticks": ""
            },
            "colorscale": [
             [
              0,
              "#0d0887"
             ],
             [
              0.1111111111111111,
              "#46039f"
             ],
             [
              0.2222222222222222,
              "#7201a8"
             ],
             [
              0.3333333333333333,
              "#9c179e"
             ],
             [
              0.4444444444444444,
              "#bd3786"
             ],
             [
              0.5555555555555556,
              "#d8576b"
             ],
             [
              0.6666666666666666,
              "#ed7953"
             ],
             [
              0.7777777777777778,
              "#fb9f3a"
             ],
             [
              0.8888888888888888,
              "#fdca26"
             ],
             [
              1,
              "#f0f921"
             ]
            ],
            "type": "histogram2d"
           }
          ],
          "histogram2dcontour": [
           {
            "colorbar": {
             "outlinewidth": 0,
             "ticks": ""
            },
            "colorscale": [
             [
              0,
              "#0d0887"
             ],
             [
              0.1111111111111111,
              "#46039f"
             ],
             [
              0.2222222222222222,
              "#7201a8"
             ],
             [
              0.3333333333333333,
              "#9c179e"
             ],
             [
              0.4444444444444444,
              "#bd3786"
             ],
             [
              0.5555555555555556,
              "#d8576b"
             ],
             [
              0.6666666666666666,
              "#ed7953"
             ],
             [
              0.7777777777777778,
              "#fb9f3a"
             ],
             [
              0.8888888888888888,
              "#fdca26"
             ],
             [
              1,
              "#f0f921"
             ]
            ],
            "type": "histogram2dcontour"
           }
          ],
          "mesh3d": [
           {
            "colorbar": {
             "outlinewidth": 0,
             "ticks": ""
            },
            "type": "mesh3d"
           }
          ],
          "parcoords": [
           {
            "line": {
             "colorbar": {
              "outlinewidth": 0,
              "ticks": ""
             }
            },
            "type": "parcoords"
           }
          ],
          "pie": [
           {
            "automargin": true,
            "type": "pie"
           }
          ],
          "scatter": [
           {
            "marker": {
             "line": {
              "color": "#283442"
             }
            },
            "type": "scatter"
           }
          ],
          "scatter3d": [
           {
            "line": {
             "colorbar": {
              "outlinewidth": 0,
              "ticks": ""
             }
            },
            "marker": {
             "colorbar": {
              "outlinewidth": 0,
              "ticks": ""
             }
            },
            "type": "scatter3d"
           }
          ],
          "scattercarpet": [
           {
            "marker": {
             "colorbar": {
              "outlinewidth": 0,
              "ticks": ""
             }
            },
            "type": "scattercarpet"
           }
          ],
          "scattergeo": [
           {
            "marker": {
             "colorbar": {
              "outlinewidth": 0,
              "ticks": ""
             }
            },
            "type": "scattergeo"
           }
          ],
          "scattergl": [
           {
            "marker": {
             "line": {
              "color": "#283442"
             }
            },
            "type": "scattergl"
           }
          ],
          "scattermap": [
           {
            "marker": {
             "colorbar": {
              "outlinewidth": 0,
              "ticks": ""
             }
            },
            "type": "scattermap"
           }
          ],
          "scattermapbox": [
           {
            "marker": {
             "colorbar": {
              "outlinewidth": 0,
              "ticks": ""
             }
            },
            "type": "scattermapbox"
           }
          ],
          "scatterpolar": [
           {
            "marker": {
             "colorbar": {
              "outlinewidth": 0,
              "ticks": ""
             }
            },
            "type": "scatterpolar"
           }
          ],
          "scatterpolargl": [
           {
            "marker": {
             "colorbar": {
              "outlinewidth": 0,
              "ticks": ""
             }
            },
            "type": "scatterpolargl"
           }
          ],
          "scatterternary": [
           {
            "marker": {
             "colorbar": {
              "outlinewidth": 0,
              "ticks": ""
             }
            },
            "type": "scatterternary"
           }
          ],
          "surface": [
           {
            "colorbar": {
             "outlinewidth": 0,
             "ticks": ""
            },
            "colorscale": [
             [
              0,
              "#0d0887"
             ],
             [
              0.1111111111111111,
              "#46039f"
             ],
             [
              0.2222222222222222,
              "#7201a8"
             ],
             [
              0.3333333333333333,
              "#9c179e"
             ],
             [
              0.4444444444444444,
              "#bd3786"
             ],
             [
              0.5555555555555556,
              "#d8576b"
             ],
             [
              0.6666666666666666,
              "#ed7953"
             ],
             [
              0.7777777777777778,
              "#fb9f3a"
             ],
             [
              0.8888888888888888,
              "#fdca26"
             ],
             [
              1,
              "#f0f921"
             ]
            ],
            "type": "surface"
           }
          ],
          "table": [
           {
            "cells": {
             "fill": {
              "color": "#506784"
             },
             "line": {
              "color": "rgb(17,17,17)"
             }
            },
            "header": {
             "fill": {
              "color": "#2a3f5f"
             },
             "line": {
              "color": "rgb(17,17,17)"
             }
            },
            "type": "table"
           }
          ]
         },
         "layout": {
          "annotationdefaults": {
           "arrowcolor": "#f2f5fa",
           "arrowhead": 0,
           "arrowwidth": 1
          },
          "autotypenumbers": "strict",
          "coloraxis": {
           "colorbar": {
            "outlinewidth": 0,
            "ticks": ""
           }
          },
          "colorscale": {
           "diverging": [
            [
             0,
             "#8e0152"
            ],
            [
             0.1,
             "#c51b7d"
            ],
            [
             0.2,
             "#de77ae"
            ],
            [
             0.3,
             "#f1b6da"
            ],
            [
             0.4,
             "#fde0ef"
            ],
            [
             0.5,
             "#f7f7f7"
            ],
            [
             0.6,
             "#e6f5d0"
            ],
            [
             0.7,
             "#b8e186"
            ],
            [
             0.8,
             "#7fbc41"
            ],
            [
             0.9,
             "#4d9221"
            ],
            [
             1,
             "#276419"
            ]
           ],
           "sequential": [
            [
             0,
             "#0d0887"
            ],
            [
             0.1111111111111111,
             "#46039f"
            ],
            [
             0.2222222222222222,
             "#7201a8"
            ],
            [
             0.3333333333333333,
             "#9c179e"
            ],
            [
             0.4444444444444444,
             "#bd3786"
            ],
            [
             0.5555555555555556,
             "#d8576b"
            ],
            [
             0.6666666666666666,
             "#ed7953"
            ],
            [
             0.7777777777777778,
             "#fb9f3a"
            ],
            [
             0.8888888888888888,
             "#fdca26"
            ],
            [
             1,
             "#f0f921"
            ]
           ],
           "sequentialminus": [
            [
             0,
             "#0d0887"
            ],
            [
             0.1111111111111111,
             "#46039f"
            ],
            [
             0.2222222222222222,
             "#7201a8"
            ],
            [
             0.3333333333333333,
             "#9c179e"
            ],
            [
             0.4444444444444444,
             "#bd3786"
            ],
            [
             0.5555555555555556,
             "#d8576b"
            ],
            [
             0.6666666666666666,
             "#ed7953"
            ],
            [
             0.7777777777777778,
             "#fb9f3a"
            ],
            [
             0.8888888888888888,
             "#fdca26"
            ],
            [
             1,
             "#f0f921"
            ]
           ]
          },
          "colorway": [
           "#636efa",
           "#EF553B",
           "#00cc96",
           "#ab63fa",
           "#FFA15A",
           "#19d3f3",
           "#FF6692",
           "#B6E880",
           "#FF97FF",
           "#FECB52"
          ],
          "font": {
           "color": "#f2f5fa"
          },
          "geo": {
           "bgcolor": "rgb(17,17,17)",
           "lakecolor": "rgb(17,17,17)",
           "landcolor": "rgb(17,17,17)",
           "showlakes": true,
           "showland": true,
           "subunitcolor": "#506784"
          },
          "hoverlabel": {
           "align": "left"
          },
          "hovermode": "closest",
          "mapbox": {
           "style": "dark"
          },
          "paper_bgcolor": "rgb(17,17,17)",
          "plot_bgcolor": "rgb(17,17,17)",
          "polar": {
           "angularaxis": {
            "gridcolor": "#506784",
            "linecolor": "#506784",
            "ticks": ""
           },
           "bgcolor": "rgb(17,17,17)",
           "radialaxis": {
            "gridcolor": "#506784",
            "linecolor": "#506784",
            "ticks": ""
           }
          },
          "scene": {
           "xaxis": {
            "backgroundcolor": "rgb(17,17,17)",
            "gridcolor": "#506784",
            "gridwidth": 2,
            "linecolor": "#506784",
            "showbackground": true,
            "ticks": "",
            "zerolinecolor": "#C8D4E3"
           },
           "yaxis": {
            "backgroundcolor": "rgb(17,17,17)",
            "gridcolor": "#506784",
            "gridwidth": 2,
            "linecolor": "#506784",
            "showbackground": true,
            "ticks": "",
            "zerolinecolor": "#C8D4E3"
           },
           "zaxis": {
            "backgroundcolor": "rgb(17,17,17)",
            "gridcolor": "#506784",
            "gridwidth": 2,
            "linecolor": "#506784",
            "showbackground": true,
            "ticks": "",
            "zerolinecolor": "#C8D4E3"
           }
          },
          "shapedefaults": {
           "line": {
            "color": "#f2f5fa"
           }
          },
          "sliderdefaults": {
           "bgcolor": "#C8D4E3",
           "bordercolor": "rgb(17,17,17)",
           "borderwidth": 1,
           "tickwidth": 0
          },
          "ternary": {
           "aaxis": {
            "gridcolor": "#506784",
            "linecolor": "#506784",
            "ticks": ""
           },
           "baxis": {
            "gridcolor": "#506784",
            "linecolor": "#506784",
            "ticks": ""
           },
           "bgcolor": "rgb(17,17,17)",
           "caxis": {
            "gridcolor": "#506784",
            "linecolor": "#506784",
            "ticks": ""
           }
          },
          "title": {
           "x": 0.05
          },
          "updatemenudefaults": {
           "bgcolor": "#506784",
           "borderwidth": 0
          },
          "xaxis": {
           "automargin": true,
           "gridcolor": "#283442",
           "linecolor": "#506784",
           "ticks": "",
           "title": {
            "standoff": 15
           },
           "zerolinecolor": "#283442",
           "zerolinewidth": 2
          },
          "yaxis": {
           "automargin": true,
           "gridcolor": "#283442",
           "linecolor": "#506784",
           "ticks": "",
           "title": {
            "standoff": 15
           },
           "zerolinecolor": "#283442",
           "zerolinewidth": 2
          }
         }
        },
        "title": {
         "text": "AAPL Stock Price Prediction (Interactive)"
        },
        "xaxis": {
         "title": {
          "text": "Date"
         }
        },
        "yaxis": {
         "title": {
          "text": "Close Price"
         }
        }
       }
      }
     },
     "metadata": {},
     "output_type": "display_data"
    }
   ],
   "source": [
    "import plotly.graph_objects as go\n",
    "\n",
    "# Original data\n",
    "fig = go.Figure()\n",
    "fig.add_trace(go.Scatter(x=data['Date'], y=data['Close'], mode='lines', name='Original Close Price'))\n",
    "\n",
    "# Future prediction\n",
    "fig.add_trace(go.Scatter(x=future_df['Date'], y=future_df['Predicted_Close'], mode='lines', name='Future Prediction'))\n",
    "\n",
    "fig.update_layout(title='AAPL Stock Price Prediction (Interactive)',\n",
    "                  xaxis_title='Date', yaxis_title='Close Price',\n",
    "                  template='plotly_dark')\n",
    "fig.show()"
   ]
  },
  {
   "cell_type": "code",
   "execution_count": 21,
   "id": "61310a9a-4217-4623-bacd-da205e433df7",
   "metadata": {},
   "outputs": [],
   "source": [
    "import plotly.io as pio\n",
    "pio.renderers.default = 'notebook'"
   ]
  },
  {
   "cell_type": "code",
   "execution_count": 22,
   "id": "47c9a499-e5b6-462e-b751-8dac5d38b0ac",
   "metadata": {},
   "outputs": [],
   "source": [
    "pio.renderers.default = 'notebook_connected'"
   ]
  },
  {
   "cell_type": "code",
   "execution_count": 24,
   "id": "a68915a4-5508-4587-a735-1f0850eea53b",
   "metadata": {},
   "outputs": [
    {
     "data": {
      "text/html": [
       "<div>            <script src=\"https://cdnjs.cloudflare.com/ajax/libs/mathjax/2.7.5/MathJax.js?config=TeX-AMS-MML_SVG\"></script><script type=\"text/javascript\">if (window.MathJax && window.MathJax.Hub && window.MathJax.Hub.Config) {window.MathJax.Hub.Config({SVG: {font: \"STIX-Web\"}});}</script>                <script type=\"text/javascript\">window.PlotlyConfig = {MathJaxConfig: 'local'};</script>\n",
       "        <script charset=\"utf-8\" src=\"https://cdn.plot.ly/plotly-3.1.1.min.js\" integrity=\"sha256-HUEFyfiTnZJxCxur99FjbKYTvKSzwDaD3/x5TqHpFu4=\" crossorigin=\"anonymous\"></script>                <div id=\"870a1c8e-6979-4a90-9e33-a48560fc4eb3\" class=\"plotly-graph-div\" style=\"height:525px; width:100%;\"></div>            <script type=\"text/javascript\">                window.PLOTLYENV=window.PLOTLYENV || {};                                if (document.getElementById(\"870a1c8e-6979-4a90-9e33-a48560fc4eb3\")) {                    Plotly.newPlot(                        \"870a1c8e-6979-4a90-9e33-a48560fc4eb3\",                        [{\"mode\":\"lines\",\"name\":\"Original Close Price\",\"x\":[\"2018-01-02T00:00:00.000000000\",\"2018-01-03T00:00:00.000000000\",\"2018-01-04T00:00:00.000000000\",\"2018-01-05T00:00:00.000000000\",\"2018-01-08T00:00:00.000000000\",\"2018-01-09T00:00:00.000000000\",\"2018-01-10T00:00:00.000000000\",\"2018-01-11T00:00:00.000000000\",\"2018-01-12T00:00:00.000000000\",\"2018-01-16T00:00:00.000000000\",\"2018-01-17T00:00:00.000000000\",\"2018-01-18T00:00:00.000000000\",\"2018-01-19T00:00:00.000000000\",\"2018-01-22T00:00:00.000000000\",\"2018-01-23T00:00:00.000000000\",\"2018-01-24T00:00:00.000000000\",\"2018-01-25T00:00:00.000000000\",\"2018-01-26T00:00:00.000000000\",\"2018-01-29T00:00:00.000000000\",\"2018-01-30T00:00:00.000000000\",\"2018-01-31T00:00:00.000000000\",\"2018-02-01T00:00:00.000000000\",\"2018-02-02T00:00:00.000000000\",\"2018-02-05T00:00:00.000000000\",\"2018-02-06T00:00:00.000000000\",\"2018-02-07T00:00:00.000000000\",\"2018-02-08T00:00:00.000000000\",\"2018-02-09T00:00:00.000000000\",\"2018-02-12T00:00:00.000000000\",\"2018-02-13T00:00:00.000000000\",\"2018-02-14T00:00:00.000000000\",\"2018-02-15T00:00:00.000000000\",\"2018-02-16T00:00:00.000000000\",\"2018-02-20T00:00:00.000000000\",\"2018-02-21T00:00:00.000000000\",\"2018-02-22T00:00:00.000000000\",\"2018-02-23T00:00:00.000000000\",\"2018-02-26T00:00:00.000000000\",\"2018-02-27T00:00:00.000000000\",\"2018-02-28T00:00:00.000000000\",\"2018-03-01T00:00:00.000000000\",\"2018-03-02T00:00:00.000000000\",\"2018-03-05T00:00:00.000000000\",\"2018-03-06T00:00:00.000000000\",\"2018-03-07T00:00:00.000000000\",\"2018-03-08T00:00:00.000000000\",\"2018-03-09T00:00:00.000000000\",\"2018-03-12T00:00:00.000000000\",\"2018-03-13T00:00:00.000000000\",\"2018-03-14T00:00:00.000000000\",\"2018-03-15T00:00:00.000000000\",\"2018-03-16T00:00:00.000000000\",\"2018-03-19T00:00:00.000000000\",\"2018-03-20T00:00:00.000000000\",\"2018-03-21T00:00:00.000000000\",\"2018-03-22T00:00:00.000000000\",\"2018-03-23T00:00:00.000000000\",\"2018-03-26T00:00:00.000000000\",\"2018-03-27T00:00:00.000000000\",\"2018-03-28T00:00:00.000000000\",\"2018-03-29T00:00:00.000000000\",\"2018-04-02T00:00:00.000000000\",\"2018-04-03T00:00:00.000000000\",\"2018-04-04T00:00:00.000000000\",\"2018-04-05T00:00:00.000000000\",\"2018-04-06T00:00:00.000000000\",\"2018-04-09T00:00:00.000000000\",\"2018-04-10T00:00:00.000000000\",\"2018-04-11T00:00:00.000000000\",\"2018-04-12T00:00:00.000000000\",\"2018-04-13T00:00:00.000000000\",\"2018-04-16T00:00:00.000000000\",\"2018-04-17T00:00:00.000000000\",\"2018-04-18T00:00:00.000000000\",\"2018-04-19T00:00:00.000000000\",\"2018-04-20T00:00:00.000000000\",\"2018-04-23T00:00:00.000000000\",\"2018-04-24T00:00:00.000000000\",\"2018-04-25T00:00:00.000000000\",\"2018-04-26T00:00:00.000000000\",\"2018-04-27T00:00:00.000000000\",\"2018-04-30T00:00:00.000000000\",\"2018-05-01T00:00:00.000000000\",\"2018-05-02T00:00:00.000000000\",\"2018-05-03T00:00:00.000000000\",\"2018-05-04T00:00:00.000000000\",\"2018-05-07T00:00:00.000000000\",\"2018-05-08T00:00:00.000000000\",\"2018-05-09T00:00:00.000000000\",\"2018-05-10T00:00:00.000000000\",\"2018-05-11T00:00:00.000000000\",\"2018-05-14T00:00:00.000000000\",\"2018-05-15T00:00:00.000000000\",\"2018-05-16T00:00:00.000000000\",\"2018-05-17T00:00:00.000000000\",\"2018-05-18T00:00:00.000000000\",\"2018-05-21T00:00:00.000000000\",\"2018-05-22T00:00:00.000000000\",\"2018-05-23T00:00:00.000000000\",\"2018-05-24T00:00:00.000000000\",\"2018-05-25T00:00:00.000000000\",\"2018-05-29T00:00:00.000000000\",\"2018-05-30T00:00:00.000000000\",\"2018-05-31T00:00:00.000000000\",\"2018-06-01T00:00:00.000000000\",\"2018-06-04T00:00:00.000000000\",\"2018-06-05T00:00:00.000000000\",\"2018-06-06T00:00:00.000000000\",\"2018-06-07T00:00:00.000000000\",\"2018-06-08T00:00:00.000000000\",\"2018-06-11T00:00:00.000000000\",\"2018-06-12T00:00:00.000000000\",\"2018-06-13T00:00:00.000000000\",\"2018-06-14T00:00:00.000000000\",\"2018-06-15T00:00:00.000000000\",\"2018-06-18T00:00:00.000000000\",\"2018-06-19T00:00:00.000000000\",\"2018-06-20T00:00:00.000000000\",\"2018-06-21T00:00:00.000000000\",\"2018-06-22T00:00:00.000000000\",\"2018-06-25T00:00:00.000000000\",\"2018-06-26T00:00:00.000000000\",\"2018-06-27T00:00:00.000000000\",\"2018-06-28T00:00:00.000000000\",\"2018-06-29T00:00:00.000000000\",\"2018-07-02T00:00:00.000000000\",\"2018-07-03T00:00:00.000000000\",\"2018-07-05T00:00:00.000000000\",\"2018-07-06T00:00:00.000000000\",\"2018-07-09T00:00:00.000000000\",\"2018-07-10T00:00:00.000000000\",\"2018-07-11T00:00:00.000000000\",\"2018-07-12T00:00:00.000000000\",\"2018-07-13T00:00:00.000000000\",\"2018-07-16T00:00:00.000000000\",\"2018-07-17T00:00:00.000000000\",\"2018-07-18T00:00:00.000000000\",\"2018-07-19T00:00:00.000000000\",\"2018-07-20T00:00:00.000000000\",\"2018-07-23T00:00:00.000000000\",\"2018-07-24T00:00:00.000000000\",\"2018-07-25T00:00:00.000000000\",\"2018-07-26T00:00:00.000000000\",\"2018-07-27T00:00:00.000000000\",\"2018-07-30T00:00:00.000000000\",\"2018-07-31T00:00:00.000000000\",\"2018-08-01T00:00:00.000000000\",\"2018-08-02T00:00:00.000000000\",\"2018-08-03T00:00:00.000000000\",\"2018-08-06T00:00:00.000000000\",\"2018-08-07T00:00:00.000000000\",\"2018-08-08T00:00:00.000000000\",\"2018-08-09T00:00:00.000000000\",\"2018-08-10T00:00:00.000000000\",\"2018-08-13T00:00:00.000000000\",\"2018-08-14T00:00:00.000000000\",\"2018-08-15T00:00:00.000000000\",\"2018-08-16T00:00:00.000000000\",\"2018-08-17T00:00:00.000000000\",\"2018-08-20T00:00:00.000000000\",\"2018-08-21T00:00:00.000000000\",\"2018-08-22T00:00:00.000000000\",\"2018-08-23T00:00:00.000000000\",\"2018-08-24T00:00:00.000000000\",\"2018-08-27T00:00:00.000000000\",\"2018-08-28T00:00:00.000000000\",\"2018-08-29T00:00:00.000000000\",\"2018-08-30T00:00:00.000000000\",\"2018-08-31T00:00:00.000000000\",\"2018-09-04T00:00:00.000000000\",\"2018-09-05T00:00:00.000000000\",\"2018-09-06T00:00:00.000000000\",\"2018-09-07T00:00:00.000000000\",\"2018-09-10T00:00:00.000000000\",\"2018-09-11T00:00:00.000000000\",\"2018-09-12T00:00:00.000000000\",\"2018-09-13T00:00:00.000000000\",\"2018-09-14T00:00:00.000000000\",\"2018-09-17T00:00:00.000000000\",\"2018-09-18T00:00:00.000000000\",\"2018-09-19T00:00:00.000000000\",\"2018-09-20T00:00:00.000000000\",\"2018-09-21T00:00:00.000000000\",\"2018-09-24T00:00:00.000000000\",\"2018-09-25T00:00:00.000000000\",\"2018-09-26T00:00:00.000000000\",\"2018-09-27T00:00:00.000000000\",\"2018-09-28T00:00:00.000000000\",\"2018-10-01T00:00:00.000000000\",\"2018-10-02T00:00:00.000000000\",\"2018-10-03T00:00:00.000000000\",\"2018-10-04T00:00:00.000000000\",\"2018-10-05T00:00:00.000000000\",\"2018-10-08T00:00:00.000000000\",\"2018-10-09T00:00:00.000000000\",\"2018-10-10T00:00:00.000000000\",\"2018-10-11T00:00:00.000000000\",\"2018-10-12T00:00:00.000000000\",\"2018-10-15T00:00:00.000000000\",\"2018-10-16T00:00:00.000000000\",\"2018-10-17T00:00:00.000000000\",\"2018-10-18T00:00:00.000000000\",\"2018-10-19T00:00:00.000000000\",\"2018-10-22T00:00:00.000000000\",\"2018-10-23T00:00:00.000000000\",\"2018-10-24T00:00:00.000000000\",\"2018-10-25T00:00:00.000000000\",\"2018-10-26T00:00:00.000000000\",\"2018-10-29T00:00:00.000000000\",\"2018-10-30T00:00:00.000000000\",\"2018-10-31T00:00:00.000000000\",\"2018-11-01T00:00:00.000000000\",\"2018-11-02T00:00:00.000000000\",\"2018-11-05T00:00:00.000000000\",\"2018-11-06T00:00:00.000000000\",\"2018-11-07T00:00:00.000000000\",\"2018-11-08T00:00:00.000000000\",\"2018-11-09T00:00:00.000000000\",\"2018-11-12T00:00:00.000000000\",\"2018-11-13T00:00:00.000000000\",\"2018-11-14T00:00:00.000000000\",\"2018-11-15T00:00:00.000000000\",\"2018-11-16T00:00:00.000000000\",\"2018-11-19T00:00:00.000000000\",\"2018-11-20T00:00:00.000000000\",\"2018-11-21T00:00:00.000000000\",\"2018-11-23T00:00:00.000000000\",\"2018-11-26T00:00:00.000000000\",\"2018-11-27T00:00:00.000000000\",\"2018-11-28T00:00:00.000000000\",\"2018-11-29T00:00:00.000000000\",\"2018-11-30T00:00:00.000000000\",\"2018-12-03T00:00:00.000000000\",\"2018-12-04T00:00:00.000000000\",\"2018-12-06T00:00:00.000000000\",\"2018-12-07T00:00:00.000000000\",\"2018-12-10T00:00:00.000000000\",\"2018-12-11T00:00:00.000000000\",\"2018-12-12T00:00:00.000000000\",\"2018-12-13T00:00:00.000000000\",\"2018-12-14T00:00:00.000000000\",\"2018-12-17T00:00:00.000000000\",\"2018-12-18T00:00:00.000000000\",\"2018-12-19T00:00:00.000000000\",\"2018-12-20T00:00:00.000000000\",\"2018-12-21T00:00:00.000000000\",\"2018-12-24T00:00:00.000000000\",\"2018-12-26T00:00:00.000000000\",\"2018-12-27T00:00:00.000000000\",\"2018-12-28T00:00:00.000000000\",\"2018-12-31T00:00:00.000000000\",\"2019-01-02T00:00:00.000000000\",\"2019-01-03T00:00:00.000000000\",\"2019-01-04T00:00:00.000000000\",\"2019-01-07T00:00:00.000000000\",\"2019-01-08T00:00:00.000000000\",\"2019-01-09T00:00:00.000000000\",\"2019-01-10T00:00:00.000000000\",\"2019-01-11T00:00:00.000000000\",\"2019-01-14T00:00:00.000000000\",\"2019-01-15T00:00:00.000000000\",\"2019-01-16T00:00:00.000000000\",\"2019-01-17T00:00:00.000000000\",\"2019-01-18T00:00:00.000000000\",\"2019-01-22T00:00:00.000000000\",\"2019-01-23T00:00:00.000000000\",\"2019-01-24T00:00:00.000000000\",\"2019-01-25T00:00:00.000000000\",\"2019-01-28T00:00:00.000000000\",\"2019-01-29T00:00:00.000000000\",\"2019-01-30T00:00:00.000000000\",\"2019-01-31T00:00:00.000000000\",\"2019-02-01T00:00:00.000000000\",\"2019-02-04T00:00:00.000000000\",\"2019-02-05T00:00:00.000000000\",\"2019-02-06T00:00:00.000000000\",\"2019-02-07T00:00:00.000000000\",\"2019-02-08T00:00:00.000000000\",\"2019-02-11T00:00:00.000000000\",\"2019-02-12T00:00:00.000000000\",\"2019-02-13T00:00:00.000000000\",\"2019-02-14T00:00:00.000000000\",\"2019-02-15T00:00:00.000000000\",\"2019-02-19T00:00:00.000000000\",\"2019-02-20T00:00:00.000000000\",\"2019-02-21T00:00:00.000000000\",\"2019-02-22T00:00:00.000000000\",\"2019-02-25T00:00:00.000000000\",\"2019-02-26T00:00:00.000000000\",\"2019-02-27T00:00:00.000000000\",\"2019-02-28T00:00:00.000000000\",\"2019-03-01T00:00:00.000000000\",\"2019-03-04T00:00:00.000000000\",\"2019-03-05T00:00:00.000000000\",\"2019-03-06T00:00:00.000000000\",\"2019-03-07T00:00:00.000000000\",\"2019-03-08T00:00:00.000000000\",\"2019-03-11T00:00:00.000000000\",\"2019-03-12T00:00:00.000000000\",\"2019-03-13T00:00:00.000000000\",\"2019-03-14T00:00:00.000000000\",\"2019-03-15T00:00:00.000000000\",\"2019-03-18T00:00:00.000000000\",\"2019-03-19T00:00:00.000000000\",\"2019-03-20T00:00:00.000000000\",\"2019-03-21T00:00:00.000000000\",\"2019-03-22T00:00:00.000000000\",\"2019-03-25T00:00:00.000000000\",\"2019-03-26T00:00:00.000000000\",\"2019-03-27T00:00:00.000000000\",\"2019-03-28T00:00:00.000000000\",\"2019-03-29T00:00:00.000000000\",\"2019-04-01T00:00:00.000000000\",\"2019-04-02T00:00:00.000000000\",\"2019-04-03T00:00:00.000000000\",\"2019-04-04T00:00:00.000000000\",\"2019-04-05T00:00:00.000000000\",\"2019-04-08T00:00:00.000000000\",\"2019-04-09T00:00:00.000000000\",\"2019-04-10T00:00:00.000000000\",\"2019-04-11T00:00:00.000000000\",\"2019-04-12T00:00:00.000000000\",\"2019-04-15T00:00:00.000000000\",\"2019-04-16T00:00:00.000000000\",\"2019-04-17T00:00:00.000000000\",\"2019-04-18T00:00:00.000000000\",\"2019-04-22T00:00:00.000000000\",\"2019-04-23T00:00:00.000000000\",\"2019-04-24T00:00:00.000000000\",\"2019-04-25T00:00:00.000000000\",\"2019-04-26T00:00:00.000000000\",\"2019-04-29T00:00:00.000000000\",\"2019-04-30T00:00:00.000000000\",\"2019-05-01T00:00:00.000000000\",\"2019-05-02T00:00:00.000000000\",\"2019-05-03T00:00:00.000000000\",\"2019-05-06T00:00:00.000000000\",\"2019-05-07T00:00:00.000000000\",\"2019-05-08T00:00:00.000000000\",\"2019-05-09T00:00:00.000000000\",\"2019-05-10T00:00:00.000000000\",\"2019-05-13T00:00:00.000000000\",\"2019-05-14T00:00:00.000000000\",\"2019-05-15T00:00:00.000000000\",\"2019-05-16T00:00:00.000000000\",\"2019-05-17T00:00:00.000000000\",\"2019-05-20T00:00:00.000000000\",\"2019-05-21T00:00:00.000000000\",\"2019-05-22T00:00:00.000000000\",\"2019-05-23T00:00:00.000000000\",\"2019-05-24T00:00:00.000000000\",\"2019-05-28T00:00:00.000000000\",\"2019-05-29T00:00:00.000000000\",\"2019-05-30T00:00:00.000000000\",\"2019-05-31T00:00:00.000000000\",\"2019-06-03T00:00:00.000000000\",\"2019-06-04T00:00:00.000000000\",\"2019-06-05T00:00:00.000000000\",\"2019-06-06T00:00:00.000000000\",\"2019-06-07T00:00:00.000000000\",\"2019-06-10T00:00:00.000000000\",\"2019-06-11T00:00:00.000000000\",\"2019-06-12T00:00:00.000000000\",\"2019-06-13T00:00:00.000000000\",\"2019-06-14T00:00:00.000000000\",\"2019-06-17T00:00:00.000000000\",\"2019-06-18T00:00:00.000000000\",\"2019-06-19T00:00:00.000000000\",\"2019-06-20T00:00:00.000000000\",\"2019-06-21T00:00:00.000000000\",\"2019-06-24T00:00:00.000000000\",\"2019-06-25T00:00:00.000000000\",\"2019-06-26T00:00:00.000000000\",\"2019-06-27T00:00:00.000000000\",\"2019-06-28T00:00:00.000000000\",\"2019-07-01T00:00:00.000000000\",\"2019-07-02T00:00:00.000000000\",\"2019-07-03T00:00:00.000000000\",\"2019-07-05T00:00:00.000000000\",\"2019-07-08T00:00:00.000000000\",\"2019-07-09T00:00:00.000000000\",\"2019-07-10T00:00:00.000000000\",\"2019-07-11T00:00:00.000000000\",\"2019-07-12T00:00:00.000000000\",\"2019-07-15T00:00:00.000000000\",\"2019-07-16T00:00:00.000000000\",\"2019-07-17T00:00:00.000000000\",\"2019-07-18T00:00:00.000000000\",\"2019-07-19T00:00:00.000000000\",\"2019-07-22T00:00:00.000000000\",\"2019-07-23T00:00:00.000000000\",\"2019-07-24T00:00:00.000000000\",\"2019-07-25T00:00:00.000000000\",\"2019-07-26T00:00:00.000000000\",\"2019-07-29T00:00:00.000000000\",\"2019-07-30T00:00:00.000000000\",\"2019-07-31T00:00:00.000000000\",\"2019-08-01T00:00:00.000000000\",\"2019-08-02T00:00:00.000000000\",\"2019-08-05T00:00:00.000000000\",\"2019-08-06T00:00:00.000000000\",\"2019-08-07T00:00:00.000000000\",\"2019-08-08T00:00:00.000000000\",\"2019-08-09T00:00:00.000000000\",\"2019-08-12T00:00:00.000000000\",\"2019-08-13T00:00:00.000000000\",\"2019-08-14T00:00:00.000000000\",\"2019-08-15T00:00:00.000000000\",\"2019-08-16T00:00:00.000000000\",\"2019-08-19T00:00:00.000000000\",\"2019-08-20T00:00:00.000000000\",\"2019-08-21T00:00:00.000000000\",\"2019-08-22T00:00:00.000000000\",\"2019-08-23T00:00:00.000000000\",\"2019-08-26T00:00:00.000000000\",\"2019-08-27T00:00:00.000000000\",\"2019-08-28T00:00:00.000000000\",\"2019-08-29T00:00:00.000000000\",\"2019-08-30T00:00:00.000000000\",\"2019-09-03T00:00:00.000000000\",\"2019-09-04T00:00:00.000000000\",\"2019-09-05T00:00:00.000000000\",\"2019-09-06T00:00:00.000000000\",\"2019-09-09T00:00:00.000000000\",\"2019-09-10T00:00:00.000000000\",\"2019-09-11T00:00:00.000000000\",\"2019-09-12T00:00:00.000000000\",\"2019-09-13T00:00:00.000000000\",\"2019-09-16T00:00:00.000000000\",\"2019-09-17T00:00:00.000000000\",\"2019-09-18T00:00:00.000000000\",\"2019-09-19T00:00:00.000000000\",\"2019-09-20T00:00:00.000000000\",\"2019-09-23T00:00:00.000000000\",\"2019-09-24T00:00:00.000000000\",\"2019-09-25T00:00:00.000000000\",\"2019-09-26T00:00:00.000000000\",\"2019-09-27T00:00:00.000000000\",\"2019-09-30T00:00:00.000000000\",\"2019-10-01T00:00:00.000000000\",\"2019-10-02T00:00:00.000000000\",\"2019-10-03T00:00:00.000000000\",\"2019-10-04T00:00:00.000000000\",\"2019-10-07T00:00:00.000000000\",\"2019-10-08T00:00:00.000000000\",\"2019-10-09T00:00:00.000000000\",\"2019-10-10T00:00:00.000000000\",\"2019-10-11T00:00:00.000000000\",\"2019-10-14T00:00:00.000000000\",\"2019-10-15T00:00:00.000000000\",\"2019-10-16T00:00:00.000000000\",\"2019-10-17T00:00:00.000000000\",\"2019-10-18T00:00:00.000000000\",\"2019-10-21T00:00:00.000000000\",\"2019-10-22T00:00:00.000000000\",\"2019-10-23T00:00:00.000000000\",\"2019-10-24T00:00:00.000000000\",\"2019-10-25T00:00:00.000000000\",\"2019-10-28T00:00:00.000000000\",\"2019-10-29T00:00:00.000000000\",\"2019-10-30T00:00:00.000000000\",\"2019-10-31T00:00:00.000000000\",\"2019-11-01T00:00:00.000000000\",\"2019-11-04T00:00:00.000000000\",\"2019-11-05T00:00:00.000000000\",\"2019-11-06T00:00:00.000000000\",\"2019-11-07T00:00:00.000000000\",\"2019-11-08T00:00:00.000000000\",\"2019-11-11T00:00:00.000000000\",\"2019-11-12T00:00:00.000000000\",\"2019-11-13T00:00:00.000000000\",\"2019-11-14T00:00:00.000000000\",\"2019-11-15T00:00:00.000000000\",\"2019-11-18T00:00:00.000000000\",\"2019-11-19T00:00:00.000000000\",\"2019-11-20T00:00:00.000000000\",\"2019-11-21T00:00:00.000000000\",\"2019-11-22T00:00:00.000000000\",\"2019-11-25T00:00:00.000000000\",\"2019-11-26T00:00:00.000000000\",\"2019-11-27T00:00:00.000000000\",\"2019-11-29T00:00:00.000000000\",\"2019-12-02T00:00:00.000000000\",\"2019-12-03T00:00:00.000000000\",\"2019-12-04T00:00:00.000000000\",\"2019-12-05T00:00:00.000000000\",\"2019-12-06T00:00:00.000000000\",\"2019-12-09T00:00:00.000000000\",\"2019-12-10T00:00:00.000000000\",\"2019-12-11T00:00:00.000000000\",\"2019-12-12T00:00:00.000000000\",\"2019-12-13T00:00:00.000000000\",\"2019-12-16T00:00:00.000000000\",\"2019-12-17T00:00:00.000000000\",\"2019-12-18T00:00:00.000000000\",\"2019-12-19T00:00:00.000000000\",\"2019-12-20T00:00:00.000000000\",\"2019-12-23T00:00:00.000000000\",\"2019-12-24T00:00:00.000000000\",\"2019-12-26T00:00:00.000000000\",\"2019-12-27T00:00:00.000000000\",\"2019-12-30T00:00:00.000000000\",\"2019-12-31T00:00:00.000000000\",\"2020-01-02T00:00:00.000000000\",\"2020-01-03T00:00:00.000000000\",\"2020-01-06T00:00:00.000000000\",\"2020-01-07T00:00:00.000000000\",\"2020-01-08T00:00:00.000000000\",\"2020-01-09T00:00:00.000000000\",\"2020-01-10T00:00:00.000000000\",\"2020-01-13T00:00:00.000000000\",\"2020-01-14T00:00:00.000000000\",\"2020-01-15T00:00:00.000000000\",\"2020-01-16T00:00:00.000000000\",\"2020-01-17T00:00:00.000000000\",\"2020-01-21T00:00:00.000000000\",\"2020-01-22T00:00:00.000000000\",\"2020-01-23T00:00:00.000000000\",\"2020-01-24T00:00:00.000000000\",\"2020-01-27T00:00:00.000000000\",\"2020-01-28T00:00:00.000000000\",\"2020-01-29T00:00:00.000000000\",\"2020-01-30T00:00:00.000000000\",\"2020-01-31T00:00:00.000000000\",\"2020-02-03T00:00:00.000000000\",\"2020-02-04T00:00:00.000000000\",\"2020-02-05T00:00:00.000000000\",\"2020-02-06T00:00:00.000000000\",\"2020-02-07T00:00:00.000000000\",\"2020-02-10T00:00:00.000000000\",\"2020-02-11T00:00:00.000000000\",\"2020-02-12T00:00:00.000000000\",\"2020-02-13T00:00:00.000000000\",\"2020-02-14T00:00:00.000000000\",\"2020-02-18T00:00:00.000000000\",\"2020-02-19T00:00:00.000000000\",\"2020-02-20T00:00:00.000000000\",\"2020-02-21T00:00:00.000000000\",\"2020-02-24T00:00:00.000000000\",\"2020-02-25T00:00:00.000000000\",\"2020-02-26T00:00:00.000000000\",\"2020-02-27T00:00:00.000000000\",\"2020-02-28T00:00:00.000000000\",\"2020-03-02T00:00:00.000000000\",\"2020-03-03T00:00:00.000000000\",\"2020-03-04T00:00:00.000000000\",\"2020-03-05T00:00:00.000000000\",\"2020-03-06T00:00:00.000000000\",\"2020-03-09T00:00:00.000000000\",\"2020-03-10T00:00:00.000000000\",\"2020-03-11T00:00:00.000000000\",\"2020-03-12T00:00:00.000000000\",\"2020-03-13T00:00:00.000000000\",\"2020-03-16T00:00:00.000000000\",\"2020-03-17T00:00:00.000000000\",\"2020-03-18T00:00:00.000000000\",\"2020-03-19T00:00:00.000000000\",\"2020-03-20T00:00:00.000000000\",\"2020-03-23T00:00:00.000000000\",\"2020-03-24T00:00:00.000000000\",\"2020-03-25T00:00:00.000000000\",\"2020-03-26T00:00:00.000000000\",\"2020-03-27T00:00:00.000000000\",\"2020-03-30T00:00:00.000000000\",\"2020-03-31T00:00:00.000000000\",\"2020-04-01T00:00:00.000000000\",\"2020-04-02T00:00:00.000000000\",\"2020-04-03T00:00:00.000000000\",\"2020-04-06T00:00:00.000000000\",\"2020-04-07T00:00:00.000000000\",\"2020-04-08T00:00:00.000000000\",\"2020-04-09T00:00:00.000000000\",\"2020-04-13T00:00:00.000000000\",\"2020-04-14T00:00:00.000000000\",\"2020-04-15T00:00:00.000000000\",\"2020-04-16T00:00:00.000000000\",\"2020-04-17T00:00:00.000000000\",\"2020-04-20T00:00:00.000000000\",\"2020-04-21T00:00:00.000000000\",\"2020-04-22T00:00:00.000000000\",\"2020-04-23T00:00:00.000000000\",\"2020-04-24T00:00:00.000000000\",\"2020-04-27T00:00:00.000000000\",\"2020-04-28T00:00:00.000000000\",\"2020-04-29T00:00:00.000000000\",\"2020-04-30T00:00:00.000000000\",\"2020-05-01T00:00:00.000000000\",\"2020-05-04T00:00:00.000000000\",\"2020-05-05T00:00:00.000000000\",\"2020-05-06T00:00:00.000000000\",\"2020-05-07T00:00:00.000000000\",\"2020-05-08T00:00:00.000000000\",\"2020-05-11T00:00:00.000000000\",\"2020-05-12T00:00:00.000000000\",\"2020-05-13T00:00:00.000000000\",\"2020-05-14T00:00:00.000000000\",\"2020-05-15T00:00:00.000000000\",\"2020-05-18T00:00:00.000000000\",\"2020-05-19T00:00:00.000000000\",\"2020-05-20T00:00:00.000000000\",\"2020-05-21T00:00:00.000000000\",\"2020-05-22T00:00:00.000000000\",\"2020-05-26T00:00:00.000000000\",\"2020-05-27T00:00:00.000000000\",\"2020-05-28T00:00:00.000000000\",\"2020-05-29T00:00:00.000000000\",\"2020-06-01T00:00:00.000000000\",\"2020-06-02T00:00:00.000000000\",\"2020-06-03T00:00:00.000000000\",\"2020-06-04T00:00:00.000000000\",\"2020-06-05T00:00:00.000000000\",\"2020-06-08T00:00:00.000000000\",\"2020-06-09T00:00:00.000000000\",\"2020-06-10T00:00:00.000000000\",\"2020-06-11T00:00:00.000000000\",\"2020-06-12T00:00:00.000000000\",\"2020-06-15T00:00:00.000000000\",\"2020-06-16T00:00:00.000000000\",\"2020-06-17T00:00:00.000000000\",\"2020-06-18T00:00:00.000000000\",\"2020-06-19T00:00:00.000000000\",\"2020-06-22T00:00:00.000000000\",\"2020-06-23T00:00:00.000000000\",\"2020-06-24T00:00:00.000000000\",\"2020-06-25T00:00:00.000000000\",\"2020-06-26T00:00:00.000000000\",\"2020-06-29T00:00:00.000000000\",\"2020-06-30T00:00:00.000000000\",\"2020-07-01T00:00:00.000000000\",\"2020-07-02T00:00:00.000000000\",\"2020-07-06T00:00:00.000000000\",\"2020-07-07T00:00:00.000000000\",\"2020-07-08T00:00:00.000000000\",\"2020-07-09T00:00:00.000000000\",\"2020-07-10T00:00:00.000000000\",\"2020-07-13T00:00:00.000000000\",\"2020-07-14T00:00:00.000000000\",\"2020-07-15T00:00:00.000000000\",\"2020-07-16T00:00:00.000000000\",\"2020-07-17T00:00:00.000000000\",\"2020-07-20T00:00:00.000000000\",\"2020-07-21T00:00:00.000000000\",\"2020-07-22T00:00:00.000000000\",\"2020-07-23T00:00:00.000000000\",\"2020-07-24T00:00:00.000000000\",\"2020-07-27T00:00:00.000000000\",\"2020-07-28T00:00:00.000000000\",\"2020-07-29T00:00:00.000000000\",\"2020-07-30T00:00:00.000000000\",\"2020-07-31T00:00:00.000000000\",\"2020-08-03T00:00:00.000000000\",\"2020-08-04T00:00:00.000000000\",\"2020-08-05T00:00:00.000000000\",\"2020-08-06T00:00:00.000000000\",\"2020-08-07T00:00:00.000000000\",\"2020-08-10T00:00:00.000000000\",\"2020-08-11T00:00:00.000000000\",\"2020-08-12T00:00:00.000000000\",\"2020-08-13T00:00:00.000000000\",\"2020-08-14T00:00:00.000000000\",\"2020-08-17T00:00:00.000000000\",\"2020-08-18T00:00:00.000000000\",\"2020-08-19T00:00:00.000000000\",\"2020-08-20T00:00:00.000000000\",\"2020-08-21T00:00:00.000000000\",\"2020-08-24T00:00:00.000000000\",\"2020-08-25T00:00:00.000000000\",\"2020-08-26T00:00:00.000000000\",\"2020-08-27T00:00:00.000000000\",\"2020-08-28T00:00:00.000000000\",\"2020-08-31T00:00:00.000000000\",\"2020-09-01T00:00:00.000000000\",\"2020-09-02T00:00:00.000000000\",\"2020-09-03T00:00:00.000000000\",\"2020-09-04T00:00:00.000000000\",\"2020-09-08T00:00:00.000000000\",\"2020-09-09T00:00:00.000000000\",\"2020-09-10T00:00:00.000000000\",\"2020-09-11T00:00:00.000000000\",\"2020-09-14T00:00:00.000000000\",\"2020-09-15T00:00:00.000000000\",\"2020-09-16T00:00:00.000000000\",\"2020-09-17T00:00:00.000000000\",\"2020-09-18T00:00:00.000000000\",\"2020-09-21T00:00:00.000000000\",\"2020-09-22T00:00:00.000000000\",\"2020-09-23T00:00:00.000000000\",\"2020-09-24T00:00:00.000000000\",\"2020-09-25T00:00:00.000000000\",\"2020-09-28T00:00:00.000000000\",\"2020-09-29T00:00:00.000000000\",\"2020-09-30T00:00:00.000000000\",\"2020-10-01T00:00:00.000000000\",\"2020-10-02T00:00:00.000000000\",\"2020-10-05T00:00:00.000000000\",\"2020-10-06T00:00:00.000000000\",\"2020-10-07T00:00:00.000000000\",\"2020-10-08T00:00:00.000000000\",\"2020-10-09T00:00:00.000000000\",\"2020-10-12T00:00:00.000000000\",\"2020-10-13T00:00:00.000000000\",\"2020-10-14T00:00:00.000000000\",\"2020-10-15T00:00:00.000000000\",\"2020-10-16T00:00:00.000000000\",\"2020-10-19T00:00:00.000000000\",\"2020-10-20T00:00:00.000000000\",\"2020-10-21T00:00:00.000000000\",\"2020-10-22T00:00:00.000000000\",\"2020-10-23T00:00:00.000000000\",\"2020-10-26T00:00:00.000000000\",\"2020-10-27T00:00:00.000000000\",\"2020-10-28T00:00:00.000000000\",\"2020-10-29T00:00:00.000000000\",\"2020-10-30T00:00:00.000000000\",\"2020-11-02T00:00:00.000000000\",\"2020-11-03T00:00:00.000000000\",\"2020-11-04T00:00:00.000000000\",\"2020-11-05T00:00:00.000000000\",\"2020-11-06T00:00:00.000000000\",\"2020-11-09T00:00:00.000000000\",\"2020-11-10T00:00:00.000000000\",\"2020-11-11T00:00:00.000000000\",\"2020-11-12T00:00:00.000000000\",\"2020-11-13T00:00:00.000000000\",\"2020-11-16T00:00:00.000000000\",\"2020-11-17T00:00:00.000000000\",\"2020-11-18T00:00:00.000000000\",\"2020-11-19T00:00:00.000000000\",\"2020-11-20T00:00:00.000000000\",\"2020-11-23T00:00:00.000000000\",\"2020-11-24T00:00:00.000000000\",\"2020-11-25T00:00:00.000000000\",\"2020-11-27T00:00:00.000000000\",\"2020-11-30T00:00:00.000000000\",\"2020-12-01T00:00:00.000000000\",\"2020-12-02T00:00:00.000000000\",\"2020-12-03T00:00:00.000000000\",\"2020-12-04T00:00:00.000000000\",\"2020-12-07T00:00:00.000000000\",\"2020-12-08T00:00:00.000000000\",\"2020-12-09T00:00:00.000000000\",\"2020-12-10T00:00:00.000000000\",\"2020-12-11T00:00:00.000000000\",\"2020-12-14T00:00:00.000000000\",\"2020-12-15T00:00:00.000000000\",\"2020-12-16T00:00:00.000000000\",\"2020-12-17T00:00:00.000000000\",\"2020-12-18T00:00:00.000000000\",\"2020-12-21T00:00:00.000000000\",\"2020-12-22T00:00:00.000000000\",\"2020-12-23T00:00:00.000000000\",\"2020-12-24T00:00:00.000000000\",\"2020-12-28T00:00:00.000000000\",\"2020-12-29T00:00:00.000000000\",\"2020-12-30T00:00:00.000000000\",\"2020-12-31T00:00:00.000000000\",\"2021-01-04T00:00:00.000000000\",\"2021-01-05T00:00:00.000000000\",\"2021-01-06T00:00:00.000000000\",\"2021-01-07T00:00:00.000000000\",\"2021-01-08T00:00:00.000000000\",\"2021-01-11T00:00:00.000000000\",\"2021-01-12T00:00:00.000000000\",\"2021-01-13T00:00:00.000000000\",\"2021-01-14T00:00:00.000000000\",\"2021-01-15T00:00:00.000000000\",\"2021-01-19T00:00:00.000000000\",\"2021-01-20T00:00:00.000000000\",\"2021-01-21T00:00:00.000000000\",\"2021-01-22T00:00:00.000000000\",\"2021-01-25T00:00:00.000000000\",\"2021-01-26T00:00:00.000000000\",\"2021-01-27T00:00:00.000000000\",\"2021-01-28T00:00:00.000000000\",\"2021-01-29T00:00:00.000000000\",\"2021-02-01T00:00:00.000000000\",\"2021-02-02T00:00:00.000000000\",\"2021-02-03T00:00:00.000000000\",\"2021-02-04T00:00:00.000000000\",\"2021-02-05T00:00:00.000000000\",\"2021-02-08T00:00:00.000000000\",\"2021-02-09T00:00:00.000000000\",\"2021-02-10T00:00:00.000000000\",\"2021-02-11T00:00:00.000000000\",\"2021-02-12T00:00:00.000000000\",\"2021-02-16T00:00:00.000000000\",\"2021-02-17T00:00:00.000000000\",\"2021-02-18T00:00:00.000000000\",\"2021-02-19T00:00:00.000000000\",\"2021-02-22T00:00:00.000000000\",\"2021-02-23T00:00:00.000000000\",\"2021-02-24T00:00:00.000000000\",\"2021-02-25T00:00:00.000000000\",\"2021-02-26T00:00:00.000000000\",\"2021-03-01T00:00:00.000000000\",\"2021-03-02T00:00:00.000000000\",\"2021-03-03T00:00:00.000000000\",\"2021-03-04T00:00:00.000000000\",\"2021-03-05T00:00:00.000000000\",\"2021-03-08T00:00:00.000000000\",\"2021-03-09T00:00:00.000000000\",\"2021-03-10T00:00:00.000000000\",\"2021-03-11T00:00:00.000000000\",\"2021-03-12T00:00:00.000000000\",\"2021-03-15T00:00:00.000000000\",\"2021-03-16T00:00:00.000000000\",\"2021-03-17T00:00:00.000000000\",\"2021-03-18T00:00:00.000000000\",\"2021-03-19T00:00:00.000000000\",\"2021-03-22T00:00:00.000000000\",\"2021-03-23T00:00:00.000000000\",\"2021-03-24T00:00:00.000000000\",\"2021-03-25T00:00:00.000000000\",\"2021-03-26T00:00:00.000000000\",\"2021-03-29T00:00:00.000000000\",\"2021-03-30T00:00:00.000000000\",\"2021-03-31T00:00:00.000000000\",\"2021-04-01T00:00:00.000000000\",\"2021-04-05T00:00:00.000000000\",\"2021-04-06T00:00:00.000000000\",\"2021-04-07T00:00:00.000000000\",\"2021-04-08T00:00:00.000000000\",\"2021-04-09T00:00:00.000000000\",\"2021-04-12T00:00:00.000000000\",\"2021-04-13T00:00:00.000000000\",\"2021-04-14T00:00:00.000000000\",\"2021-04-15T00:00:00.000000000\",\"2021-04-16T00:00:00.000000000\",\"2021-04-19T00:00:00.000000000\",\"2021-04-20T00:00:00.000000000\",\"2021-04-21T00:00:00.000000000\",\"2021-04-22T00:00:00.000000000\",\"2021-04-23T00:00:00.000000000\",\"2021-04-26T00:00:00.000000000\",\"2021-04-27T00:00:00.000000000\",\"2021-04-28T00:00:00.000000000\",\"2021-04-29T00:00:00.000000000\",\"2021-04-30T00:00:00.000000000\",\"2021-05-03T00:00:00.000000000\",\"2021-05-04T00:00:00.000000000\",\"2021-05-05T00:00:00.000000000\",\"2021-05-06T00:00:00.000000000\",\"2021-05-07T00:00:00.000000000\",\"2021-05-10T00:00:00.000000000\",\"2021-05-11T00:00:00.000000000\",\"2021-05-12T00:00:00.000000000\",\"2021-05-13T00:00:00.000000000\",\"2021-05-14T00:00:00.000000000\",\"2021-05-17T00:00:00.000000000\",\"2021-05-18T00:00:00.000000000\",\"2021-05-19T00:00:00.000000000\",\"2021-05-20T00:00:00.000000000\",\"2021-05-21T00:00:00.000000000\",\"2021-05-24T00:00:00.000000000\",\"2021-05-25T00:00:00.000000000\",\"2021-05-26T00:00:00.000000000\",\"2021-05-27T00:00:00.000000000\",\"2021-05-28T00:00:00.000000000\",\"2021-06-01T00:00:00.000000000\",\"2021-06-02T00:00:00.000000000\",\"2021-06-03T00:00:00.000000000\",\"2021-06-04T00:00:00.000000000\",\"2021-06-07T00:00:00.000000000\",\"2021-06-08T00:00:00.000000000\",\"2021-06-09T00:00:00.000000000\",\"2021-06-10T00:00:00.000000000\",\"2021-06-11T00:00:00.000000000\",\"2021-06-14T00:00:00.000000000\",\"2021-06-15T00:00:00.000000000\",\"2021-06-16T00:00:00.000000000\",\"2021-06-17T00:00:00.000000000\",\"2021-06-18T00:00:00.000000000\",\"2021-06-21T00:00:00.000000000\",\"2021-06-22T00:00:00.000000000\",\"2021-06-23T00:00:00.000000000\",\"2021-06-24T00:00:00.000000000\",\"2021-06-25T00:00:00.000000000\",\"2021-06-28T00:00:00.000000000\",\"2021-06-29T00:00:00.000000000\",\"2021-06-30T00:00:00.000000000\",\"2021-07-01T00:00:00.000000000\",\"2021-07-02T00:00:00.000000000\",\"2021-07-06T00:00:00.000000000\",\"2021-07-07T00:00:00.000000000\",\"2021-07-08T00:00:00.000000000\",\"2021-07-09T00:00:00.000000000\",\"2021-07-12T00:00:00.000000000\",\"2021-07-13T00:00:00.000000000\",\"2021-07-14T00:00:00.000000000\",\"2021-07-15T00:00:00.000000000\",\"2021-07-16T00:00:00.000000000\",\"2021-07-19T00:00:00.000000000\",\"2021-07-20T00:00:00.000000000\",\"2021-07-21T00:00:00.000000000\",\"2021-07-22T00:00:00.000000000\",\"2021-07-23T00:00:00.000000000\",\"2021-07-26T00:00:00.000000000\",\"2021-07-27T00:00:00.000000000\",\"2021-07-28T00:00:00.000000000\",\"2021-07-29T00:00:00.000000000\",\"2021-07-30T00:00:00.000000000\",\"2021-08-02T00:00:00.000000000\",\"2021-08-03T00:00:00.000000000\",\"2021-08-04T00:00:00.000000000\",\"2021-08-05T00:00:00.000000000\",\"2021-08-06T00:00:00.000000000\",\"2021-08-09T00:00:00.000000000\",\"2021-08-10T00:00:00.000000000\",\"2021-08-11T00:00:00.000000000\",\"2021-08-12T00:00:00.000000000\",\"2021-08-13T00:00:00.000000000\",\"2021-08-16T00:00:00.000000000\",\"2021-08-17T00:00:00.000000000\",\"2021-08-18T00:00:00.000000000\",\"2021-08-19T00:00:00.000000000\",\"2021-08-20T00:00:00.000000000\",\"2021-08-23T00:00:00.000000000\",\"2021-08-24T00:00:00.000000000\",\"2021-08-25T00:00:00.000000000\",\"2021-08-26T00:00:00.000000000\",\"2021-08-27T00:00:00.000000000\",\"2021-08-30T00:00:00.000000000\",\"2021-08-31T00:00:00.000000000\",\"2021-09-01T00:00:00.000000000\",\"2021-09-02T00:00:00.000000000\",\"2021-09-03T00:00:00.000000000\",\"2021-09-07T00:00:00.000000000\",\"2021-09-08T00:00:00.000000000\",\"2021-09-09T00:00:00.000000000\",\"2021-09-10T00:00:00.000000000\",\"2021-09-13T00:00:00.000000000\",\"2021-09-14T00:00:00.000000000\",\"2021-09-15T00:00:00.000000000\",\"2021-09-16T00:00:00.000000000\",\"2021-09-17T00:00:00.000000000\",\"2021-09-20T00:00:00.000000000\",\"2021-09-21T00:00:00.000000000\",\"2021-09-22T00:00:00.000000000\",\"2021-09-23T00:00:00.000000000\",\"2021-09-24T00:00:00.000000000\",\"2021-09-27T00:00:00.000000000\",\"2021-09-28T00:00:00.000000000\",\"2021-09-29T00:00:00.000000000\",\"2021-09-30T00:00:00.000000000\",\"2021-10-01T00:00:00.000000000\",\"2021-10-04T00:00:00.000000000\",\"2021-10-05T00:00:00.000000000\",\"2021-10-06T00:00:00.000000000\",\"2021-10-07T00:00:00.000000000\",\"2021-10-08T00:00:00.000000000\",\"2021-10-11T00:00:00.000000000\",\"2021-10-12T00:00:00.000000000\",\"2021-10-13T00:00:00.000000000\",\"2021-10-14T00:00:00.000000000\",\"2021-10-15T00:00:00.000000000\",\"2021-10-18T00:00:00.000000000\",\"2021-10-19T00:00:00.000000000\",\"2021-10-20T00:00:00.000000000\",\"2021-10-21T00:00:00.000000000\",\"2021-10-22T00:00:00.000000000\",\"2021-10-25T00:00:00.000000000\",\"2021-10-26T00:00:00.000000000\",\"2021-10-27T00:00:00.000000000\",\"2021-10-28T00:00:00.000000000\",\"2021-10-29T00:00:00.000000000\",\"2021-11-01T00:00:00.000000000\",\"2021-11-02T00:00:00.000000000\",\"2021-11-03T00:00:00.000000000\",\"2021-11-04T00:00:00.000000000\",\"2021-11-05T00:00:00.000000000\",\"2021-11-08T00:00:00.000000000\",\"2021-11-09T00:00:00.000000000\",\"2021-11-10T00:00:00.000000000\",\"2021-11-11T00:00:00.000000000\",\"2021-11-12T00:00:00.000000000\",\"2021-11-15T00:00:00.000000000\",\"2021-11-16T00:00:00.000000000\",\"2021-11-17T00:00:00.000000000\",\"2021-11-18T00:00:00.000000000\",\"2021-11-19T00:00:00.000000000\",\"2021-11-22T00:00:00.000000000\",\"2021-11-23T00:00:00.000000000\",\"2021-11-24T00:00:00.000000000\",\"2021-11-26T00:00:00.000000000\",\"2021-11-29T00:00:00.000000000\",\"2021-11-30T00:00:00.000000000\",\"2021-12-01T00:00:00.000000000\",\"2021-12-02T00:00:00.000000000\",\"2021-12-03T00:00:00.000000000\",\"2021-12-06T00:00:00.000000000\",\"2021-12-07T00:00:00.000000000\",\"2021-12-08T00:00:00.000000000\",\"2021-12-09T00:00:00.000000000\",\"2021-12-10T00:00:00.000000000\",\"2021-12-13T00:00:00.000000000\",\"2021-12-14T00:00:00.000000000\",\"2021-12-15T00:00:00.000000000\",\"2021-12-16T00:00:00.000000000\",\"2021-12-17T00:00:00.000000000\",\"2021-12-20T00:00:00.000000000\",\"2021-12-21T00:00:00.000000000\",\"2021-12-22T00:00:00.000000000\",\"2021-12-23T00:00:00.000000000\",\"2021-12-27T00:00:00.000000000\",\"2021-12-28T00:00:00.000000000\",\"2021-12-29T00:00:00.000000000\",\"2021-12-30T00:00:00.000000000\",\"2021-12-31T00:00:00.000000000\",\"2022-01-03T00:00:00.000000000\",\"2022-01-04T00:00:00.000000000\",\"2022-01-05T00:00:00.000000000\",\"2022-01-06T00:00:00.000000000\",\"2022-01-07T00:00:00.000000000\",\"2022-01-10T00:00:00.000000000\",\"2022-01-11T00:00:00.000000000\",\"2022-01-12T00:00:00.000000000\",\"2022-01-13T00:00:00.000000000\",\"2022-01-14T00:00:00.000000000\",\"2022-01-18T00:00:00.000000000\",\"2022-01-19T00:00:00.000000000\",\"2022-01-20T00:00:00.000000000\",\"2022-01-21T00:00:00.000000000\",\"2022-01-24T00:00:00.000000000\",\"2022-01-25T00:00:00.000000000\",\"2022-01-26T00:00:00.000000000\",\"2022-01-27T00:00:00.000000000\",\"2022-01-28T00:00:00.000000000\",\"2022-01-31T00:00:00.000000000\",\"2022-02-01T00:00:00.000000000\",\"2022-02-02T00:00:00.000000000\",\"2022-02-03T00:00:00.000000000\",\"2022-02-04T00:00:00.000000000\",\"2022-02-07T00:00:00.000000000\",\"2022-02-08T00:00:00.000000000\",\"2022-02-09T00:00:00.000000000\",\"2022-02-10T00:00:00.000000000\",\"2022-02-11T00:00:00.000000000\",\"2022-02-14T00:00:00.000000000\",\"2022-02-15T00:00:00.000000000\",\"2022-02-16T00:00:00.000000000\",\"2022-02-17T00:00:00.000000000\",\"2022-02-18T00:00:00.000000000\",\"2022-02-22T00:00:00.000000000\",\"2022-02-23T00:00:00.000000000\",\"2022-02-24T00:00:00.000000000\",\"2022-02-25T00:00:00.000000000\",\"2022-02-28T00:00:00.000000000\",\"2022-03-01T00:00:00.000000000\",\"2022-03-02T00:00:00.000000000\",\"2022-03-03T00:00:00.000000000\",\"2022-03-04T00:00:00.000000000\",\"2022-03-07T00:00:00.000000000\",\"2022-03-08T00:00:00.000000000\",\"2022-03-09T00:00:00.000000000\",\"2022-03-10T00:00:00.000000000\",\"2022-03-11T00:00:00.000000000\",\"2022-03-14T00:00:00.000000000\",\"2022-03-15T00:00:00.000000000\",\"2022-03-16T00:00:00.000000000\",\"2022-03-17T00:00:00.000000000\",\"2022-03-18T00:00:00.000000000\",\"2022-03-21T00:00:00.000000000\",\"2022-03-22T00:00:00.000000000\",\"2022-03-23T00:00:00.000000000\",\"2022-03-24T00:00:00.000000000\",\"2022-03-25T00:00:00.000000000\",\"2022-03-28T00:00:00.000000000\",\"2022-03-29T00:00:00.000000000\",\"2022-03-30T00:00:00.000000000\",\"2022-03-31T00:00:00.000000000\",\"2022-04-01T00:00:00.000000000\",\"2022-04-04T00:00:00.000000000\",\"2022-04-05T00:00:00.000000000\",\"2022-04-06T00:00:00.000000000\",\"2022-04-07T00:00:00.000000000\",\"2022-04-08T00:00:00.000000000\",\"2022-04-11T00:00:00.000000000\",\"2022-04-12T00:00:00.000000000\",\"2022-04-13T00:00:00.000000000\",\"2022-04-14T00:00:00.000000000\",\"2022-04-18T00:00:00.000000000\",\"2022-04-19T00:00:00.000000000\",\"2022-04-20T00:00:00.000000000\",\"2022-04-21T00:00:00.000000000\",\"2022-04-22T00:00:00.000000000\",\"2022-04-25T00:00:00.000000000\",\"2022-04-26T00:00:00.000000000\",\"2022-04-27T00:00:00.000000000\",\"2022-04-28T00:00:00.000000000\",\"2022-04-29T00:00:00.000000000\",\"2022-05-02T00:00:00.000000000\",\"2022-05-03T00:00:00.000000000\",\"2022-05-04T00:00:00.000000000\",\"2022-05-05T00:00:00.000000000\",\"2022-05-06T00:00:00.000000000\",\"2022-05-09T00:00:00.000000000\",\"2022-05-10T00:00:00.000000000\",\"2022-05-11T00:00:00.000000000\",\"2022-05-12T00:00:00.000000000\",\"2022-05-13T00:00:00.000000000\",\"2022-05-16T00:00:00.000000000\",\"2022-05-17T00:00:00.000000000\",\"2022-05-18T00:00:00.000000000\",\"2022-05-19T00:00:00.000000000\",\"2022-05-20T00:00:00.000000000\",\"2022-05-23T00:00:00.000000000\",\"2022-05-24T00:00:00.000000000\",\"2022-05-25T00:00:00.000000000\",\"2022-05-26T00:00:00.000000000\",\"2022-05-27T00:00:00.000000000\",\"2022-05-31T00:00:00.000000000\",\"2022-06-01T00:00:00.000000000\",\"2022-06-02T00:00:00.000000000\",\"2022-06-03T00:00:00.000000000\",\"2022-06-06T00:00:00.000000000\",\"2022-06-07T00:00:00.000000000\",\"2022-06-08T00:00:00.000000000\",\"2022-06-09T00:00:00.000000000\",\"2022-06-10T00:00:00.000000000\",\"2022-06-13T00:00:00.000000000\",\"2022-06-14T00:00:00.000000000\",\"2022-06-15T00:00:00.000000000\",\"2022-06-16T00:00:00.000000000\",\"2022-06-17T00:00:00.000000000\",\"2022-06-21T00:00:00.000000000\",\"2022-06-22T00:00:00.000000000\",\"2022-06-23T00:00:00.000000000\",\"2022-06-24T00:00:00.000000000\",\"2022-06-27T00:00:00.000000000\",\"2022-06-28T00:00:00.000000000\",\"2022-06-29T00:00:00.000000000\",\"2022-06-30T00:00:00.000000000\",\"2022-07-01T00:00:00.000000000\",\"2022-07-05T00:00:00.000000000\",\"2022-07-06T00:00:00.000000000\",\"2022-07-07T00:00:00.000000000\",\"2022-07-08T00:00:00.000000000\",\"2022-07-11T00:00:00.000000000\",\"2022-07-12T00:00:00.000000000\",\"2022-07-13T00:00:00.000000000\",\"2022-07-14T00:00:00.000000000\",\"2022-07-15T00:00:00.000000000\",\"2022-07-18T00:00:00.000000000\",\"2022-07-19T00:00:00.000000000\",\"2022-07-20T00:00:00.000000000\",\"2022-07-21T00:00:00.000000000\",\"2022-07-22T00:00:00.000000000\",\"2022-07-25T00:00:00.000000000\",\"2022-07-26T00:00:00.000000000\",\"2022-07-27T00:00:00.000000000\",\"2022-07-28T00:00:00.000000000\",\"2022-07-29T00:00:00.000000000\",\"2022-08-01T00:00:00.000000000\",\"2022-08-02T00:00:00.000000000\",\"2022-08-03T00:00:00.000000000\",\"2022-08-04T00:00:00.000000000\",\"2022-08-05T00:00:00.000000000\",\"2022-08-08T00:00:00.000000000\",\"2022-08-09T00:00:00.000000000\",\"2022-08-10T00:00:00.000000000\",\"2022-08-11T00:00:00.000000000\",\"2022-08-12T00:00:00.000000000\",\"2022-08-15T00:00:00.000000000\",\"2022-08-16T00:00:00.000000000\",\"2022-08-17T00:00:00.000000000\",\"2022-08-18T00:00:00.000000000\",\"2022-08-19T00:00:00.000000000\",\"2022-08-22T00:00:00.000000000\",\"2022-08-23T00:00:00.000000000\",\"2022-08-24T00:00:00.000000000\",\"2022-08-25T00:00:00.000000000\",\"2022-08-26T00:00:00.000000000\",\"2022-08-29T00:00:00.000000000\",\"2022-08-30T00:00:00.000000000\",\"2022-08-31T00:00:00.000000000\",\"2022-09-01T00:00:00.000000000\",\"2022-09-02T00:00:00.000000000\",\"2022-09-06T00:00:00.000000000\",\"2022-09-07T00:00:00.000000000\",\"2022-09-08T00:00:00.000000000\",\"2022-09-09T00:00:00.000000000\",\"2022-09-12T00:00:00.000000000\",\"2022-09-13T00:00:00.000000000\",\"2022-09-14T00:00:00.000000000\",\"2022-09-15T00:00:00.000000000\",\"2022-09-16T00:00:00.000000000\",\"2022-09-19T00:00:00.000000000\",\"2022-09-20T00:00:00.000000000\",\"2022-09-21T00:00:00.000000000\",\"2022-09-22T00:00:00.000000000\",\"2022-09-23T00:00:00.000000000\",\"2022-09-26T00:00:00.000000000\",\"2022-09-27T00:00:00.000000000\",\"2022-09-28T00:00:00.000000000\",\"2022-09-29T00:00:00.000000000\",\"2022-09-30T00:00:00.000000000\",\"2022-10-03T00:00:00.000000000\",\"2022-10-04T00:00:00.000000000\",\"2022-10-05T00:00:00.000000000\",\"2022-10-06T00:00:00.000000000\",\"2022-10-07T00:00:00.000000000\",\"2022-10-10T00:00:00.000000000\",\"2022-10-11T00:00:00.000000000\",\"2022-10-12T00:00:00.000000000\",\"2022-10-13T00:00:00.000000000\",\"2022-10-14T00:00:00.000000000\",\"2022-10-17T00:00:00.000000000\",\"2022-10-18T00:00:00.000000000\",\"2022-10-19T00:00:00.000000000\",\"2022-10-20T00:00:00.000000000\",\"2022-10-21T00:00:00.000000000\",\"2022-10-24T00:00:00.000000000\",\"2022-10-25T00:00:00.000000000\",\"2022-10-26T00:00:00.000000000\",\"2022-10-27T00:00:00.000000000\",\"2022-10-28T00:00:00.000000000\",\"2022-10-31T00:00:00.000000000\",\"2022-11-01T00:00:00.000000000\",\"2022-11-02T00:00:00.000000000\",\"2022-11-03T00:00:00.000000000\",\"2022-11-04T00:00:00.000000000\",\"2022-11-07T00:00:00.000000000\",\"2022-11-08T00:00:00.000000000\",\"2022-11-09T00:00:00.000000000\",\"2022-11-10T00:00:00.000000000\",\"2022-11-11T00:00:00.000000000\",\"2022-11-14T00:00:00.000000000\",\"2022-11-15T00:00:00.000000000\",\"2022-11-16T00:00:00.000000000\",\"2022-11-17T00:00:00.000000000\",\"2022-11-18T00:00:00.000000000\",\"2022-11-21T00:00:00.000000000\",\"2022-11-22T00:00:00.000000000\",\"2022-11-23T00:00:00.000000000\",\"2022-11-25T00:00:00.000000000\",\"2022-11-28T00:00:00.000000000\",\"2022-11-29T00:00:00.000000000\",\"2022-11-30T00:00:00.000000000\",\"2022-12-01T00:00:00.000000000\",\"2022-12-02T00:00:00.000000000\",\"2022-12-05T00:00:00.000000000\",\"2022-12-06T00:00:00.000000000\",\"2022-12-07T00:00:00.000000000\",\"2022-12-08T00:00:00.000000000\",\"2022-12-09T00:00:00.000000000\",\"2022-12-12T00:00:00.000000000\",\"2022-12-13T00:00:00.000000000\",\"2022-12-14T00:00:00.000000000\",\"2022-12-15T00:00:00.000000000\",\"2022-12-16T00:00:00.000000000\",\"2022-12-19T00:00:00.000000000\",\"2022-12-20T00:00:00.000000000\",\"2022-12-21T00:00:00.000000000\",\"2022-12-22T00:00:00.000000000\",\"2022-12-23T00:00:00.000000000\",\"2022-12-27T00:00:00.000000000\",\"2022-12-28T00:00:00.000000000\",\"2022-12-29T00:00:00.000000000\",\"2022-12-30T00:00:00.000000000\",\"2023-01-03T00:00:00.000000000\",\"2023-01-04T00:00:00.000000000\",\"2023-01-05T00:00:00.000000000\",\"2023-01-06T00:00:00.000000000\",\"2023-01-09T00:00:00.000000000\",\"2023-01-10T00:00:00.000000000\",\"2023-01-11T00:00:00.000000000\",\"2023-01-12T00:00:00.000000000\",\"2023-01-13T00:00:00.000000000\",\"2023-01-17T00:00:00.000000000\",\"2023-01-18T00:00:00.000000000\",\"2023-01-19T00:00:00.000000000\",\"2023-01-20T00:00:00.000000000\",\"2023-01-23T00:00:00.000000000\",\"2023-01-24T00:00:00.000000000\",\"2023-01-25T00:00:00.000000000\",\"2023-01-26T00:00:00.000000000\",\"2023-01-27T00:00:00.000000000\",\"2023-01-30T00:00:00.000000000\",\"2023-01-31T00:00:00.000000000\",\"2023-02-01T00:00:00.000000000\",\"2023-02-02T00:00:00.000000000\",\"2023-02-03T00:00:00.000000000\",\"2023-02-06T00:00:00.000000000\",\"2023-02-07T00:00:00.000000000\",\"2023-02-08T00:00:00.000000000\",\"2023-02-09T00:00:00.000000000\",\"2023-02-10T00:00:00.000000000\",\"2023-02-13T00:00:00.000000000\",\"2023-02-14T00:00:00.000000000\",\"2023-02-15T00:00:00.000000000\",\"2023-02-16T00:00:00.000000000\",\"2023-02-17T00:00:00.000000000\",\"2023-02-21T00:00:00.000000000\",\"2023-02-22T00:00:00.000000000\",\"2023-02-23T00:00:00.000000000\",\"2023-02-24T00:00:00.000000000\",\"2023-02-27T00:00:00.000000000\",\"2023-02-28T00:00:00.000000000\",\"2023-03-01T00:00:00.000000000\",\"2023-03-02T00:00:00.000000000\",\"2023-03-03T00:00:00.000000000\",\"2023-03-06T00:00:00.000000000\",\"2023-03-07T00:00:00.000000000\",\"2023-03-08T00:00:00.000000000\",\"2023-03-09T00:00:00.000000000\",\"2023-03-10T00:00:00.000000000\",\"2023-03-13T00:00:00.000000000\",\"2023-03-14T00:00:00.000000000\",\"2023-03-15T00:00:00.000000000\",\"2023-03-16T00:00:00.000000000\",\"2023-03-17T00:00:00.000000000\",\"2023-03-20T00:00:00.000000000\",\"2023-03-21T00:00:00.000000000\",\"2023-03-22T00:00:00.000000000\",\"2023-03-23T00:00:00.000000000\",\"2023-03-24T00:00:00.000000000\",\"2023-03-27T00:00:00.000000000\",\"2023-03-28T00:00:00.000000000\",\"2023-03-29T00:00:00.000000000\",\"2023-03-30T00:00:00.000000000\",\"2023-03-31T00:00:00.000000000\",\"2023-04-03T00:00:00.000000000\",\"2023-04-04T00:00:00.000000000\",\"2023-04-05T00:00:00.000000000\",\"2023-04-06T00:00:00.000000000\",\"2023-04-10T00:00:00.000000000\",\"2023-04-11T00:00:00.000000000\",\"2023-04-12T00:00:00.000000000\",\"2023-04-13T00:00:00.000000000\",\"2023-04-14T00:00:00.000000000\",\"2023-04-17T00:00:00.000000000\",\"2023-04-18T00:00:00.000000000\",\"2023-04-19T00:00:00.000000000\",\"2023-04-20T00:00:00.000000000\",\"2023-04-21T00:00:00.000000000\",\"2023-04-24T00:00:00.000000000\",\"2023-04-25T00:00:00.000000000\",\"2023-04-26T00:00:00.000000000\",\"2023-04-27T00:00:00.000000000\",\"2023-04-28T00:00:00.000000000\",\"2023-05-01T00:00:00.000000000\",\"2023-05-02T00:00:00.000000000\",\"2023-05-03T00:00:00.000000000\",\"2023-05-04T00:00:00.000000000\",\"2023-05-05T00:00:00.000000000\",\"2023-05-08T00:00:00.000000000\",\"2023-05-09T00:00:00.000000000\",\"2023-05-10T00:00:00.000000000\",\"2023-05-11T00:00:00.000000000\",\"2023-05-12T00:00:00.000000000\",\"2023-05-15T00:00:00.000000000\",\"2023-05-16T00:00:00.000000000\",\"2023-05-17T00:00:00.000000000\",\"2023-05-18T00:00:00.000000000\",\"2023-05-19T00:00:00.000000000\",\"2023-05-22T00:00:00.000000000\",\"2023-05-23T00:00:00.000000000\",\"2023-05-24T00:00:00.000000000\",\"2023-05-25T00:00:00.000000000\",\"2023-05-26T00:00:00.000000000\",\"2023-05-30T00:00:00.000000000\",\"2023-05-31T00:00:00.000000000\",\"2023-06-01T00:00:00.000000000\",\"2023-06-02T00:00:00.000000000\",\"2023-06-05T00:00:00.000000000\",\"2023-06-06T00:00:00.000000000\",\"2023-06-07T00:00:00.000000000\",\"2023-06-08T00:00:00.000000000\",\"2023-06-09T00:00:00.000000000\",\"2023-06-12T00:00:00.000000000\",\"2023-06-13T00:00:00.000000000\",\"2023-06-14T00:00:00.000000000\",\"2023-06-15T00:00:00.000000000\",\"2023-06-16T00:00:00.000000000\",\"2023-06-20T00:00:00.000000000\",\"2023-06-21T00:00:00.000000000\",\"2023-06-22T00:00:00.000000000\",\"2023-06-23T00:00:00.000000000\",\"2023-06-26T00:00:00.000000000\",\"2023-06-27T00:00:00.000000000\",\"2023-06-28T00:00:00.000000000\",\"2023-06-29T00:00:00.000000000\",\"2023-06-30T00:00:00.000000000\",\"2023-07-03T00:00:00.000000000\",\"2023-07-05T00:00:00.000000000\",\"2023-07-06T00:00:00.000000000\",\"2023-07-07T00:00:00.000000000\",\"2023-07-10T00:00:00.000000000\",\"2023-07-11T00:00:00.000000000\",\"2023-07-12T00:00:00.000000000\",\"2023-07-13T00:00:00.000000000\",\"2023-07-14T00:00:00.000000000\",\"2023-07-17T00:00:00.000000000\",\"2023-07-18T00:00:00.000000000\",\"2023-07-19T00:00:00.000000000\",\"2023-07-20T00:00:00.000000000\",\"2023-07-21T00:00:00.000000000\",\"2023-07-24T00:00:00.000000000\",\"2023-07-25T00:00:00.000000000\",\"2023-07-26T00:00:00.000000000\",\"2023-07-27T00:00:00.000000000\",\"2023-07-28T00:00:00.000000000\",\"2023-07-31T00:00:00.000000000\",\"2023-08-01T00:00:00.000000000\",\"2023-08-02T00:00:00.000000000\",\"2023-08-03T00:00:00.000000000\",\"2023-08-04T00:00:00.000000000\",\"2023-08-07T00:00:00.000000000\",\"2023-08-08T00:00:00.000000000\",\"2023-08-09T00:00:00.000000000\",\"2023-08-10T00:00:00.000000000\",\"2023-08-11T00:00:00.000000000\",\"2023-08-14T00:00:00.000000000\",\"2023-08-15T00:00:00.000000000\",\"2023-08-16T00:00:00.000000000\",\"2023-08-17T00:00:00.000000000\",\"2023-08-18T00:00:00.000000000\",\"2023-08-21T00:00:00.000000000\",\"2023-08-22T00:00:00.000000000\",\"2023-08-23T00:00:00.000000000\",\"2023-08-24T00:00:00.000000000\",\"2023-08-25T00:00:00.000000000\",\"2023-08-28T00:00:00.000000000\",\"2023-08-29T00:00:00.000000000\",\"2023-08-30T00:00:00.000000000\",\"2023-08-31T00:00:00.000000000\",\"2023-09-01T00:00:00.000000000\",\"2023-09-05T00:00:00.000000000\",\"2023-09-06T00:00:00.000000000\",\"2023-09-07T00:00:00.000000000\",\"2023-09-08T00:00:00.000000000\",\"2023-09-11T00:00:00.000000000\",\"2023-09-12T00:00:00.000000000\",\"2023-09-13T00:00:00.000000000\",\"2023-09-14T00:00:00.000000000\",\"2023-09-15T00:00:00.000000000\",\"2023-09-18T00:00:00.000000000\",\"2023-09-19T00:00:00.000000000\",\"2023-09-20T00:00:00.000000000\",\"2023-09-21T00:00:00.000000000\",\"2023-09-22T00:00:00.000000000\",\"2023-09-25T00:00:00.000000000\",\"2023-09-26T00:00:00.000000000\",\"2023-09-27T00:00:00.000000000\",\"2023-09-28T00:00:00.000000000\",\"2023-09-29T00:00:00.000000000\",\"2023-10-02T00:00:00.000000000\",\"2023-10-03T00:00:00.000000000\",\"2023-10-04T00:00:00.000000000\",\"2023-10-05T00:00:00.000000000\",\"2023-10-06T00:00:00.000000000\",\"2023-10-09T00:00:00.000000000\",\"2023-10-10T00:00:00.000000000\",\"2023-10-11T00:00:00.000000000\",\"2023-10-12T00:00:00.000000000\",\"2023-10-13T00:00:00.000000000\",\"2023-10-16T00:00:00.000000000\",\"2023-10-17T00:00:00.000000000\",\"2023-10-18T00:00:00.000000000\",\"2023-10-19T00:00:00.000000000\",\"2023-10-20T00:00:00.000000000\",\"2023-10-23T00:00:00.000000000\",\"2023-10-24T00:00:00.000000000\",\"2023-10-25T00:00:00.000000000\",\"2023-10-26T00:00:00.000000000\",\"2023-10-27T00:00:00.000000000\",\"2023-10-30T00:00:00.000000000\",\"2023-10-31T00:00:00.000000000\",\"2023-11-01T00:00:00.000000000\",\"2023-11-02T00:00:00.000000000\",\"2023-11-03T00:00:00.000000000\",\"2023-11-06T00:00:00.000000000\",\"2023-11-07T00:00:00.000000000\",\"2023-11-08T00:00:00.000000000\",\"2023-11-09T00:00:00.000000000\",\"2023-11-10T00:00:00.000000000\",\"2023-11-13T00:00:00.000000000\",\"2023-11-14T00:00:00.000000000\",\"2023-11-15T00:00:00.000000000\",\"2023-11-16T00:00:00.000000000\",\"2023-11-17T00:00:00.000000000\",\"2023-11-20T00:00:00.000000000\",\"2023-11-21T00:00:00.000000000\",\"2023-11-22T00:00:00.000000000\",\"2023-11-24T00:00:00.000000000\",\"2023-11-27T00:00:00.000000000\",\"2023-11-28T00:00:00.000000000\",\"2023-11-29T00:00:00.000000000\",\"2023-11-30T00:00:00.000000000\",\"2023-12-01T00:00:00.000000000\",\"2023-12-04T00:00:00.000000000\",\"2023-12-05T00:00:00.000000000\",\"2023-12-06T00:00:00.000000000\",\"2023-12-07T00:00:00.000000000\",\"2023-12-08T00:00:00.000000000\",\"2023-12-11T00:00:00.000000000\",\"2023-12-12T00:00:00.000000000\",\"2023-12-13T00:00:00.000000000\",\"2023-12-14T00:00:00.000000000\",\"2023-12-15T00:00:00.000000000\",\"2023-12-18T00:00:00.000000000\",\"2023-12-19T00:00:00.000000000\",\"2023-12-20T00:00:00.000000000\",\"2023-12-21T00:00:00.000000000\",\"2023-12-22T00:00:00.000000000\",\"2023-12-26T00:00:00.000000000\",\"2023-12-27T00:00:00.000000000\",\"2023-12-28T00:00:00.000000000\",\"2023-12-29T00:00:00.000000000\"],\"y\":{\"dtype\":\"f8\",\"bdata\":\"AAAAoMQwREAAAAAg3i9EQAAAAADfR0RAAAAAYPuCREAAAAAAe29EQAAAAADhbkRAAAAAwK1tREAAAABAYotEQAAAAACywURAAAAAgLCmREAAAACAAf5EQAAAAODOAkVAAAAAYM3qREAAAABA\\u002fr5EQAAAAKAxwERAAAAAQJRrREAAAAAgQw5EQAAAAIBDGkRAAAAAQL6vQ0AAAADACZJDQAAAAODWn0NAAAAAwFeqQ0AAAADA5s9CQAAAACCUV0JAAAAAgNAbQ0AAAABgGLNCQAAAAIBfL0JAAAAAQFBoQkAAAACAHiZDQAAAAKA6V0NAAAAAIISyQ0AAAACg1VtEQAAAAKD2SkRAAAAAIH05REAAAABg\\u002fSFEQAAAAKASTURAAAAAwHSnREAAAADg\\u002fw9FQAAAAMCG\\u002fkRAAAAAIGT2REAAAAAAZJhEQAAAAMDYvERAAAAAYDnPREAAAABgtMpEQAAAAMBLmURAAAAAANfSREAAAACgbS5FQAAAACDaYkVAAAAAoCAuRUAAAAAACABFQAAAAKBbBkVAAAAAAGHzREAAAAAAbqFEQAAAAGCfn0RAAAAAYAMoREAAAACgGt9DQAAAAABOaUNAAAAAgDRVREAAAAAAvc9DQAAAAICzl0NAAAAAYN6+Q0AAAABAup1DQAAAACA\\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\\u002fqERAAAAAoPZfRUAAAABgcZ1FQAAAAGDptUVAAAAAgLLzRUAAAADAzDxGQAAAAEDqdkZAAAAA4FZJRkAAAACAMntGQAAAAIApT0dAAAAAYJfTRkAAAADA74xGQAAAAMBKUUZAAAAAgK2ERkAAAAAgU4xGQAAAAEDysUZAAAAAgGfZRkAAAABAby5HQAAAAKAdV0dAAAAAwINhR0AAAABglYlHQAAAAMBm6EdAAAAAwAzWR0AAAABgTvhHQAAAACA6xUdAAAAA4MfCR0AAAACAys1HQAAAACBnzkdAAAAAoBRFSEAAAABgaFtIQAAAAODmb0hAAAAAACLKSEAAAABgWMBIQAAAAEDXhkhAAAAAoN1oSEAAAAAgWXJIQAAAAODV+UdAAAAAwB0nSUAAAADgNf1IQAAAAMC8TElAAAAA4LfoSEAAAADA0TxIQAAAAGALPkhAAAAAwF37R0AAAADAUKZHQAAAAKBwRkZAAAAAILagRkAAAACAGuZGQAAAAABQzEZAAAAAwCarRkAAAAAAsPVFQAAAAAB2YUZAAAAAgCvsRUAAAAAAX4xFQAAAACAvd0VAAAAAAHdgRUAAAACgXUZFQAAAAMCcYkVAAAAAgHD\\u002fREAAAACAF8lEQAAAAADCi0VAAAAAAM3kRUAAAADAFjdGQAAAAEB2zkZAAAAAwBIZR0AAAABgi11HQAAAAECCSkdAAAAAoEdJR0AAAADA\\u002fB1HQAAAACBMQUdAAAAAYE\\u002fNR0AAAAAggLtHQAAAAIBS7EdAAAAA4HDXR0AAAADATNFHQAAAAGDhdEdAAAAAoML2R0AAAAAA6\\u002fRHQAAAAEAJvUdAAAAAYH4sSEAAAABAuVBIQAAAAMBOhEhAAAAAAMh+SEAAAAAAhP1HQAAAAGD5IkhAAAAAYBNgSEAAAABgojJIQAAAAMA5YkhAAAAAAN+cSEAAAAAAEodIQAAAACDDY0hAAAAAQLCqSEAAAAAgbUxIQAAAAICW2khAAAAAQFQMSUAAAAAAHAdJQAAAAEBy1EhAAAAAAI7qSEAAAADAHiZJQAAAAKB8CklAAAAAwEmNSUAAAABgvf9IQAAAAKBVeEhAAAAAYGgwR0AAAACgyaBHQAAAAGBs30dAAAAAgDdmSEAAAACgvjJIQAAAAMAGI0hAAAAAALMoSUAAAADA\\u002fWhIQAAAAADdSUhAAAAAAJLcSEAAAACAO1NJQAAAAICKU0lAAAAAQNCZSUAAAAAARJRJQAAAAOCZZUhAAAAAIEPcSEAAAABAc5RIQAAAAMCsvkhAAAAAYO4pSUAAAABgnCFJQAAAACDqw0hAAAAAYHovSUAAAADgia1JQAAAAEDsrElAAAAAQPjISUAAAABA8hZKQAAAACBO60pAAAAA4OTbSkAAAAAAIVZKQAAAAOCSeUpAAAAAIDuSSkAAAADgB9JKQAAAAMA+mkpAAAAAQLE2SkAAAADANFVKQAAAACAnNUpAAAAAAGecSkAAAAAARHlKQAAAAKBJWEpAAAAAQAT3SkAAAAAAIApLQAAAAGCaXEpAAAAAYO6VSkAAAABgtlRLQAAAAABBVktAAAAAAEUES0AAAABgVFVLQAAAAGCks0tAAAAAYERwTEAAAAAAymVMQAAAAEDWVExAAAAAoI43TEAAAADAmlNMQAAAAIBudkxAAAAAgMz0TEAAAADA2ONMQAAAAEAXR01AAAAAoGtTTUAAAABA4q9NQAAAAOAC\\u002fE1AAAAA4HpKTUAAAABAjklNQAAAAOAS801AAAAA4KvMTkAAAACAcwBPQAAAAEAM9U5AAAAAwG\\u002f4TkAAAAAA8VNPQAAAAEDkaU9AAAAAAJOpT0AAAACAJqJPQAAAAEC\\u002f709AAAAA4Cy3T0AAAADgzwtQQAAAAECGIFBAAAAAIAEUUEAAAABALchPQAAAAECyo09AAAAAYJacT0AAAACAPRVQQAAAAAAv6k9AAAAAYPYrUEAAAADg1yJQQAAAAKAp5k9AAAAAgI9UT0AAAABgWptPQAAAAOAHCVBAAAAAwFJYUEAAAAAgvh1QQAAAAEDbNVBAAAAAoEBZUEAAAACg6mNQQAAAAKDznFBAAAAAIMHlUEAAAAAgQe5QQAAAACDm41BAAAAAIDroUEAAAABAQ99QQAAAACC\\u002fJVFAAAAAQOspUUAAAAAAGIFRQAAAACBlf1FAAAAA4PqZUUAAAABA57pRQAAAACB3IlJAAAAAoFT1UUAAAABg9hlSQAAAAEArBFJAAAAAoFxOUkAAAACg57FSQAAAACC5vFJAAAAAQDQjU0AAAAAADOFSQAAAACBWzFJAAAAAQJ4IU0AAAACgjz5TQAAAAKAsHVNAAAAAIKQuU0AAAABgSkZTQAAAAOAROFNAAAAA4GSnUkAAAACgfC5TQAAAAEBGlVNAAAAAwAKOU0AAAACgDLBSQAAAAGDpolJAAAAAoGpAU0AAAADAmmhTQAAAAOC4olNAAAAAQGVeU0AAAABg8nVTQAAAAIDjV1NAAAAAIHzNU0AAAABgYqlTQAAAAMCfqlNAAAAAQHBOU0AAAACgBJZTQAAAAACUYlNAAAAAAEDyUkAAAACg3AtSQAAAAKBgb1FAAAAAoC62UUAAAABAyo1QQAAAAABQi1BAAAAAYJ8VUkAAAADgloJRQAAAACCDUlJAAAAAwF26UUAAAACAGH5RQAAAAADqG1BAAAAA4OxEUUAAAABAYqtQQAAAAKDrC05AAAAAgLzSUEAAAADgYFFNQAAAAMBjm05AAAAAoJTbTUAAAACAA6FNQAAAAMB5v0tAAAAAgJEoS0AAAACAFuJNQAAAAODxt01AAAAAIExIT0AAAABgvPxNQAAAAODQ105AAAAAgLPHTkAAAAAAGClNQAAAAGCppU1AAAAAYJY4TUAAAAAALcVPQAAAAOD5Zk9AAAAAYF0aUEAAAADAHDhQQAAAAMCbiVBAAAAA4GpfUUAAAACg0zZRQAAAAGDXWVFAAAAA4JEdUUAAAADgn8JQQAAAAOD\\u002fPVBAAAAAwMO1UEAAAADgL6VQQAAAAIA0IFFAAAAA4E0jUUAAAAAgMNxQQAAAAID0aVFAAAAAIADIUUAAAAAAt35RQAAAAMAVvlFAAAAAYEECUkAAAADA0jFSQAAAAKABYlJAAAAAYATSUkAAAACA1B1TQAAAAEDn5VJAAAAAAH2rUkAAAADg2chSQAAAAMBrrFJAAAAAgA0dU0AAAAAgxwBTQAAAAABkX1NAAAAAYGo6U0AAAADAG1pTQAAAAMCMOFNAAAAAIP1NU0AAAABAKlBTQAAAAEBZS1NAAAAAgBeIU0AAAABgPZ9TQAAAAGDkulNAAAAAoGSPU0AAAABAAh5UQAAAAIB1PFRAAAAAIAzgVEAAAACAiWlVQAAAAKBdYlRAAAAAQGuPVEAAAAAAg9BUQAAAAOC6XVVAAAAAQB5WVUAAAADgSlhVQAAAAAAROVVAAAAAgDfHVUAAAADgNz5WQAAAAOCz2VVAAAAAYPYjVkAAAABgz3VVQAAAAOBs9FVAAAAAYFcjVkAAAAAAnxhWQAAAAACfGFZAAAAAoO+vVkAAAACA6p1WQAAAAGDDJFdAAAAA4D0+V0AAAACgpkhXQAAAAEAnLVdAAAAAYFaPV0AAAAAg0bhXQAAAAGAXbldAAAAAIPlhV0AAAAAgH+BXQAAAAODDi1dAAAAAoLKcV0AAAACAkIlWQAAAAIBFe1ZAAAAAYKwDV0AAAAAA46JWQAAAAED3EVdAAAAAwG1ZV0AAAADAMstZQAAAAECVcVpAAAAAgMqeWkAAAAAgfrdaQAAAAAAepltAAAAAoDAFW0AAAAAAu2lbQAAAACAGmVpAAAAAQFF7W0AAAAAA0\\u002fdbQAAAAMBx8VtAAAAAwMTeW0AAAACAOBpcQAAAAGA\\u002fI1xAAAAAABbDXEAAAADAhT5eQAAAACAgm15AAAAAQNlaXkAAAADghcReQAAAAIBdZl5AAAAAAMJZXkAAAACAP2FfQAAAAACeUGBAAAAA4Cr0X0AAAABgQWVdQAAAAIA8al1AAAAAQH1vW0AAAADAoYdcQAAAAAAzmVtAAAAAAHE8W0AAAABAnQ1cQAAAAMDRGFxAAAAAoIhEW0AAAACAGdVaQAAAAOA1+1lAAAAA4OnEWkAAAADAnDBbQAAAAECkDFpAAAAAQB9RWkAAAADg3k1bQAAAAEC29FtAAAAAII2+W0AAAADgoClcQAAAACCjZlxAAAAAgPB7W0AAAACAlVRcQAAAAECohFtAAAAAAC\\u002f8W0AAAADAVfVbQAAAAADYcVxAAAAA4GNAXkAAAABg83JdQAAAACCOeF1AAAAAAKxaXUAAAACAdvFcQAAAACA2NFxAAAAAwHWTXEAAAABgnmtcQAAAAMDkJVxAAAAAYLH5W0AAAADgUPpbQAAAAMDOWlxAAAAAQKMKW0AAAAAAIAtcQAAAAID2eFpAAAAAYFxzWkAAAAAAU9taQAAAAEAX9FtAAAAAIBbyXEAAAADgqulcQAAAAODeVVxAAAAAwAtAXEAAAACAjhtdQAAAAGAYCl1AAAAAoDYNXUAAAACgEU5dQAAAAABSFV1AAAAAgILAXEAAAADAjOZcQAAAAKB6lVxAAAAAwNa7W0AAAAAAKA5cQAAAAEDJQ1xAAAAAYLVmXEAAAAAAHgBdQAAAAMD75F1AAAAAQG\\u002f7XUAAAACAtPJdQAAAAICsx11AAAAAIDclXkAAAADggExeQAAAAKBdql1AAAAAQGkFXkAAAADgptFdQAAAAKBdql1AAAAAwMQmX0AAAADgZiJfQAAAAIDnWV9AAAAAQLDaXkAAAAAAmDxfQAAAAGAbEGBAAAAAYNfmX0AAAACA6RJgQAAAAGAWpmBAAAAAgFZtYEAAAADAeklgQAAAAOBcKWBAAAAAgC6GX0AAAACg9elfQAAAACDy1l5AAAAAwFjkX0AAAACAaBVgQAAAAIBda19AAAAAQCRgX0AAAACgeeJfQAAAACAAZ19AAAAAYJ\\u002f4XkAAAACgpiNfQAAAAKDIFGBAAAAAwLKrYEAAAADAS\\u002fBgQAAAAGBXaGFAAAAAINNvYUAAAACghk1hQAAAAMCOsmBAAAAAAJoSYEAAAACAk1ZgQAAAAIAUcWBAAAAAwFZQYEAAAADA6btgQAAAAOCjrmBAAAAAQFOzYEAAAACgOJdgQAAAAODbg2BAAAAAwL17YEAAAAAgPINgQAAAAMAoP2BAAAAAII3rX0AAAAAg+qRfQAAAAOD3rl9AAAAAQEW9XkAAAAAgh7ReQAAAAKCslF5AAAAAoF+EXUAAAACgPJVdQAAAAIAQLV9AAAAAoE+GXkAAAAAAM8ddQAAAAGCpTl1AAAAAgDqfXUAAAABANWNcQAAAAACeil1AAAAAYEtFXUAAAABA9MBdQAAAACDfhl1AAAAAgLw\\u002fXkAAAABAaqJeQAAAAODTb15AAAAA4KRnXUAAAACA60VdQAAAAMBDGl5AAAAAwC3lXUAAAABAKkxdQAAAAEBka11AAAAAAB2SXUAAAAAAW51dQAAAAGBMQF1AAAAAANLMXUAAAAAg6AFeQAAAAMAGt15AAAAAwGLKXkAAAABA7zNfQAAAAGCSzV9AAAAAoDk5YEAAAABARAJgQAAAAEDhZWBAAAAAYO8aYEAAAABAEWhgQAAAACBzXWBAAAAAQK9yYEAAAABgqTxgQAAAACDXSGBAAAAAACAYYEAAAABAcmJgQAAAAODvbmBAAAAAwKFkYEAAAACAVktgQAAAAMA2SGBAAAAAICMJYEAAAADA3CpgQAAAAGDPMF9AAAAA4GxAX0AAAACg2aZfQAAAAGAE0l9AAAAAQND\\u002fXkAAAADgAcVeQAAAAECRAF5AAAAAgDOKXkAAAACgWSVfQAAAACCH215AAAAAYLGCXkAAAADgrnheQAAAAKCXHF9AAAAAIPqmXkAAAABAdA9fQAAAAADxAl9AAAAAQND\\u002fXkAAAAAAmJ1eQAAAAMCtc15AAAAAYAhfXkAAAABA1I9eQAAAACC9MF5AAAAAQMHDXkAAAADAYcReQAAAAIDu+F5AAAAAoFQRX0AAAADAhNFeQAAAAAAYH19AAAAAYOjiX0AAAADAW65fQAAAAMBDzl9AAAAAgG4aYEAAAACgqOFfQAAAAIBiKmBAAAAAYO9eYEAAAABALVZgQAAAAMAaTWBAAAAAoLhDYEAAAACA9XdgQAAAAIBxqGBAAAAAwCa8YEAAAAAg2cVgQAAAACD+GWFAAAAAwG1aYUAAAABgMaphQAAAAGCXgGFAAAAAIBa7YUAAAAAgAahhQAAAAOCpy2FAAAAAYHU5YkAAAADAfyRiQAAAAMAf42FAAAAAQOFnYUAAAADgndthQAAAACAoxGFAAAAAwPLvYUAAAACAACdiQAAAACB0NGJAAAAA4ALvYUAAAADABLdhQAAAAOCpy2FAAAAAoIvSYUAAAAAA6cdhQAAAAGB3AWJAAAAA4KP0YUAAAAAAFfhhQAAAAEAn4mFAAAAAYJbgYUAAAABAPNFhQAAAAMBh2WFAAAAAIE04YkAAAACg4T5iQAAAAGApfmJAAAAA4AZhYkAAAACAC+lhQAAAAACy82FAAAAAoF8iYkAAAADg\\u002fVFiQAAAAAAsT2JAAAAA4LInYkAAAAAAAw5iQAAAAKA3L2JAAAAAwNC8YkAAAACAZ5RiQAAAACC1qWJAAAAAYGvNYkAAAACgyOFiQAAAAICnLGNAAAAAQCj7YkAAAADgk9piQAAAAADPOmJAAAAAwPpMYkAAAABgLiBiQAAAACCwPGJAAAAAQCs1YkAAAACApd9hQAAAAMDnfWFAAAAA4EGNYUAAAACAEdlhQAAAAADF92FAAAAAoJb6YUAAAADgB8phQAAAAKCjXWFAAAAA4HV6YUAAAACAy1BhQAAAAADSdGFAAAAAoNwGYUAAAADAk0RhQAAAAGB1YGFAAAAAwN6IYUAAAAAgp3xhQAAAAGDVeWFAAAAA4BtRYUAAAADgTz5hQAAAACCYl2FAAAAAYG25YUAAAABg\\u002f+5hQAAAAOA6NGJAAAAA4ORDYkAAAAAgyUpiQAAAAIAJMmJAAAAAYHgwYkAAAAAAxkViQAAAAMAMN2JAAAAAIJarYkAAAABgz1RiQAAAAOB+OmJAAAAA4LNbYkAAAADgwIliQAAAAGAmeWJAAAAAIBeKYkAAAADgvG9iQAAAAMBYe2JAAAAAYK0gYkAAAAAAHB9iQAAAAKCeYWJAAAAA4O5hYkAAAABgToFiQAAAAOBsz2JAAAAAoNZYY0AAAABA66xjQAAAAOCpu2NAAAAAAObHY0AAAADghthjQAAAAGCVN2NAAAAAQDGjY0AAAACg8EFkQAAAAKBPMWRAAAAAAKARZEAAAACgY9VjQAAAACCRQmRAAAAAYGn6ZEAAAAAAxHRlQAAAAOBzZGVAAAAAgN39ZUAAAAAgeYllQAAAAKA8XWVAAAAAACn5ZUAAAACASxxlQAAAACAo+WRAAAAAYIzNZEAAAABAMjNlQAAAAKBVhmVAAAAA4GmaZUAAAABgeRlmQAAAAIDY+GVAAAAAgKv7ZUAAAABgptZlQAAAAKDiwmVAAAAAIC5OZkAAAABgtQVmQAAAAAC\\u002fb2VAAAAAACMUZUAAAACgeBllQAAAAEAZGmVAAAAAAMR0ZUAAAABg4oJlQAAAAEAZGmVAAAAAALU1ZUAAAAAgHs9kQAAAAOAdX2RAAAAAoCcpZEAAAACARedjQAAAAKB8zmNAAAAA4MKUY0AAAAAA8JFjQAAAACAxg2NAAAAAYL7fZEAAAADAWmtlQAAAAEAFZmVAAAAAAJyMZUAAAACgXzBlQAAAAGBDJ2VAAAAAIFUQZUAAAABA6XNlQAAAAKB1oWVAAAAAAMgeZUAAAAAAd7FkQAAAAEABuWRAAAAAINQzZUAAAABASixlQAAAAEABuWRAAAAAQF+HZEAAAABAwylkQAAAAMBBpGNAAAAAICH4Y0AAAAAgaTpkQAAAAGDkQmRAAAAAgJQGZEAAAACAIHBkQAAAAODCZWRAAAAAAKMFZEAAAADgEYxjQAAAAGCkUWNAAAAA4Ln+Y0AAAAAgkXNjQAAAAECD\\u002fGJAAAAAoGd7YkAAAABA0gdjQAAAAAAulWNAAAAA4Ii1Y0AAAADgFB9kQAAAAEAPS2RAAAAAwB63ZEAAAACgyOJkQAAAAKAJXGVAAAAAgHRwZUAAAABgGYxlQAAAAICl9WVAAAAAwEPQZUAAAAAAAG1lQAAAAGCTY2VAAAAAwE\\u002flZUAAAACgIntlQAAAAECsFWVAAAAA4GgfZUAAAACAA99kQAAAAKCuVmRAAAAAIK6SZEAAAACgwOhkQAAAAGA7SGRAAAAAYFJBZEAAAACAg4pkQAAAAEAshWRAAAAAgLprZEAAAABgSdpjQAAAAACH\\u002fGNAAAAAoIk9Y0AAAAAgUDZjQAAAAKBmFGRAAAAAoDxYY0AAAAAA+mFjQAAAAEC5kWNAAAAA4ClfZEAAAABAmDxjQAAAAODfU2NAAAAAgKivYkAAAADgu\\u002fxiQAAAAMC+AGJAAAAAYMyEYUAAAADg7xNiQAAAAGCL4mFAAAAAwPFWYkAAAABAD05hQAAAAEDl4GBAAAAAQHLoYEAAAADAGZZhQAAAAGCWP2FAAAAAIJ9EYUAAAACALathQAAAAOCGY2JAAAAAQFxKYkAAAABgRUZiQAAAACDrlGJAAAAAIIPdYUAAAACga\\u002fVhQAAAAGBFRmJAAAAAIK0uYkAAAACAUIdhQAAAAKD52WBAAAAA4NA0YEAAAADgf1BgQAAAAKB+pGBAAAAAoB73X0AAAACgvypgQAAAAEBWsmBAAAAAYPqhYEAAAACg1v1gQAAAAAB8aGFAAAAAAHxoYUAAAABguuNgQAAAAAAKHGFAAAAAoBPNYEAAAADAmRJhQAAAAKBWZWFAAAAAYB+QYUAAAAAgB\\u002fxhQAAAAOC7EWJAAAAAAHjNYUAAAADAnOxhQAAAACD54GFAAAAAYLg+YkAAAACAM3RiQAAAAICtEmJAAAAAwE+OYkAAAAAAfc5iQAAAAKAoF2NAAAAAIIXvYkAAAAAgqMtiQAAAAEAwoWJAAAAAYHVEY0AAAACAE1ZjQAAAAOBn+GNAAAAAYPLYY0AAAADgwaljQAAAAIBJamRAAAAAIDhgZEAAAABA+VhkQAAAAEDaSWRAAAAAgG1LZEAAAAAghdNkQAAAAGDku2RAAAAAQJ4tZUAAAADA9E9lQAAAAEDqSmVAAAAAwMx6ZUAAAADAMm5lQAAAAKBYG2VAAAAA4OieZEAAAADgMpRkQAAAAICmnWRAAAAAQGjsZEAAAABgeSJkQAAAAIDo22NAAAAAwBiOY0AAAABA21hjQAAAAIArcGNAAAAAIHAsY0AAAACAHQRjQAAAAMApMWNAAAAAAOkBY0AAAABAlV1jQAAAAOB8HGRAAAAAoGDuYkAAAADArxxjQAAAAKARwGJAAAAAgHWLYkAAAAAgigJjQAAAAKDGTmNAAAAA4JjqYkAAAACguctiQAAAAAD0gmJAAAAAAKqNYkAAAAAg2qxiQAAAAMBdcGJAAAAAoIGIYUAAAADgrAFhQAAAAACQh2FAAAAAIIz6YUAAAABg\\u002fwNiQAAAAIBw5WFAAAAAQDc9YUAAAACAnEdhQAAAAGA\\u002fGmFAAAAAABYGYUAAAADAkphhQAAAAGBYB2FAAAAAIE2GYUAAAAAghLBhQAAAACD7s2FAAAAAwCylYUAAAACAZx9iQAAAAMAUZGJAAAAAoB+\\u002fYkAAAABA7mBiQAAAACCY0WFAAAAA4DsqY0AAAABgoN5iQAAAACDiiWJAAAAAwNbYYUAAAADAGBdhQAAAAMCTDmFAAAAA4J0fYUAAAABA6zFhQAAAAKDRn2BAAAAAwHoaYkAAAACAx3NiQAAAAMD4RmJAAAAAIIJ+YkAAAACgEFdiQAAAACD3k2JAAAAAoPOlYkAAAADAcz5iQAAAAADtgmJAAAAAgAKfYkAAAABgm0FiQAAAAMDbxmFAAAAA4J1mYUAAAAAgFT9iQAAAACDrR2JAAAAAQCQ4YkAAAAAA6BJiQAAAAKCFnWFAAAAA4FtfYUAAAAAAUZVhQAAAAODahWFAAAAAwGDPYUAAAABATe5hQAAAAMD8pmFAAAAAAEHTYEAAAADAdZRgQAAAAKDuUGBAAAAAILlOYEAAAAAgH7JgQAAAAICDTGBAAAAAoNZAYEAAAAAAGAdgQAAAAABhEl9AAAAAwK3zX0AAAADg7wNgQAAAAEAp1V5AAAAAAJMmX0AAAACAAdJeQAAAAIBP9F9AAAAAIOEKYEAAAABgLh1gQAAAAABGdGBAAAAAwL9xYEAAAAAgWZxgQAAAAECVwWBAAAAAgIyqYEAAAAAAcaxgQAAAAAB8\\u002fmBAAAAAALlkYUAAAACgh5FhQAAAAMBjfGFAAAAAgKe+YUAAAAAA0fxhQAAAAGBcoGFAAAAAIBHJYUAAAAAACu1hQAAAAEAfl2JAAAAAID4LY0AAAABA1rNiQAAAAAD6D2NAAAAA4NS5YkAAAADgsphiQAAAAKBkpGJAAAAAQCX+YkAAAABgmuliQAAAAADrLGNAAAAAoLj5YkAAAADgD9ViQAAAAMBvVGJAAAAAgAZiYkAAAADggnFiQAAAAMB\\u002fHGJAAAAAAL1CYkAAAADgnjJiQAAAACBB8GFAAAAAgDcDYkAAAABABqViQAAAAICD\\u002fWJAAAAA4Am3YkAAAACgLN9iQAAAAKAel2JAAAAAgBFVYkAAAACgU5NiQAAAAEBT1mJAAAAAgPfiYkAAAAAAWj1jQAAAACB9ImNAAAAAIFZuY0AAAAAgwKljQAAAAADte2NAAAAAQLCeY0AAAAAAaMhjQAAAAKAlimNAAAAAgDx2Y0AAAADA1thjQAAAAMAWC2RAAAAAQFxbZEAAAADgfoNkQAAAACBucmRAAAAAAFU3ZEAAAACgxlNkQAAAAKCoAGRAAAAAoMnZY0AAAABgqsNjQAAAAMA3cGRAAAAAQChlZEAAAADgyWVkQAAAACD6jGRAAAAAAKOxZEAAAACAqpJkQAAAACAnX2RAAAAAAPNoZEAAAAAApjdkQAAAAABVN2RAAAAAgEnKZEAAAABAbPJkQAAAAGCU72RAAAAAYGXOZEAAAADA8qtkQAAAAKB8d2RAAAAA4FttZUAAAACAJWtlQAAAAEB5NGVAAAAAIAttZUAAAABADHNlQAAAAOBMVWVAAAAA4HlFZUAAAADgeUVlQAAAAAAZWWVAAAAAwMijZUAAAAAARKdlQAAAAEDiiGVAAAAAIFY1ZUAAAACAMj5lQAAAAICXYmVAAAAAQM+vZUAAAABA\\u002feplQAAAAEBo6WVAAAAA4EhDZkAAAAAggF5mQAAAACAlM2ZAAAAAYG8nZkAAAAAgcvtlQAAAAIB5UmZAAAAAANFeZkAAAACgYLhmQAAAAOAvqWZAAAAA4HC9ZkAAAABgov5mQAAAAGAj3GZAAAAAoPzeZkAAAADgwb1mQAAAAMD2HWdAAAAAANYTZ0AAAAAAN+dmQAAAAGCCP2dAAAAAgCtlZ0AAAAAA7m9nQAAAACCL+mdAAAAAgMHKZ0AAAADA\\u002fqZnQAAAAKAvtmdAAAAAoGySZ0AAAACA6lBnQAAAAKAkQGdAAAAAIKB1Z0AAAABA\\u002fo1nQAAAAKC9kmdAAAAAAC37Z0AAAACg8vJnQAAAAMBNHmhAAAAAgPXfZ0AAAADATLpnQAAAACDv02dAAAAAQHfvZ0AAAADAUAtoQAAAAODO4mdAAAAAIGg1aEAAAADgBkloQAAAAIBxLmhAAAAA4I3OZ0AAAACA7qFnQAAAAMBpf2ZAAAAAwAocZkAAAABgGzpmQAAAAOAnB2ZAAAAAgDEAZkAAAAAgGAJmQAAAACAEN2ZAAAAAwFH3ZUAAAAAAb9tlQAAAAID9iWVAAAAAwISZZUAAAADATMRlQAAAACBZ8GVAAAAA4J5rZkAAAACgadVlQAAAAIAUHGZAAAAAYCZOZkAAAABgsMpmQAAAAKCNOmdAAAAAYIZBZ0AAAACg6XNnQAAAAICEe2dAAAAAgFikZkAAAABgzvplQAAAAMBzDmZAAAAA4NgzZkAAAADA4NJlQAAAAGClkGVAAAAAgCHBZUAAAAAg\\u002f6llQAAAAEDMB2ZAAAAAYKgqZkAAAABgNbllQAAAAKDFh2VAAAAAYAajZUAAAADA58tlQAAAAABYSWVAAAAAwNsYZUAAAAAgGSFlQAAAAKCTMWVAAAAAYBGCZUAAAABgSVdlQAAAAGA3f2VAAAAAINSmZUAAAACAlvhlQAAAAGAfKGZAAAAAgBsVZkAAAACAykFmQAAAAMCgXmZAAAAAwK8jZkAAAADgkB9mQAAAAEDQ7WVAAAAAwEzEZUAAAABAQrhlQAAAAMB\\u002fZmVAAAAAAE1qZUAAAACgPnhlQAAAAGAXLmVAAAAAgK2oZEAAAABA09JkQAAAACBsFGVAAAAAAKIjZUAAAABgCollQAAAAGAf+2VAAAAAAPjdZUAAAAAAui9mQAAAAKDNgWZAAAAAALajZkAAAAAAgJRmQAAAAGC5GmdAAAAAIPTnZkAAAABguTtnQAAAAKDPTWdAAAAAQMGDZ0AAAADgHoNnQAAAAID3umdAAAAA4EOhZ0AAAABghrZnQAAAAGABjGdAAAAAIEuGZ0AAAAAgpplnQAAAAID3eGdAAAAA4F6LZ0AAAADgTbRnQAAAAMDeemdAAAAAQHr5Z0AAAAAgk9ZnQAAAAABzFGhAAAAAgCRCaEAAAADA3PFnQAAAAIBpImhAAAAAwImJaEAAAABgTI5oQAAAAMApfWhAAAAAwNpHaEAAAAAgLGloQAAAACA4JmhAAAAAoHUhaEAAAACgMP9nQAAAAOC87WdAAAAA4OjwZ0AAAAAgjv5nQAAAAMA83WdA\",\"shape\":\"1509, 1\"},\"type\":\"scatter\"},{\"mode\":\"lines\",\"name\":\"Future Prediction\",\"x\":[\"2023-12-30T00:00:00.000000000\",\"2023-12-31T00:00:00.000000000\",\"2024-01-01T00:00:00.000000000\",\"2024-01-02T00:00:00.000000000\",\"2024-01-03T00:00:00.000000000\",\"2024-01-04T00:00:00.000000000\",\"2024-01-05T00:00:00.000000000\",\"2024-01-06T00:00:00.000000000\",\"2024-01-07T00:00:00.000000000\",\"2024-01-08T00:00:00.000000000\",\"2024-01-09T00:00:00.000000000\",\"2024-01-10T00:00:00.000000000\",\"2024-01-11T00:00:00.000000000\",\"2024-01-12T00:00:00.000000000\",\"2024-01-13T00:00:00.000000000\",\"2024-01-14T00:00:00.000000000\",\"2024-01-15T00:00:00.000000000\",\"2024-01-16T00:00:00.000000000\",\"2024-01-17T00:00:00.000000000\",\"2024-01-18T00:00:00.000000000\",\"2024-01-19T00:00:00.000000000\",\"2024-01-20T00:00:00.000000000\",\"2024-01-21T00:00:00.000000000\",\"2024-01-22T00:00:00.000000000\",\"2024-01-23T00:00:00.000000000\",\"2024-01-24T00:00:00.000000000\",\"2024-01-25T00:00:00.000000000\",\"2024-01-26T00:00:00.000000000\",\"2024-01-27T00:00:00.000000000\",\"2024-01-28T00:00:00.000000000\"],\"y\":{\"dtype\":\"f4\",\"bdata\":\"ztQ8QzGAPEPaGzxDFq47QwE7O0NNxTpDw046Q4fYOUNhYzlDy+84Qxh+OEN6DjhDDqE3Q+U1N0MGzTZDcWY2QyUCNkMWoDVDP0A1Q5LiNEMIhzRDky00QyXWM0O0gDNDNS0zQ5rbMkPUizJD2z0yQ6XxMUMipzFD\"},\"type\":\"scatter\"}],                        {\"template\":{\"data\":{\"barpolar\":[{\"marker\":{\"line\":{\"color\":\"rgb(17,17,17)\",\"width\":0.5},\"pattern\":{\"fillmode\":\"overlay\",\"size\":10,\"solidity\":0.2}},\"type\":\"barpolar\"}],\"bar\":[{\"error_x\":{\"color\":\"#f2f5fa\"},\"error_y\":{\"color\":\"#f2f5fa\"},\"marker\":{\"line\":{\"color\":\"rgb(17,17,17)\",\"width\":0.5},\"pattern\":{\"fillmode\":\"overlay\",\"size\":10,\"solidity\":0.2}},\"type\":\"bar\"}],\"carpet\":[{\"aaxis\":{\"endlinecolor\":\"#A2B1C6\",\"gridcolor\":\"#506784\",\"linecolor\":\"#506784\",\"minorgridcolor\":\"#506784\",\"startlinecolor\":\"#A2B1C6\"},\"baxis\":{\"endlinecolor\":\"#A2B1C6\",\"gridcolor\":\"#506784\",\"linecolor\":\"#506784\",\"minorgridcolor\":\"#506784\",\"startlinecolor\":\"#A2B1C6\"},\"type\":\"carpet\"}],\"choropleth\":[{\"colorbar\":{\"outlinewidth\":0,\"ticks\":\"\"},\"type\":\"choropleth\"}],\"contourcarpet\":[{\"colorbar\":{\"outlinewidth\":0,\"ticks\":\"\"},\"type\":\"contourcarpet\"}],\"contour\":[{\"colorbar\":{\"outlinewidth\":0,\"ticks\":\"\"},\"colorscale\":[[0.0,\"#0d0887\"],[0.1111111111111111,\"#46039f\"],[0.2222222222222222,\"#7201a8\"],[0.3333333333333333,\"#9c179e\"],[0.4444444444444444,\"#bd3786\"],[0.5555555555555556,\"#d8576b\"],[0.6666666666666666,\"#ed7953\"],[0.7777777777777778,\"#fb9f3a\"],[0.8888888888888888,\"#fdca26\"],[1.0,\"#f0f921\"]],\"type\":\"contour\"}],\"heatmap\":[{\"colorbar\":{\"outlinewidth\":0,\"ticks\":\"\"},\"colorscale\":[[0.0,\"#0d0887\"],[0.1111111111111111,\"#46039f\"],[0.2222222222222222,\"#7201a8\"],[0.3333333333333333,\"#9c179e\"],[0.4444444444444444,\"#bd3786\"],[0.5555555555555556,\"#d8576b\"],[0.6666666666666666,\"#ed7953\"],[0.7777777777777778,\"#fb9f3a\"],[0.8888888888888888,\"#fdca26\"],[1.0,\"#f0f921\"]],\"type\":\"heatmap\"}],\"histogram2dcontour\":[{\"colorbar\":{\"outlinewidth\":0,\"ticks\":\"\"},\"colorscale\":[[0.0,\"#0d0887\"],[0.1111111111111111,\"#46039f\"],[0.2222222222222222,\"#7201a8\"],[0.3333333333333333,\"#9c179e\"],[0.4444444444444444,\"#bd3786\"],[0.5555555555555556,\"#d8576b\"],[0.6666666666666666,\"#ed7953\"],[0.7777777777777778,\"#fb9f3a\"],[0.8888888888888888,\"#fdca26\"],[1.0,\"#f0f921\"]],\"type\":\"histogram2dcontour\"}],\"histogram2d\":[{\"colorbar\":{\"outlinewidth\":0,\"ticks\":\"\"},\"colorscale\":[[0.0,\"#0d0887\"],[0.1111111111111111,\"#46039f\"],[0.2222222222222222,\"#7201a8\"],[0.3333333333333333,\"#9c179e\"],[0.4444444444444444,\"#bd3786\"],[0.5555555555555556,\"#d8576b\"],[0.6666666666666666,\"#ed7953\"],[0.7777777777777778,\"#fb9f3a\"],[0.8888888888888888,\"#fdca26\"],[1.0,\"#f0f921\"]],\"type\":\"histogram2d\"}],\"histogram\":[{\"marker\":{\"pattern\":{\"fillmode\":\"overlay\",\"size\":10,\"solidity\":0.2}},\"type\":\"histogram\"}],\"mesh3d\":[{\"colorbar\":{\"outlinewidth\":0,\"ticks\":\"\"},\"type\":\"mesh3d\"}],\"parcoords\":[{\"line\":{\"colorbar\":{\"outlinewidth\":0,\"ticks\":\"\"}},\"type\":\"parcoords\"}],\"pie\":[{\"automargin\":true,\"type\":\"pie\"}],\"scatter3d\":[{\"line\":{\"colorbar\":{\"outlinewidth\":0,\"ticks\":\"\"}},\"marker\":{\"colorbar\":{\"outlinewidth\":0,\"ticks\":\"\"}},\"type\":\"scatter3d\"}],\"scattercarpet\":[{\"marker\":{\"colorbar\":{\"outlinewidth\":0,\"ticks\":\"\"}},\"type\":\"scattercarpet\"}],\"scattergeo\":[{\"marker\":{\"colorbar\":{\"outlinewidth\":0,\"ticks\":\"\"}},\"type\":\"scattergeo\"}],\"scattergl\":[{\"marker\":{\"line\":{\"color\":\"#283442\"}},\"type\":\"scattergl\"}],\"scattermapbox\":[{\"marker\":{\"colorbar\":{\"outlinewidth\":0,\"ticks\":\"\"}},\"type\":\"scattermapbox\"}],\"scattermap\":[{\"marker\":{\"colorbar\":{\"outlinewidth\":0,\"ticks\":\"\"}},\"type\":\"scattermap\"}],\"scatterpolargl\":[{\"marker\":{\"colorbar\":{\"outlinewidth\":0,\"ticks\":\"\"}},\"type\":\"scatterpolargl\"}],\"scatterpolar\":[{\"marker\":{\"colorbar\":{\"outlinewidth\":0,\"ticks\":\"\"}},\"type\":\"scatterpolar\"}],\"scatter\":[{\"marker\":{\"line\":{\"color\":\"#283442\"}},\"type\":\"scatter\"}],\"scatterternary\":[{\"marker\":{\"colorbar\":{\"outlinewidth\":0,\"ticks\":\"\"}},\"type\":\"scatterternary\"}],\"surface\":[{\"colorbar\":{\"outlinewidth\":0,\"ticks\":\"\"},\"colorscale\":[[0.0,\"#0d0887\"],[0.1111111111111111,\"#46039f\"],[0.2222222222222222,\"#7201a8\"],[0.3333333333333333,\"#9c179e\"],[0.4444444444444444,\"#bd3786\"],[0.5555555555555556,\"#d8576b\"],[0.6666666666666666,\"#ed7953\"],[0.7777777777777778,\"#fb9f3a\"],[0.8888888888888888,\"#fdca26\"],[1.0,\"#f0f921\"]],\"type\":\"surface\"}],\"table\":[{\"cells\":{\"fill\":{\"color\":\"#506784\"},\"line\":{\"color\":\"rgb(17,17,17)\"}},\"header\":{\"fill\":{\"color\":\"#2a3f5f\"},\"line\":{\"color\":\"rgb(17,17,17)\"}},\"type\":\"table\"}]},\"layout\":{\"annotationdefaults\":{\"arrowcolor\":\"#f2f5fa\",\"arrowhead\":0,\"arrowwidth\":1},\"autotypenumbers\":\"strict\",\"coloraxis\":{\"colorbar\":{\"outlinewidth\":0,\"ticks\":\"\"}},\"colorscale\":{\"diverging\":[[0,\"#8e0152\"],[0.1,\"#c51b7d\"],[0.2,\"#de77ae\"],[0.3,\"#f1b6da\"],[0.4,\"#fde0ef\"],[0.5,\"#f7f7f7\"],[0.6,\"#e6f5d0\"],[0.7,\"#b8e186\"],[0.8,\"#7fbc41\"],[0.9,\"#4d9221\"],[1,\"#276419\"]],\"sequential\":[[0.0,\"#0d0887\"],[0.1111111111111111,\"#46039f\"],[0.2222222222222222,\"#7201a8\"],[0.3333333333333333,\"#9c179e\"],[0.4444444444444444,\"#bd3786\"],[0.5555555555555556,\"#d8576b\"],[0.6666666666666666,\"#ed7953\"],[0.7777777777777778,\"#fb9f3a\"],[0.8888888888888888,\"#fdca26\"],[1.0,\"#f0f921\"]],\"sequentialminus\":[[0.0,\"#0d0887\"],[0.1111111111111111,\"#46039f\"],[0.2222222222222222,\"#7201a8\"],[0.3333333333333333,\"#9c179e\"],[0.4444444444444444,\"#bd3786\"],[0.5555555555555556,\"#d8576b\"],[0.6666666666666666,\"#ed7953\"],[0.7777777777777778,\"#fb9f3a\"],[0.8888888888888888,\"#fdca26\"],[1.0,\"#f0f921\"]]},\"colorway\":[\"#636efa\",\"#EF553B\",\"#00cc96\",\"#ab63fa\",\"#FFA15A\",\"#19d3f3\",\"#FF6692\",\"#B6E880\",\"#FF97FF\",\"#FECB52\"],\"font\":{\"color\":\"#f2f5fa\"},\"geo\":{\"bgcolor\":\"rgb(17,17,17)\",\"lakecolor\":\"rgb(17,17,17)\",\"landcolor\":\"rgb(17,17,17)\",\"showlakes\":true,\"showland\":true,\"subunitcolor\":\"#506784\"},\"hoverlabel\":{\"align\":\"left\"},\"hovermode\":\"closest\",\"mapbox\":{\"style\":\"dark\"},\"paper_bgcolor\":\"rgb(17,17,17)\",\"plot_bgcolor\":\"rgb(17,17,17)\",\"polar\":{\"angularaxis\":{\"gridcolor\":\"#506784\",\"linecolor\":\"#506784\",\"ticks\":\"\"},\"bgcolor\":\"rgb(17,17,17)\",\"radialaxis\":{\"gridcolor\":\"#506784\",\"linecolor\":\"#506784\",\"ticks\":\"\"}},\"scene\":{\"xaxis\":{\"backgroundcolor\":\"rgb(17,17,17)\",\"gridcolor\":\"#506784\",\"gridwidth\":2,\"linecolor\":\"#506784\",\"showbackground\":true,\"ticks\":\"\",\"zerolinecolor\":\"#C8D4E3\"},\"yaxis\":{\"backgroundcolor\":\"rgb(17,17,17)\",\"gridcolor\":\"#506784\",\"gridwidth\":2,\"linecolor\":\"#506784\",\"showbackground\":true,\"ticks\":\"\",\"zerolinecolor\":\"#C8D4E3\"},\"zaxis\":{\"backgroundcolor\":\"rgb(17,17,17)\",\"gridcolor\":\"#506784\",\"gridwidth\":2,\"linecolor\":\"#506784\",\"showbackground\":true,\"ticks\":\"\",\"zerolinecolor\":\"#C8D4E3\"}},\"shapedefaults\":{\"line\":{\"color\":\"#f2f5fa\"}},\"sliderdefaults\":{\"bgcolor\":\"#C8D4E3\",\"bordercolor\":\"rgb(17,17,17)\",\"borderwidth\":1,\"tickwidth\":0},\"ternary\":{\"aaxis\":{\"gridcolor\":\"#506784\",\"linecolor\":\"#506784\",\"ticks\":\"\"},\"baxis\":{\"gridcolor\":\"#506784\",\"linecolor\":\"#506784\",\"ticks\":\"\"},\"bgcolor\":\"rgb(17,17,17)\",\"caxis\":{\"gridcolor\":\"#506784\",\"linecolor\":\"#506784\",\"ticks\":\"\"}},\"title\":{\"x\":0.05},\"updatemenudefaults\":{\"bgcolor\":\"#506784\",\"borderwidth\":0},\"xaxis\":{\"automargin\":true,\"gridcolor\":\"#283442\",\"linecolor\":\"#506784\",\"ticks\":\"\",\"title\":{\"standoff\":15},\"zerolinecolor\":\"#283442\",\"zerolinewidth\":2},\"yaxis\":{\"automargin\":true,\"gridcolor\":\"#283442\",\"linecolor\":\"#506784\",\"ticks\":\"\",\"title\":{\"standoff\":15},\"zerolinecolor\":\"#283442\",\"zerolinewidth\":2}}},\"title\":{\"text\":\"AAPL Stock Price Prediction (Interactive)\"},\"xaxis\":{\"title\":{\"text\":\"Date\"}},\"yaxis\":{\"title\":{\"text\":\"Close Price\"}}},                        {\"responsive\": true}                    ).then(function(){\n",
       "                            \n",
       "var gd = document.getElementById('870a1c8e-6979-4a90-9e33-a48560fc4eb3');\n",
       "var x = new MutationObserver(function (mutations, observer) {{\n",
       "        var display = window.getComputedStyle(gd).display;\n",
       "        if (!display || display === 'none') {{\n",
       "            console.log([gd, 'removed!']);\n",
       "            Plotly.purge(gd);\n",
       "            observer.disconnect();\n",
       "        }}\n",
       "}});\n",
       "\n",
       "// Listen for the removal of the full notebook cells\n",
       "var notebookContainer = gd.closest('#notebook-container');\n",
       "if (notebookContainer) {{\n",
       "    x.observe(notebookContainer, {childList: true});\n",
       "}}\n",
       "\n",
       "// Listen for the clearing of the current output cell\n",
       "var outputEl = gd.closest('.output');\n",
       "if (outputEl) {{\n",
       "    x.observe(outputEl, {childList: true});\n",
       "}}\n",
       "\n",
       "                        })                };            </script>        </div>"
      ]
     },
     "metadata": {},
     "output_type": "display_data"
    }
   ],
   "source": [
    "import plotly.graph_objects as go\n",
    "\n",
    "fig = go.Figure()\n",
    "fig.add_trace(go.Scatter(x=data['Date'], y=data['Close'], mode='lines', name='Original Close Price'))\n",
    "fig.add_trace(go.Scatter(x=future_df['Date'], y=future_df['Predicted_Close'], mode='lines', name='Future Prediction'))\n",
    "\n",
    "fig.update_layout(title='AAPL Stock Price Prediction (Interactive)',\n",
    "                  xaxis_title='Date', yaxis_title='Close Price',\n",
    "                  template='plotly_dark')\n",
    "fig.show()"
   ]
  },
  {
   "cell_type": "code",
   "execution_count": null,
   "id": "4ebffdfd-625c-4cb5-8fd4-6d4a8fbfdbcf",
   "metadata": {},
   "outputs": [],
   "source": []
  }
 ],
 "metadata": {
  "kernelspec": {
   "display_name": "Python 3 (ipykernel)",
   "language": "python",
   "name": "python3"
  },
  "language_info": {
   "codemirror_mode": {
    "name": "ipython",
    "version": 3
   },
   "file_extension": ".py",
   "mimetype": "text/x-python",
   "name": "python",
   "nbconvert_exporter": "python",
   "pygments_lexer": "ipython3",
   "version": "3.13.3"
  }
 },
 "nbformat": 4,
 "nbformat_minor": 5
}
